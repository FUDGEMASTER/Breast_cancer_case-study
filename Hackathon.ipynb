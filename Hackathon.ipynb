{
  "nbformat": 4,
  "nbformat_minor": 0,
  "metadata": {
    "colab": {
      "name": "Hackathon.ipynb",
      "provenance": [],
      "include_colab_link": true
    },
    "kernelspec": {
      "name": "python3",
      "display_name": "Python 3"
    }
  },
  "cells": [
    {
      "cell_type": "markdown",
      "metadata": {
        "id": "view-in-github",
        "colab_type": "text"
      },
      "source": [
        "<a href=\"https://colab.research.google.com/github/FUDGEMASTER/Breast_cancer_case-study/blob/master/Hackathon.ipynb\" target=\"_parent\"><img src=\"https://colab.research.google.com/assets/colab-badge.svg\" alt=\"Open In Colab\"/></a>"
      ]
    },
    {
      "cell_type": "markdown",
      "metadata": {
        "id": "n9GCHQJlWW45"
      },
      "source": [
        "**Importing Libraries**\n",
        "\n"
      ]
    },
    {
      "cell_type": "code",
      "metadata": {
        "id": "n2tHFaBqWc_M",
        "outputId": "ef77aa98-88de-4bb8-9f25-b523d6af13f8",
        "colab": {
          "base_uri": "https://localhost:8080/"
        }
      },
      "source": [
        "import pandas as pd\n",
        "import numpy as np\n",
        "from sklearn.impute import SimpleImputer\n",
        "from scipy import stats\n",
        "from mlxtend.preprocessing import minmax_scaling\n",
        "import seaborn as sns\n",
        "import matplotlib.pyplot as plt\n",
        "from scipy.stats import kurtosis\n",
        "from sklearn.preprocessing import LabelEncoder\n",
        "from sklearn.model_selection import train_test_split\n",
        "from sklearn.dummy import DummyClassifier\n",
        "from imblearn.over_sampling import SMOTE\n",
        "from sklearn.model_selection import RandomizedSearchCV\n",
        "from sklearn.model_selection import GridSearchCV\n",
        "from sklearn.metrics import make_scorer\n",
        "from sklearn.metrics import accuracy_score\n",
        "from sklearn.metrics import precision_score\n",
        "from sklearn.metrics import recall_score\n",
        "from sklearn.metrics import f1_score\n",
        "from sklearn.model_selection import cross_validate\n",
        "from sklearn.linear_model import LogisticRegression\n",
        "from sklearn.svm import LinearSVC\n",
        "from sklearn.tree import DecisionTreeClassifier\n",
        "from sklearn.ensemble import RandomForestClassifier\n",
        "from sklearn.naive_bayes import GaussianNB\n",
        "from sklearn.feature_selection import SelectKBest, f_classif\n",
        "from sklearn.model_selection import cross_val_score\n",
        "from sklearn.neural_network import MLPClassifier\n",
        "from sklearn.metrics import confusion_matrix\n",
        "from xgboost import XGBClassifier\n",
        "from sklearn.pipeline import Pipeline\n",
        "from sklearn.preprocessing import StandardScaler\n",
        "from sklearn.preprocessing import MinMaxScaler\n",
        "from sklearn.discriminant_analysis import LinearDiscriminantAnalysis\n",
        "from sklearn.decomposition import PCA\n",
        "from sklearn.svm import SVC\n",
        "\n",
        "\n",
        "\n"
      ],
      "execution_count": null,
      "outputs": [
        {
          "output_type": "stream",
          "text": [
            "/usr/local/lib/python3.6/dist-packages/sklearn/externals/six.py:31: FutureWarning: The module is deprecated in version 0.21 and will be removed in version 0.23 since we've dropped support for Python 2.7. Please rely on the official version of six (https://pypi.org/project/six/).\n",
            "  \"(https://pypi.org/project/six/).\", FutureWarning)\n",
            "/usr/local/lib/python3.6/dist-packages/sklearn/utils/deprecation.py:144: FutureWarning: The sklearn.neighbors.base module is  deprecated in version 0.22 and will be removed in version 0.24. The corresponding classes / functions should instead be imported from sklearn.neighbors. Anything that cannot be imported from sklearn.neighbors is now part of the private API.\n",
            "  warnings.warn(message, FutureWarning)\n"
          ],
          "name": "stderr"
        }
      ]
    },
    {
      "cell_type": "code",
      "metadata": {
        "id": "_gVbJNrNSNpK"
      },
      "source": [
        "from pydrive.auth import GoogleAuth\n",
        "from pydrive.drive import GoogleDrive\n",
        "from google.colab import auth\n",
        "from oauth2client.client import GoogleCredentials"
      ],
      "execution_count": null,
      "outputs": []
    },
    {
      "cell_type": "code",
      "metadata": {
        "id": "F3xS0g4qSVxa"
      },
      "source": [
        "auth.authenticate_user()\n",
        "gauth = GoogleAuth()\n",
        "gauth.credentials = GoogleCredentials.get_application_default()\n",
        "drive = GoogleDrive(gauth)"
      ],
      "execution_count": null,
      "outputs": []
    },
    {
      "cell_type": "code",
      "metadata": {
        "id": "bK_VzTQoSa2k"
      },
      "source": [
        "downloaded = drive.CreateFile({'id':\"1FttBvXlR5lC45E2Y3INmpJeuiAXhytfj\"})   \n",
        "downloaded.GetContentFile('hackathon dataset.csv')       "
      ],
      "execution_count": null,
      "outputs": []
    },
    {
      "cell_type": "code",
      "metadata": {
        "id": "QBowvJlIWhsH",
        "outputId": "44eeb16d-7cd6-4144-834e-be07e562d04f",
        "colab": {
          "base_uri": "https://localhost:8080/",
          "height": 195
        }
      },
      "source": [
        "hackathon = pd.read_csv('hackathon dataset.csv') #Load the dataset\n",
        "hackathon.head()"
      ],
      "execution_count": null,
      "outputs": [
        {
          "output_type": "execute_result",
          "data": {
            "text/html": [
              "<div>\n",
              "<style scoped>\n",
              "    .dataframe tbody tr th:only-of-type {\n",
              "        vertical-align: middle;\n",
              "    }\n",
              "\n",
              "    .dataframe tbody tr th {\n",
              "        vertical-align: top;\n",
              "    }\n",
              "\n",
              "    .dataframe thead th {\n",
              "        text-align: right;\n",
              "    }\n",
              "</style>\n",
              "<table border=\"1\" class=\"dataframe\">\n",
              "  <thead>\n",
              "    <tr style=\"text-align: right;\">\n",
              "      <th></th>\n",
              "      <th>1</th>\n",
              "      <th>39</th>\n",
              "      <th>4</th>\n",
              "      <th>0</th>\n",
              "      <th>0.1</th>\n",
              "      <th>0.2</th>\n",
              "      <th>0.3</th>\n",
              "      <th>0.4</th>\n",
              "      <th>0.5</th>\n",
              "      <th>195</th>\n",
              "      <th>106</th>\n",
              "      <th>70</th>\n",
              "      <th>26.97</th>\n",
              "      <th>80</th>\n",
              "      <th>77</th>\n",
              "      <th>0.6</th>\n",
              "    </tr>\n",
              "  </thead>\n",
              "  <tbody>\n",
              "    <tr>\n",
              "      <th>0</th>\n",
              "      <td>0</td>\n",
              "      <td>46</td>\n",
              "      <td>2.0</td>\n",
              "      <td>0</td>\n",
              "      <td>0.0</td>\n",
              "      <td>0.0</td>\n",
              "      <td>0</td>\n",
              "      <td>0</td>\n",
              "      <td>0</td>\n",
              "      <td>250.0</td>\n",
              "      <td>121.0</td>\n",
              "      <td>81.0</td>\n",
              "      <td>28.73</td>\n",
              "      <td>95.0</td>\n",
              "      <td>76.0</td>\n",
              "      <td>0</td>\n",
              "    </tr>\n",
              "    <tr>\n",
              "      <th>1</th>\n",
              "      <td>1</td>\n",
              "      <td>48</td>\n",
              "      <td>1.0</td>\n",
              "      <td>1</td>\n",
              "      <td>20.0</td>\n",
              "      <td>0.0</td>\n",
              "      <td>0</td>\n",
              "      <td>0</td>\n",
              "      <td>0</td>\n",
              "      <td>245.0</td>\n",
              "      <td>127.5</td>\n",
              "      <td>80.0</td>\n",
              "      <td>25.34</td>\n",
              "      <td>75.0</td>\n",
              "      <td>70.0</td>\n",
              "      <td>0</td>\n",
              "    </tr>\n",
              "    <tr>\n",
              "      <th>2</th>\n",
              "      <td>0</td>\n",
              "      <td>61</td>\n",
              "      <td>3.0</td>\n",
              "      <td>1</td>\n",
              "      <td>30.0</td>\n",
              "      <td>0.0</td>\n",
              "      <td>0</td>\n",
              "      <td>1</td>\n",
              "      <td>0</td>\n",
              "      <td>225.0</td>\n",
              "      <td>150.0</td>\n",
              "      <td>95.0</td>\n",
              "      <td>28.58</td>\n",
              "      <td>65.0</td>\n",
              "      <td>103.0</td>\n",
              "      <td>1</td>\n",
              "    </tr>\n",
              "    <tr>\n",
              "      <th>3</th>\n",
              "      <td>0</td>\n",
              "      <td>46</td>\n",
              "      <td>3.0</td>\n",
              "      <td>1</td>\n",
              "      <td>23.0</td>\n",
              "      <td>0.0</td>\n",
              "      <td>0</td>\n",
              "      <td>0</td>\n",
              "      <td>0</td>\n",
              "      <td>285.0</td>\n",
              "      <td>130.0</td>\n",
              "      <td>84.0</td>\n",
              "      <td>23.10</td>\n",
              "      <td>85.0</td>\n",
              "      <td>85.0</td>\n",
              "      <td>0</td>\n",
              "    </tr>\n",
              "    <tr>\n",
              "      <th>4</th>\n",
              "      <td>0</td>\n",
              "      <td>43</td>\n",
              "      <td>2.0</td>\n",
              "      <td>0</td>\n",
              "      <td>0.0</td>\n",
              "      <td>0.0</td>\n",
              "      <td>0</td>\n",
              "      <td>1</td>\n",
              "      <td>0</td>\n",
              "      <td>228.0</td>\n",
              "      <td>180.0</td>\n",
              "      <td>110.0</td>\n",
              "      <td>30.30</td>\n",
              "      <td>77.0</td>\n",
              "      <td>99.0</td>\n",
              "      <td>0</td>\n",
              "    </tr>\n",
              "  </tbody>\n",
              "</table>\n",
              "</div>"
            ],
            "text/plain": [
              "   1  39    4  0   0.1  0.2  0.3  ...    195    106     70  26.97    80     77  0.6\n",
              "0  0  46  2.0  0   0.0  0.0    0  ...  250.0  121.0   81.0  28.73  95.0   76.0    0\n",
              "1  1  48  1.0  1  20.0  0.0    0  ...  245.0  127.5   80.0  25.34  75.0   70.0    0\n",
              "2  0  61  3.0  1  30.0  0.0    0  ...  225.0  150.0   95.0  28.58  65.0  103.0    1\n",
              "3  0  46  3.0  1  23.0  0.0    0  ...  285.0  130.0   84.0  23.10  85.0   85.0    0\n",
              "4  0  43  2.0  0   0.0  0.0    0  ...  228.0  180.0  110.0  30.30  77.0   99.0    0\n",
              "\n",
              "[5 rows x 16 columns]"
            ]
          },
          "metadata": {
            "tags": []
          },
          "execution_count": 5
        }
      ]
    },
    {
      "cell_type": "markdown",
      "metadata": {
        "id": "NGGWJs2gcrU0"
      },
      "source": [
        "## **Renaming Columns**"
      ]
    },
    {
      "cell_type": "code",
      "metadata": {
        "id": "bgltlcSiXWQk",
        "outputId": "cfcf7fdd-e265-41c7-e8e1-aacc0d2016fb",
        "colab": {
          "base_uri": "https://localhost:8080/",
          "height": 195
        }
      },
      "source": [
        "new_row = pd.DataFrame({'1':1, '39':39, '4':4, '0':0, '0.1':0.1, '0.2':0.2, '0.3':0.3, '0.4':0.4, '0.5':0.5, '195':195, '106':106, '70':70, '26.97':26.97, '80':80,'77':77, '0.6':0.6 }, index =[0])\n",
        "hackathon = pd.concat([new_row, hackathon]).reset_index(drop = True) \n",
        "#Appending a row at the beginning of the dataset with the same value as columnname\n",
        "hackathon.head(5)"
      ],
      "execution_count": null,
      "outputs": [
        {
          "output_type": "execute_result",
          "data": {
            "text/html": [
              "<div>\n",
              "<style scoped>\n",
              "    .dataframe tbody tr th:only-of-type {\n",
              "        vertical-align: middle;\n",
              "    }\n",
              "\n",
              "    .dataframe tbody tr th {\n",
              "        vertical-align: top;\n",
              "    }\n",
              "\n",
              "    .dataframe thead th {\n",
              "        text-align: right;\n",
              "    }\n",
              "</style>\n",
              "<table border=\"1\" class=\"dataframe\">\n",
              "  <thead>\n",
              "    <tr style=\"text-align: right;\">\n",
              "      <th></th>\n",
              "      <th>1</th>\n",
              "      <th>39</th>\n",
              "      <th>4</th>\n",
              "      <th>0</th>\n",
              "      <th>0.1</th>\n",
              "      <th>0.2</th>\n",
              "      <th>0.3</th>\n",
              "      <th>0.4</th>\n",
              "      <th>0.5</th>\n",
              "      <th>195</th>\n",
              "      <th>106</th>\n",
              "      <th>70</th>\n",
              "      <th>26.97</th>\n",
              "      <th>80</th>\n",
              "      <th>77</th>\n",
              "      <th>0.6</th>\n",
              "    </tr>\n",
              "  </thead>\n",
              "  <tbody>\n",
              "    <tr>\n",
              "      <th>0</th>\n",
              "      <td>1</td>\n",
              "      <td>39</td>\n",
              "      <td>4.0</td>\n",
              "      <td>0</td>\n",
              "      <td>0.1</td>\n",
              "      <td>0.2</td>\n",
              "      <td>0.3</td>\n",
              "      <td>0.4</td>\n",
              "      <td>0.5</td>\n",
              "      <td>195.0</td>\n",
              "      <td>106.0</td>\n",
              "      <td>70.0</td>\n",
              "      <td>26.97</td>\n",
              "      <td>80.0</td>\n",
              "      <td>77.0</td>\n",
              "      <td>0.6</td>\n",
              "    </tr>\n",
              "    <tr>\n",
              "      <th>1</th>\n",
              "      <td>0</td>\n",
              "      <td>46</td>\n",
              "      <td>2.0</td>\n",
              "      <td>0</td>\n",
              "      <td>0.0</td>\n",
              "      <td>0.0</td>\n",
              "      <td>0.0</td>\n",
              "      <td>0.0</td>\n",
              "      <td>0.0</td>\n",
              "      <td>250.0</td>\n",
              "      <td>121.0</td>\n",
              "      <td>81.0</td>\n",
              "      <td>28.73</td>\n",
              "      <td>95.0</td>\n",
              "      <td>76.0</td>\n",
              "      <td>0.0</td>\n",
              "    </tr>\n",
              "    <tr>\n",
              "      <th>2</th>\n",
              "      <td>1</td>\n",
              "      <td>48</td>\n",
              "      <td>1.0</td>\n",
              "      <td>1</td>\n",
              "      <td>20.0</td>\n",
              "      <td>0.0</td>\n",
              "      <td>0.0</td>\n",
              "      <td>0.0</td>\n",
              "      <td>0.0</td>\n",
              "      <td>245.0</td>\n",
              "      <td>127.5</td>\n",
              "      <td>80.0</td>\n",
              "      <td>25.34</td>\n",
              "      <td>75.0</td>\n",
              "      <td>70.0</td>\n",
              "      <td>0.0</td>\n",
              "    </tr>\n",
              "    <tr>\n",
              "      <th>3</th>\n",
              "      <td>0</td>\n",
              "      <td>61</td>\n",
              "      <td>3.0</td>\n",
              "      <td>1</td>\n",
              "      <td>30.0</td>\n",
              "      <td>0.0</td>\n",
              "      <td>0.0</td>\n",
              "      <td>1.0</td>\n",
              "      <td>0.0</td>\n",
              "      <td>225.0</td>\n",
              "      <td>150.0</td>\n",
              "      <td>95.0</td>\n",
              "      <td>28.58</td>\n",
              "      <td>65.0</td>\n",
              "      <td>103.0</td>\n",
              "      <td>1.0</td>\n",
              "    </tr>\n",
              "    <tr>\n",
              "      <th>4</th>\n",
              "      <td>0</td>\n",
              "      <td>46</td>\n",
              "      <td>3.0</td>\n",
              "      <td>1</td>\n",
              "      <td>23.0</td>\n",
              "      <td>0.0</td>\n",
              "      <td>0.0</td>\n",
              "      <td>0.0</td>\n",
              "      <td>0.0</td>\n",
              "      <td>285.0</td>\n",
              "      <td>130.0</td>\n",
              "      <td>84.0</td>\n",
              "      <td>23.10</td>\n",
              "      <td>85.0</td>\n",
              "      <td>85.0</td>\n",
              "      <td>0.0</td>\n",
              "    </tr>\n",
              "  </tbody>\n",
              "</table>\n",
              "</div>"
            ],
            "text/plain": [
              "   1  39    4  0   0.1  0.2  0.3  ...    195    106    70  26.97    80     77  0.6\n",
              "0  1  39  4.0  0   0.1  0.2  0.3  ...  195.0  106.0  70.0  26.97  80.0   77.0  0.6\n",
              "1  0  46  2.0  0   0.0  0.0  0.0  ...  250.0  121.0  81.0  28.73  95.0   76.0  0.0\n",
              "2  1  48  1.0  1  20.0  0.0  0.0  ...  245.0  127.5  80.0  25.34  75.0   70.0  0.0\n",
              "3  0  61  3.0  1  30.0  0.0  0.0  ...  225.0  150.0  95.0  28.58  65.0  103.0  1.0\n",
              "4  0  46  3.0  1  23.0  0.0  0.0  ...  285.0  130.0  84.0  23.10  85.0   85.0  0.0\n",
              "\n",
              "[5 rows x 16 columns]"
            ]
          },
          "metadata": {
            "tags": []
          },
          "execution_count": 7
        }
      ]
    },
    {
      "cell_type": "code",
      "metadata": {
        "id": "KosyfXDyZlIm",
        "outputId": "cfcf31dd-b926-49e8-ffcb-a48fecba0cb5",
        "colab": {
          "base_uri": "https://localhost:8080/",
          "height": 195
        }
      },
      "source": [
        "hackathon = hackathon.rename(columns = {'1':1, '39':'2', '4':'3', \n",
        "                        '0':'4', '0.1':'5', '0.2':'6', \n",
        "                        '0.3':'7', '0.4':'8', '0.5':'9', '195':'10', '106':'11', '70':'12', '26.97':'13', '80':'14','77':'15', '0.6':'16' })\n",
        "hackathon.head()\n"
      ],
      "execution_count": null,
      "outputs": [
        {
          "output_type": "execute_result",
          "data": {
            "text/html": [
              "<div>\n",
              "<style scoped>\n",
              "    .dataframe tbody tr th:only-of-type {\n",
              "        vertical-align: middle;\n",
              "    }\n",
              "\n",
              "    .dataframe tbody tr th {\n",
              "        vertical-align: top;\n",
              "    }\n",
              "\n",
              "    .dataframe thead th {\n",
              "        text-align: right;\n",
              "    }\n",
              "</style>\n",
              "<table border=\"1\" class=\"dataframe\">\n",
              "  <thead>\n",
              "    <tr style=\"text-align: right;\">\n",
              "      <th></th>\n",
              "      <th>1</th>\n",
              "      <th>2</th>\n",
              "      <th>3</th>\n",
              "      <th>4</th>\n",
              "      <th>5</th>\n",
              "      <th>6</th>\n",
              "      <th>7</th>\n",
              "      <th>8</th>\n",
              "      <th>9</th>\n",
              "      <th>10</th>\n",
              "      <th>11</th>\n",
              "      <th>12</th>\n",
              "      <th>13</th>\n",
              "      <th>14</th>\n",
              "      <th>15</th>\n",
              "      <th>16</th>\n",
              "    </tr>\n",
              "  </thead>\n",
              "  <tbody>\n",
              "    <tr>\n",
              "      <th>0</th>\n",
              "      <td>1</td>\n",
              "      <td>39</td>\n",
              "      <td>4.0</td>\n",
              "      <td>0</td>\n",
              "      <td>0.1</td>\n",
              "      <td>0.2</td>\n",
              "      <td>0.3</td>\n",
              "      <td>0.4</td>\n",
              "      <td>0.5</td>\n",
              "      <td>195.0</td>\n",
              "      <td>106.0</td>\n",
              "      <td>70.0</td>\n",
              "      <td>26.97</td>\n",
              "      <td>80.0</td>\n",
              "      <td>77.0</td>\n",
              "      <td>0.6</td>\n",
              "    </tr>\n",
              "    <tr>\n",
              "      <th>1</th>\n",
              "      <td>0</td>\n",
              "      <td>46</td>\n",
              "      <td>2.0</td>\n",
              "      <td>0</td>\n",
              "      <td>0.0</td>\n",
              "      <td>0.0</td>\n",
              "      <td>0.0</td>\n",
              "      <td>0.0</td>\n",
              "      <td>0.0</td>\n",
              "      <td>250.0</td>\n",
              "      <td>121.0</td>\n",
              "      <td>81.0</td>\n",
              "      <td>28.73</td>\n",
              "      <td>95.0</td>\n",
              "      <td>76.0</td>\n",
              "      <td>0.0</td>\n",
              "    </tr>\n",
              "    <tr>\n",
              "      <th>2</th>\n",
              "      <td>1</td>\n",
              "      <td>48</td>\n",
              "      <td>1.0</td>\n",
              "      <td>1</td>\n",
              "      <td>20.0</td>\n",
              "      <td>0.0</td>\n",
              "      <td>0.0</td>\n",
              "      <td>0.0</td>\n",
              "      <td>0.0</td>\n",
              "      <td>245.0</td>\n",
              "      <td>127.5</td>\n",
              "      <td>80.0</td>\n",
              "      <td>25.34</td>\n",
              "      <td>75.0</td>\n",
              "      <td>70.0</td>\n",
              "      <td>0.0</td>\n",
              "    </tr>\n",
              "    <tr>\n",
              "      <th>3</th>\n",
              "      <td>0</td>\n",
              "      <td>61</td>\n",
              "      <td>3.0</td>\n",
              "      <td>1</td>\n",
              "      <td>30.0</td>\n",
              "      <td>0.0</td>\n",
              "      <td>0.0</td>\n",
              "      <td>1.0</td>\n",
              "      <td>0.0</td>\n",
              "      <td>225.0</td>\n",
              "      <td>150.0</td>\n",
              "      <td>95.0</td>\n",
              "      <td>28.58</td>\n",
              "      <td>65.0</td>\n",
              "      <td>103.0</td>\n",
              "      <td>1.0</td>\n",
              "    </tr>\n",
              "    <tr>\n",
              "      <th>4</th>\n",
              "      <td>0</td>\n",
              "      <td>46</td>\n",
              "      <td>3.0</td>\n",
              "      <td>1</td>\n",
              "      <td>23.0</td>\n",
              "      <td>0.0</td>\n",
              "      <td>0.0</td>\n",
              "      <td>0.0</td>\n",
              "      <td>0.0</td>\n",
              "      <td>285.0</td>\n",
              "      <td>130.0</td>\n",
              "      <td>84.0</td>\n",
              "      <td>23.10</td>\n",
              "      <td>85.0</td>\n",
              "      <td>85.0</td>\n",
              "      <td>0.0</td>\n",
              "    </tr>\n",
              "  </tbody>\n",
              "</table>\n",
              "</div>"
            ],
            "text/plain": [
              "   1   2    3  4     5    6    7  ...     10     11    12     13    14     15   16\n",
              "0  1  39  4.0  0   0.1  0.2  0.3  ...  195.0  106.0  70.0  26.97  80.0   77.0  0.6\n",
              "1  0  46  2.0  0   0.0  0.0  0.0  ...  250.0  121.0  81.0  28.73  95.0   76.0  0.0\n",
              "2  1  48  1.0  1  20.0  0.0  0.0  ...  245.0  127.5  80.0  25.34  75.0   70.0  0.0\n",
              "3  0  61  3.0  1  30.0  0.0  0.0  ...  225.0  150.0  95.0  28.58  65.0  103.0  1.0\n",
              "4  0  46  3.0  1  23.0  0.0  0.0  ...  285.0  130.0  84.0  23.10  85.0   85.0  0.0\n",
              "\n",
              "[5 rows x 16 columns]"
            ]
          },
          "metadata": {
            "tags": []
          },
          "execution_count": 8
        }
      ]
    },
    {
      "cell_type": "code",
      "metadata": {
        "id": "zJx0IINTbTpm",
        "outputId": "2a863bae-aa2d-43db-fa75-8cd674aec7ed",
        "colab": {
          "base_uri": "https://localhost:8080/",
          "height": 402
        }
      },
      "source": [
        "#hackathon = hackathon.drop(1)     #dropping duplicated rows \n",
        "hackathon"
      ],
      "execution_count": null,
      "outputs": [
        {
          "output_type": "execute_result",
          "data": {
            "text/html": [
              "<div>\n",
              "<style scoped>\n",
              "    .dataframe tbody tr th:only-of-type {\n",
              "        vertical-align: middle;\n",
              "    }\n",
              "\n",
              "    .dataframe tbody tr th {\n",
              "        vertical-align: top;\n",
              "    }\n",
              "\n",
              "    .dataframe thead th {\n",
              "        text-align: right;\n",
              "    }\n",
              "</style>\n",
              "<table border=\"1\" class=\"dataframe\">\n",
              "  <thead>\n",
              "    <tr style=\"text-align: right;\">\n",
              "      <th></th>\n",
              "      <th>1</th>\n",
              "      <th>2</th>\n",
              "      <th>3</th>\n",
              "      <th>4</th>\n",
              "      <th>5</th>\n",
              "      <th>6</th>\n",
              "      <th>7</th>\n",
              "      <th>8</th>\n",
              "      <th>9</th>\n",
              "      <th>10</th>\n",
              "      <th>11</th>\n",
              "      <th>12</th>\n",
              "      <th>13</th>\n",
              "      <th>14</th>\n",
              "      <th>15</th>\n",
              "      <th>16</th>\n",
              "    </tr>\n",
              "  </thead>\n",
              "  <tbody>\n",
              "    <tr>\n",
              "      <th>0</th>\n",
              "      <td>1</td>\n",
              "      <td>39</td>\n",
              "      <td>4.0</td>\n",
              "      <td>0</td>\n",
              "      <td>0.1</td>\n",
              "      <td>0.2</td>\n",
              "      <td>0.3</td>\n",
              "      <td>0.4</td>\n",
              "      <td>0.5</td>\n",
              "      <td>195.0</td>\n",
              "      <td>106.0</td>\n",
              "      <td>70.0</td>\n",
              "      <td>26.97</td>\n",
              "      <td>80.0</td>\n",
              "      <td>77.0</td>\n",
              "      <td>0.6</td>\n",
              "    </tr>\n",
              "    <tr>\n",
              "      <th>1</th>\n",
              "      <td>0</td>\n",
              "      <td>46</td>\n",
              "      <td>2.0</td>\n",
              "      <td>0</td>\n",
              "      <td>0.0</td>\n",
              "      <td>0.0</td>\n",
              "      <td>0.0</td>\n",
              "      <td>0.0</td>\n",
              "      <td>0.0</td>\n",
              "      <td>250.0</td>\n",
              "      <td>121.0</td>\n",
              "      <td>81.0</td>\n",
              "      <td>28.73</td>\n",
              "      <td>95.0</td>\n",
              "      <td>76.0</td>\n",
              "      <td>0.0</td>\n",
              "    </tr>\n",
              "    <tr>\n",
              "      <th>2</th>\n",
              "      <td>1</td>\n",
              "      <td>48</td>\n",
              "      <td>1.0</td>\n",
              "      <td>1</td>\n",
              "      <td>20.0</td>\n",
              "      <td>0.0</td>\n",
              "      <td>0.0</td>\n",
              "      <td>0.0</td>\n",
              "      <td>0.0</td>\n",
              "      <td>245.0</td>\n",
              "      <td>127.5</td>\n",
              "      <td>80.0</td>\n",
              "      <td>25.34</td>\n",
              "      <td>75.0</td>\n",
              "      <td>70.0</td>\n",
              "      <td>0.0</td>\n",
              "    </tr>\n",
              "    <tr>\n",
              "      <th>3</th>\n",
              "      <td>0</td>\n",
              "      <td>61</td>\n",
              "      <td>3.0</td>\n",
              "      <td>1</td>\n",
              "      <td>30.0</td>\n",
              "      <td>0.0</td>\n",
              "      <td>0.0</td>\n",
              "      <td>1.0</td>\n",
              "      <td>0.0</td>\n",
              "      <td>225.0</td>\n",
              "      <td>150.0</td>\n",
              "      <td>95.0</td>\n",
              "      <td>28.58</td>\n",
              "      <td>65.0</td>\n",
              "      <td>103.0</td>\n",
              "      <td>1.0</td>\n",
              "    </tr>\n",
              "    <tr>\n",
              "      <th>4</th>\n",
              "      <td>0</td>\n",
              "      <td>46</td>\n",
              "      <td>3.0</td>\n",
              "      <td>1</td>\n",
              "      <td>23.0</td>\n",
              "      <td>0.0</td>\n",
              "      <td>0.0</td>\n",
              "      <td>0.0</td>\n",
              "      <td>0.0</td>\n",
              "      <td>285.0</td>\n",
              "      <td>130.0</td>\n",
              "      <td>84.0</td>\n",
              "      <td>23.10</td>\n",
              "      <td>85.0</td>\n",
              "      <td>85.0</td>\n",
              "      <td>0.0</td>\n",
              "    </tr>\n",
              "    <tr>\n",
              "      <th>...</th>\n",
              "      <td>...</td>\n",
              "      <td>...</td>\n",
              "      <td>...</td>\n",
              "      <td>...</td>\n",
              "      <td>...</td>\n",
              "      <td>...</td>\n",
              "      <td>...</td>\n",
              "      <td>...</td>\n",
              "      <td>...</td>\n",
              "      <td>...</td>\n",
              "      <td>...</td>\n",
              "      <td>...</td>\n",
              "      <td>...</td>\n",
              "      <td>...</td>\n",
              "      <td>...</td>\n",
              "      <td>...</td>\n",
              "    </tr>\n",
              "    <tr>\n",
              "      <th>4235</th>\n",
              "      <td>0</td>\n",
              "      <td>48</td>\n",
              "      <td>2.0</td>\n",
              "      <td>1</td>\n",
              "      <td>20.0</td>\n",
              "      <td>NaN</td>\n",
              "      <td>0.0</td>\n",
              "      <td>0.0</td>\n",
              "      <td>0.0</td>\n",
              "      <td>248.0</td>\n",
              "      <td>131.0</td>\n",
              "      <td>72.0</td>\n",
              "      <td>22.00</td>\n",
              "      <td>84.0</td>\n",
              "      <td>86.0</td>\n",
              "      <td>0.0</td>\n",
              "    </tr>\n",
              "    <tr>\n",
              "      <th>4236</th>\n",
              "      <td>0</td>\n",
              "      <td>44</td>\n",
              "      <td>1.0</td>\n",
              "      <td>1</td>\n",
              "      <td>15.0</td>\n",
              "      <td>0.0</td>\n",
              "      <td>0.0</td>\n",
              "      <td>0.0</td>\n",
              "      <td>0.0</td>\n",
              "      <td>210.0</td>\n",
              "      <td>126.5</td>\n",
              "      <td>87.0</td>\n",
              "      <td>19.16</td>\n",
              "      <td>86.0</td>\n",
              "      <td>NaN</td>\n",
              "      <td>0.0</td>\n",
              "    </tr>\n",
              "    <tr>\n",
              "      <th>4237</th>\n",
              "      <td>0</td>\n",
              "      <td>52</td>\n",
              "      <td>2.0</td>\n",
              "      <td>0</td>\n",
              "      <td>0.0</td>\n",
              "      <td>0.0</td>\n",
              "      <td>0.0</td>\n",
              "      <td>0.0</td>\n",
              "      <td>0.0</td>\n",
              "      <td>269.0</td>\n",
              "      <td>133.5</td>\n",
              "      <td>83.0</td>\n",
              "      <td>21.47</td>\n",
              "      <td>80.0</td>\n",
              "      <td>107.0</td>\n",
              "      <td>0.0</td>\n",
              "    </tr>\n",
              "    <tr>\n",
              "      <th>4238</th>\n",
              "      <td>1</td>\n",
              "      <td>40</td>\n",
              "      <td>3.0</td>\n",
              "      <td>0</td>\n",
              "      <td>0.0</td>\n",
              "      <td>0.0</td>\n",
              "      <td>0.0</td>\n",
              "      <td>1.0</td>\n",
              "      <td>0.0</td>\n",
              "      <td>185.0</td>\n",
              "      <td>141.0</td>\n",
              "      <td>98.0</td>\n",
              "      <td>25.60</td>\n",
              "      <td>67.0</td>\n",
              "      <td>72.0</td>\n",
              "      <td>0.0</td>\n",
              "    </tr>\n",
              "    <tr>\n",
              "      <th>4239</th>\n",
              "      <td>0</td>\n",
              "      <td>39</td>\n",
              "      <td>3.0</td>\n",
              "      <td>1</td>\n",
              "      <td>30.0</td>\n",
              "      <td>0.0</td>\n",
              "      <td>0.0</td>\n",
              "      <td>0.0</td>\n",
              "      <td>0.0</td>\n",
              "      <td>196.0</td>\n",
              "      <td>133.0</td>\n",
              "      <td>86.0</td>\n",
              "      <td>20.91</td>\n",
              "      <td>85.0</td>\n",
              "      <td>80.0</td>\n",
              "      <td>0.0</td>\n",
              "    </tr>\n",
              "  </tbody>\n",
              "</table>\n",
              "<p>4240 rows × 16 columns</p>\n",
              "</div>"
            ],
            "text/plain": [
              "      1   2    3  4     5    6  ...     11    12     13    14     15   16\n",
              "0     1  39  4.0  0   0.1  0.2  ...  106.0  70.0  26.97  80.0   77.0  0.6\n",
              "1     0  46  2.0  0   0.0  0.0  ...  121.0  81.0  28.73  95.0   76.0  0.0\n",
              "2     1  48  1.0  1  20.0  0.0  ...  127.5  80.0  25.34  75.0   70.0  0.0\n",
              "3     0  61  3.0  1  30.0  0.0  ...  150.0  95.0  28.58  65.0  103.0  1.0\n",
              "4     0  46  3.0  1  23.0  0.0  ...  130.0  84.0  23.10  85.0   85.0  0.0\n",
              "...  ..  ..  ... ..   ...  ...  ...    ...   ...    ...   ...    ...  ...\n",
              "4235  0  48  2.0  1  20.0  NaN  ...  131.0  72.0  22.00  84.0   86.0  0.0\n",
              "4236  0  44  1.0  1  15.0  0.0  ...  126.5  87.0  19.16  86.0    NaN  0.0\n",
              "4237  0  52  2.0  0   0.0  0.0  ...  133.5  83.0  21.47  80.0  107.0  0.0\n",
              "4238  1  40  3.0  0   0.0  0.0  ...  141.0  98.0  25.60  67.0   72.0  0.0\n",
              "4239  0  39  3.0  1  30.0  0.0  ...  133.0  86.0  20.91  85.0   80.0  0.0\n",
              "\n",
              "[4240 rows x 16 columns]"
            ]
          },
          "metadata": {
            "tags": []
          },
          "execution_count": 9
        }
      ]
    },
    {
      "cell_type": "code",
      "metadata": {
        "id": "EYYdEqjicJqq",
        "outputId": "dbf15038-53af-406c-8358-957f658f9896",
        "colab": {
          "base_uri": "https://localhost:8080/",
          "height": 419
        }
      },
      "source": [
        "hackathon = hackathon.reset_index(drop = True)  #resetting index due to dropping duplicate rows\n",
        "hackathon"
      ],
      "execution_count": null,
      "outputs": [
        {
          "output_type": "execute_result",
          "data": {
            "text/html": [
              "<div>\n",
              "<style scoped>\n",
              "    .dataframe tbody tr th:only-of-type {\n",
              "        vertical-align: middle;\n",
              "    }\n",
              "\n",
              "    .dataframe tbody tr th {\n",
              "        vertical-align: top;\n",
              "    }\n",
              "\n",
              "    .dataframe thead th {\n",
              "        text-align: right;\n",
              "    }\n",
              "</style>\n",
              "<table border=\"1\" class=\"dataframe\">\n",
              "  <thead>\n",
              "    <tr style=\"text-align: right;\">\n",
              "      <th></th>\n",
              "      <th>1</th>\n",
              "      <th>2</th>\n",
              "      <th>3</th>\n",
              "      <th>4</th>\n",
              "      <th>5</th>\n",
              "      <th>6</th>\n",
              "      <th>7</th>\n",
              "      <th>8</th>\n",
              "      <th>9</th>\n",
              "      <th>10</th>\n",
              "      <th>11</th>\n",
              "      <th>12</th>\n",
              "      <th>13</th>\n",
              "      <th>14</th>\n",
              "      <th>15</th>\n",
              "      <th>16</th>\n",
              "    </tr>\n",
              "  </thead>\n",
              "  <tbody>\n",
              "    <tr>\n",
              "      <th>0</th>\n",
              "      <td>1</td>\n",
              "      <td>39</td>\n",
              "      <td>4.0</td>\n",
              "      <td>0</td>\n",
              "      <td>0.1</td>\n",
              "      <td>0.2</td>\n",
              "      <td>0.3</td>\n",
              "      <td>0.4</td>\n",
              "      <td>0.5</td>\n",
              "      <td>195.0</td>\n",
              "      <td>106.0</td>\n",
              "      <td>70.0</td>\n",
              "      <td>26.97</td>\n",
              "      <td>80.0</td>\n",
              "      <td>77.0</td>\n",
              "      <td>0.6</td>\n",
              "    </tr>\n",
              "    <tr>\n",
              "      <th>1</th>\n",
              "      <td>0</td>\n",
              "      <td>46</td>\n",
              "      <td>2.0</td>\n",
              "      <td>0</td>\n",
              "      <td>0.0</td>\n",
              "      <td>0.0</td>\n",
              "      <td>0.0</td>\n",
              "      <td>0.0</td>\n",
              "      <td>0.0</td>\n",
              "      <td>250.0</td>\n",
              "      <td>121.0</td>\n",
              "      <td>81.0</td>\n",
              "      <td>28.73</td>\n",
              "      <td>95.0</td>\n",
              "      <td>76.0</td>\n",
              "      <td>0.0</td>\n",
              "    </tr>\n",
              "    <tr>\n",
              "      <th>2</th>\n",
              "      <td>1</td>\n",
              "      <td>48</td>\n",
              "      <td>1.0</td>\n",
              "      <td>1</td>\n",
              "      <td>20.0</td>\n",
              "      <td>0.0</td>\n",
              "      <td>0.0</td>\n",
              "      <td>0.0</td>\n",
              "      <td>0.0</td>\n",
              "      <td>245.0</td>\n",
              "      <td>127.5</td>\n",
              "      <td>80.0</td>\n",
              "      <td>25.34</td>\n",
              "      <td>75.0</td>\n",
              "      <td>70.0</td>\n",
              "      <td>0.0</td>\n",
              "    </tr>\n",
              "    <tr>\n",
              "      <th>3</th>\n",
              "      <td>0</td>\n",
              "      <td>61</td>\n",
              "      <td>3.0</td>\n",
              "      <td>1</td>\n",
              "      <td>30.0</td>\n",
              "      <td>0.0</td>\n",
              "      <td>0.0</td>\n",
              "      <td>1.0</td>\n",
              "      <td>0.0</td>\n",
              "      <td>225.0</td>\n",
              "      <td>150.0</td>\n",
              "      <td>95.0</td>\n",
              "      <td>28.58</td>\n",
              "      <td>65.0</td>\n",
              "      <td>103.0</td>\n",
              "      <td>1.0</td>\n",
              "    </tr>\n",
              "    <tr>\n",
              "      <th>4</th>\n",
              "      <td>0</td>\n",
              "      <td>46</td>\n",
              "      <td>3.0</td>\n",
              "      <td>1</td>\n",
              "      <td>23.0</td>\n",
              "      <td>0.0</td>\n",
              "      <td>0.0</td>\n",
              "      <td>0.0</td>\n",
              "      <td>0.0</td>\n",
              "      <td>285.0</td>\n",
              "      <td>130.0</td>\n",
              "      <td>84.0</td>\n",
              "      <td>23.10</td>\n",
              "      <td>85.0</td>\n",
              "      <td>85.0</td>\n",
              "      <td>0.0</td>\n",
              "    </tr>\n",
              "    <tr>\n",
              "      <th>...</th>\n",
              "      <td>...</td>\n",
              "      <td>...</td>\n",
              "      <td>...</td>\n",
              "      <td>...</td>\n",
              "      <td>...</td>\n",
              "      <td>...</td>\n",
              "      <td>...</td>\n",
              "      <td>...</td>\n",
              "      <td>...</td>\n",
              "      <td>...</td>\n",
              "      <td>...</td>\n",
              "      <td>...</td>\n",
              "      <td>...</td>\n",
              "      <td>...</td>\n",
              "      <td>...</td>\n",
              "      <td>...</td>\n",
              "    </tr>\n",
              "    <tr>\n",
              "      <th>4235</th>\n",
              "      <td>0</td>\n",
              "      <td>48</td>\n",
              "      <td>2.0</td>\n",
              "      <td>1</td>\n",
              "      <td>20.0</td>\n",
              "      <td>NaN</td>\n",
              "      <td>0.0</td>\n",
              "      <td>0.0</td>\n",
              "      <td>0.0</td>\n",
              "      <td>248.0</td>\n",
              "      <td>131.0</td>\n",
              "      <td>72.0</td>\n",
              "      <td>22.00</td>\n",
              "      <td>84.0</td>\n",
              "      <td>86.0</td>\n",
              "      <td>0.0</td>\n",
              "    </tr>\n",
              "    <tr>\n",
              "      <th>4236</th>\n",
              "      <td>0</td>\n",
              "      <td>44</td>\n",
              "      <td>1.0</td>\n",
              "      <td>1</td>\n",
              "      <td>15.0</td>\n",
              "      <td>0.0</td>\n",
              "      <td>0.0</td>\n",
              "      <td>0.0</td>\n",
              "      <td>0.0</td>\n",
              "      <td>210.0</td>\n",
              "      <td>126.5</td>\n",
              "      <td>87.0</td>\n",
              "      <td>19.16</td>\n",
              "      <td>86.0</td>\n",
              "      <td>NaN</td>\n",
              "      <td>0.0</td>\n",
              "    </tr>\n",
              "    <tr>\n",
              "      <th>4237</th>\n",
              "      <td>0</td>\n",
              "      <td>52</td>\n",
              "      <td>2.0</td>\n",
              "      <td>0</td>\n",
              "      <td>0.0</td>\n",
              "      <td>0.0</td>\n",
              "      <td>0.0</td>\n",
              "      <td>0.0</td>\n",
              "      <td>0.0</td>\n",
              "      <td>269.0</td>\n",
              "      <td>133.5</td>\n",
              "      <td>83.0</td>\n",
              "      <td>21.47</td>\n",
              "      <td>80.0</td>\n",
              "      <td>107.0</td>\n",
              "      <td>0.0</td>\n",
              "    </tr>\n",
              "    <tr>\n",
              "      <th>4238</th>\n",
              "      <td>1</td>\n",
              "      <td>40</td>\n",
              "      <td>3.0</td>\n",
              "      <td>0</td>\n",
              "      <td>0.0</td>\n",
              "      <td>0.0</td>\n",
              "      <td>0.0</td>\n",
              "      <td>1.0</td>\n",
              "      <td>0.0</td>\n",
              "      <td>185.0</td>\n",
              "      <td>141.0</td>\n",
              "      <td>98.0</td>\n",
              "      <td>25.60</td>\n",
              "      <td>67.0</td>\n",
              "      <td>72.0</td>\n",
              "      <td>0.0</td>\n",
              "    </tr>\n",
              "    <tr>\n",
              "      <th>4239</th>\n",
              "      <td>0</td>\n",
              "      <td>39</td>\n",
              "      <td>3.0</td>\n",
              "      <td>1</td>\n",
              "      <td>30.0</td>\n",
              "      <td>0.0</td>\n",
              "      <td>0.0</td>\n",
              "      <td>0.0</td>\n",
              "      <td>0.0</td>\n",
              "      <td>196.0</td>\n",
              "      <td>133.0</td>\n",
              "      <td>86.0</td>\n",
              "      <td>20.91</td>\n",
              "      <td>85.0</td>\n",
              "      <td>80.0</td>\n",
              "      <td>0.0</td>\n",
              "    </tr>\n",
              "  </tbody>\n",
              "</table>\n",
              "<p>4240 rows × 16 columns</p>\n",
              "</div>"
            ],
            "text/plain": [
              "      1   2    3  4     5    6  ...     11    12     13    14     15   16\n",
              "0     1  39  4.0  0   0.1  0.2  ...  106.0  70.0  26.97  80.0   77.0  0.6\n",
              "1     0  46  2.0  0   0.0  0.0  ...  121.0  81.0  28.73  95.0   76.0  0.0\n",
              "2     1  48  1.0  1  20.0  0.0  ...  127.5  80.0  25.34  75.0   70.0  0.0\n",
              "3     0  61  3.0  1  30.0  0.0  ...  150.0  95.0  28.58  65.0  103.0  1.0\n",
              "4     0  46  3.0  1  23.0  0.0  ...  130.0  84.0  23.10  85.0   85.0  0.0\n",
              "...  ..  ..  ... ..   ...  ...  ...    ...   ...    ...   ...    ...  ...\n",
              "4235  0  48  2.0  1  20.0  NaN  ...  131.0  72.0  22.00  84.0   86.0  0.0\n",
              "4236  0  44  1.0  1  15.0  0.0  ...  126.5  87.0  19.16  86.0    NaN  0.0\n",
              "4237  0  52  2.0  0   0.0  0.0  ...  133.5  83.0  21.47  80.0  107.0  0.0\n",
              "4238  1  40  3.0  0   0.0  0.0  ...  141.0  98.0  25.60  67.0   72.0  0.0\n",
              "4239  0  39  3.0  1  30.0  0.0  ...  133.0  86.0  20.91  85.0   80.0  0.0\n",
              "\n",
              "[4240 rows x 16 columns]"
            ]
          },
          "metadata": {
            "tags": []
          },
          "execution_count": 9
        }
      ]
    },
    {
      "cell_type": "code",
      "metadata": {
        "id": "d11Z65XMolvi",
        "outputId": "467f2ce6-0d97-4f15-c3cd-e1ff9fd810a4",
        "colab": {
          "base_uri": "https://localhost:8080/",
          "height": 419
        }
      },
      "source": [
        "hackathon.iloc[0,4:9] = 0\n",
        "hackathon.iloc[0,15] = 0\n",
        "hackathon"
      ],
      "execution_count": null,
      "outputs": [
        {
          "output_type": "execute_result",
          "data": {
            "text/html": [
              "<div>\n",
              "<style scoped>\n",
              "    .dataframe tbody tr th:only-of-type {\n",
              "        vertical-align: middle;\n",
              "    }\n",
              "\n",
              "    .dataframe tbody tr th {\n",
              "        vertical-align: top;\n",
              "    }\n",
              "\n",
              "    .dataframe thead th {\n",
              "        text-align: right;\n",
              "    }\n",
              "</style>\n",
              "<table border=\"1\" class=\"dataframe\">\n",
              "  <thead>\n",
              "    <tr style=\"text-align: right;\">\n",
              "      <th></th>\n",
              "      <th>1</th>\n",
              "      <th>2</th>\n",
              "      <th>3</th>\n",
              "      <th>4</th>\n",
              "      <th>5</th>\n",
              "      <th>6</th>\n",
              "      <th>7</th>\n",
              "      <th>8</th>\n",
              "      <th>9</th>\n",
              "      <th>10</th>\n",
              "      <th>11</th>\n",
              "      <th>12</th>\n",
              "      <th>13</th>\n",
              "      <th>14</th>\n",
              "      <th>15</th>\n",
              "      <th>16</th>\n",
              "    </tr>\n",
              "  </thead>\n",
              "  <tbody>\n",
              "    <tr>\n",
              "      <th>0</th>\n",
              "      <td>1</td>\n",
              "      <td>39</td>\n",
              "      <td>4.0</td>\n",
              "      <td>0</td>\n",
              "      <td>0.0</td>\n",
              "      <td>0.0</td>\n",
              "      <td>0.0</td>\n",
              "      <td>0.0</td>\n",
              "      <td>0.0</td>\n",
              "      <td>195.0</td>\n",
              "      <td>106.0</td>\n",
              "      <td>70.0</td>\n",
              "      <td>26.97</td>\n",
              "      <td>80.0</td>\n",
              "      <td>77.0</td>\n",
              "      <td>0.0</td>\n",
              "    </tr>\n",
              "    <tr>\n",
              "      <th>1</th>\n",
              "      <td>0</td>\n",
              "      <td>46</td>\n",
              "      <td>2.0</td>\n",
              "      <td>0</td>\n",
              "      <td>0.0</td>\n",
              "      <td>0.0</td>\n",
              "      <td>0.0</td>\n",
              "      <td>0.0</td>\n",
              "      <td>0.0</td>\n",
              "      <td>250.0</td>\n",
              "      <td>121.0</td>\n",
              "      <td>81.0</td>\n",
              "      <td>28.73</td>\n",
              "      <td>95.0</td>\n",
              "      <td>76.0</td>\n",
              "      <td>0.0</td>\n",
              "    </tr>\n",
              "    <tr>\n",
              "      <th>2</th>\n",
              "      <td>1</td>\n",
              "      <td>48</td>\n",
              "      <td>1.0</td>\n",
              "      <td>1</td>\n",
              "      <td>20.0</td>\n",
              "      <td>0.0</td>\n",
              "      <td>0.0</td>\n",
              "      <td>0.0</td>\n",
              "      <td>0.0</td>\n",
              "      <td>245.0</td>\n",
              "      <td>127.5</td>\n",
              "      <td>80.0</td>\n",
              "      <td>25.34</td>\n",
              "      <td>75.0</td>\n",
              "      <td>70.0</td>\n",
              "      <td>0.0</td>\n",
              "    </tr>\n",
              "    <tr>\n",
              "      <th>3</th>\n",
              "      <td>0</td>\n",
              "      <td>61</td>\n",
              "      <td>3.0</td>\n",
              "      <td>1</td>\n",
              "      <td>30.0</td>\n",
              "      <td>0.0</td>\n",
              "      <td>0.0</td>\n",
              "      <td>1.0</td>\n",
              "      <td>0.0</td>\n",
              "      <td>225.0</td>\n",
              "      <td>150.0</td>\n",
              "      <td>95.0</td>\n",
              "      <td>28.58</td>\n",
              "      <td>65.0</td>\n",
              "      <td>103.0</td>\n",
              "      <td>1.0</td>\n",
              "    </tr>\n",
              "    <tr>\n",
              "      <th>4</th>\n",
              "      <td>0</td>\n",
              "      <td>46</td>\n",
              "      <td>3.0</td>\n",
              "      <td>1</td>\n",
              "      <td>23.0</td>\n",
              "      <td>0.0</td>\n",
              "      <td>0.0</td>\n",
              "      <td>0.0</td>\n",
              "      <td>0.0</td>\n",
              "      <td>285.0</td>\n",
              "      <td>130.0</td>\n",
              "      <td>84.0</td>\n",
              "      <td>23.10</td>\n",
              "      <td>85.0</td>\n",
              "      <td>85.0</td>\n",
              "      <td>0.0</td>\n",
              "    </tr>\n",
              "    <tr>\n",
              "      <th>...</th>\n",
              "      <td>...</td>\n",
              "      <td>...</td>\n",
              "      <td>...</td>\n",
              "      <td>...</td>\n",
              "      <td>...</td>\n",
              "      <td>...</td>\n",
              "      <td>...</td>\n",
              "      <td>...</td>\n",
              "      <td>...</td>\n",
              "      <td>...</td>\n",
              "      <td>...</td>\n",
              "      <td>...</td>\n",
              "      <td>...</td>\n",
              "      <td>...</td>\n",
              "      <td>...</td>\n",
              "      <td>...</td>\n",
              "    </tr>\n",
              "    <tr>\n",
              "      <th>4235</th>\n",
              "      <td>0</td>\n",
              "      <td>48</td>\n",
              "      <td>2.0</td>\n",
              "      <td>1</td>\n",
              "      <td>20.0</td>\n",
              "      <td>NaN</td>\n",
              "      <td>0.0</td>\n",
              "      <td>0.0</td>\n",
              "      <td>0.0</td>\n",
              "      <td>248.0</td>\n",
              "      <td>131.0</td>\n",
              "      <td>72.0</td>\n",
              "      <td>22.00</td>\n",
              "      <td>84.0</td>\n",
              "      <td>86.0</td>\n",
              "      <td>0.0</td>\n",
              "    </tr>\n",
              "    <tr>\n",
              "      <th>4236</th>\n",
              "      <td>0</td>\n",
              "      <td>44</td>\n",
              "      <td>1.0</td>\n",
              "      <td>1</td>\n",
              "      <td>15.0</td>\n",
              "      <td>0.0</td>\n",
              "      <td>0.0</td>\n",
              "      <td>0.0</td>\n",
              "      <td>0.0</td>\n",
              "      <td>210.0</td>\n",
              "      <td>126.5</td>\n",
              "      <td>87.0</td>\n",
              "      <td>19.16</td>\n",
              "      <td>86.0</td>\n",
              "      <td>NaN</td>\n",
              "      <td>0.0</td>\n",
              "    </tr>\n",
              "    <tr>\n",
              "      <th>4237</th>\n",
              "      <td>0</td>\n",
              "      <td>52</td>\n",
              "      <td>2.0</td>\n",
              "      <td>0</td>\n",
              "      <td>0.0</td>\n",
              "      <td>0.0</td>\n",
              "      <td>0.0</td>\n",
              "      <td>0.0</td>\n",
              "      <td>0.0</td>\n",
              "      <td>269.0</td>\n",
              "      <td>133.5</td>\n",
              "      <td>83.0</td>\n",
              "      <td>21.47</td>\n",
              "      <td>80.0</td>\n",
              "      <td>107.0</td>\n",
              "      <td>0.0</td>\n",
              "    </tr>\n",
              "    <tr>\n",
              "      <th>4238</th>\n",
              "      <td>1</td>\n",
              "      <td>40</td>\n",
              "      <td>3.0</td>\n",
              "      <td>0</td>\n",
              "      <td>0.0</td>\n",
              "      <td>0.0</td>\n",
              "      <td>0.0</td>\n",
              "      <td>1.0</td>\n",
              "      <td>0.0</td>\n",
              "      <td>185.0</td>\n",
              "      <td>141.0</td>\n",
              "      <td>98.0</td>\n",
              "      <td>25.60</td>\n",
              "      <td>67.0</td>\n",
              "      <td>72.0</td>\n",
              "      <td>0.0</td>\n",
              "    </tr>\n",
              "    <tr>\n",
              "      <th>4239</th>\n",
              "      <td>0</td>\n",
              "      <td>39</td>\n",
              "      <td>3.0</td>\n",
              "      <td>1</td>\n",
              "      <td>30.0</td>\n",
              "      <td>0.0</td>\n",
              "      <td>0.0</td>\n",
              "      <td>0.0</td>\n",
              "      <td>0.0</td>\n",
              "      <td>196.0</td>\n",
              "      <td>133.0</td>\n",
              "      <td>86.0</td>\n",
              "      <td>20.91</td>\n",
              "      <td>85.0</td>\n",
              "      <td>80.0</td>\n",
              "      <td>0.0</td>\n",
              "    </tr>\n",
              "  </tbody>\n",
              "</table>\n",
              "<p>4240 rows × 16 columns</p>\n",
              "</div>"
            ],
            "text/plain": [
              "      1   2    3  4     5    6  ...     11    12     13    14     15   16\n",
              "0     1  39  4.0  0   0.0  0.0  ...  106.0  70.0  26.97  80.0   77.0  0.0\n",
              "1     0  46  2.0  0   0.0  0.0  ...  121.0  81.0  28.73  95.0   76.0  0.0\n",
              "2     1  48  1.0  1  20.0  0.0  ...  127.5  80.0  25.34  75.0   70.0  0.0\n",
              "3     0  61  3.0  1  30.0  0.0  ...  150.0  95.0  28.58  65.0  103.0  1.0\n",
              "4     0  46  3.0  1  23.0  0.0  ...  130.0  84.0  23.10  85.0   85.0  0.0\n",
              "...  ..  ..  ... ..   ...  ...  ...    ...   ...    ...   ...    ...  ...\n",
              "4235  0  48  2.0  1  20.0  NaN  ...  131.0  72.0  22.00  84.0   86.0  0.0\n",
              "4236  0  44  1.0  1  15.0  0.0  ...  126.5  87.0  19.16  86.0    NaN  0.0\n",
              "4237  0  52  2.0  0   0.0  0.0  ...  133.5  83.0  21.47  80.0  107.0  0.0\n",
              "4238  1  40  3.0  0   0.0  0.0  ...  141.0  98.0  25.60  67.0   72.0  0.0\n",
              "4239  0  39  3.0  1  30.0  0.0  ...  133.0  86.0  20.91  85.0   80.0  0.0\n",
              "\n",
              "[4240 rows x 16 columns]"
            ]
          },
          "metadata": {
            "tags": []
          },
          "execution_count": 10
        }
      ]
    },
    {
      "cell_type": "markdown",
      "metadata": {
        "id": "tJcCvttQdBKn"
      },
      "source": [
        "# **Step 1: Check for Missing Values and Edit**\n",
        "\n"
      ]
    },
    {
      "cell_type": "code",
      "metadata": {
        "id": "Xb1HzUb6cX7d",
        "outputId": "862d68e9-69ca-4ec9-f8a2-a53acbc33e33",
        "colab": {
          "base_uri": "https://localhost:8080/"
        }
      },
      "source": [
        "missing_values_count = hackathon.isnull().sum()   #count the no. of missing values per column\n",
        "missing_values_count"
      ],
      "execution_count": null,
      "outputs": [
        {
          "output_type": "execute_result",
          "data": {
            "text/plain": [
              "1       0\n",
              "2       0\n",
              "3     105\n",
              "4       0\n",
              "5      29\n",
              "6      53\n",
              "7       0\n",
              "8       0\n",
              "9       0\n",
              "10     50\n",
              "11      0\n",
              "12      0\n",
              "13     19\n",
              "14      1\n",
              "15    388\n",
              "16      0\n",
              "dtype: int64"
            ]
          },
          "metadata": {
            "tags": []
          },
          "execution_count": 11
        }
      ]
    },
    {
      "cell_type": "code",
      "metadata": {
        "id": "dIPeFK1ifyMc"
      },
      "source": [
        "total_cells = np.product(hackathon.shape)     #total cells in the dataset\n",
        "total_missing = missing_values_count.sum()    #cells with missing values(NaN)"
      ],
      "execution_count": null,
      "outputs": []
    },
    {
      "cell_type": "code",
      "metadata": {
        "id": "7Ha7okXIg1HH",
        "outputId": "110b9e03-0ddc-4334-8a04-c56b6c7d72b4",
        "colab": {
          "base_uri": "https://localhost:8080/"
        }
      },
      "source": [
        "percent_missing = (total_missing/total_cells)*100\n",
        "percent_missing                               #percentage of values missing "
      ],
      "execution_count": null,
      "outputs": [
        {
          "output_type": "execute_result",
          "data": {
            "text/plain": [
              "0.9507665094339623"
            ]
          },
          "metadata": {
            "tags": []
          },
          "execution_count": 13
        }
      ]
    },
    {
      "cell_type": "code",
      "metadata": {
        "id": "PJTqh4AqhHcn"
      },
      "source": [
        "#as data missing is the dataset is a low percentage, we use imputation as dropping can lead to loss of data\n",
        "my_imputer = SimpleImputer()"
      ],
      "execution_count": null,
      "outputs": []
    },
    {
      "cell_type": "code",
      "metadata": {
        "id": "VcaUGSE8hh4Y"
      },
      "source": [
        "imputed_hackathon = pd.DataFrame(my_imputer.fit_transform(hackathon))   #Checkpoint 1"
      ],
      "execution_count": null,
      "outputs": []
    },
    {
      "cell_type": "code",
      "metadata": {
        "id": "xxAOCsVlhlAc",
        "outputId": "ee77facf-62bf-43dc-847e-0e3efdde4d63",
        "colab": {
          "base_uri": "https://localhost:8080/",
          "height": 419
        }
      },
      "source": [
        "imputed_hackathon.columns = hackathon.columns   #we put back column names removed by imputation\n",
        "imputed_hackathon"
      ],
      "execution_count": null,
      "outputs": [
        {
          "output_type": "execute_result",
          "data": {
            "text/html": [
              "<div>\n",
              "<style scoped>\n",
              "    .dataframe tbody tr th:only-of-type {\n",
              "        vertical-align: middle;\n",
              "    }\n",
              "\n",
              "    .dataframe tbody tr th {\n",
              "        vertical-align: top;\n",
              "    }\n",
              "\n",
              "    .dataframe thead th {\n",
              "        text-align: right;\n",
              "    }\n",
              "</style>\n",
              "<table border=\"1\" class=\"dataframe\">\n",
              "  <thead>\n",
              "    <tr style=\"text-align: right;\">\n",
              "      <th></th>\n",
              "      <th>1</th>\n",
              "      <th>2</th>\n",
              "      <th>3</th>\n",
              "      <th>4</th>\n",
              "      <th>5</th>\n",
              "      <th>6</th>\n",
              "      <th>7</th>\n",
              "      <th>8</th>\n",
              "      <th>9</th>\n",
              "      <th>10</th>\n",
              "      <th>11</th>\n",
              "      <th>12</th>\n",
              "      <th>13</th>\n",
              "      <th>14</th>\n",
              "      <th>15</th>\n",
              "      <th>16</th>\n",
              "    </tr>\n",
              "  </thead>\n",
              "  <tbody>\n",
              "    <tr>\n",
              "      <th>0</th>\n",
              "      <td>1.0</td>\n",
              "      <td>39.0</td>\n",
              "      <td>4.0</td>\n",
              "      <td>0.0</td>\n",
              "      <td>0.0</td>\n",
              "      <td>0.000000</td>\n",
              "      <td>0.0</td>\n",
              "      <td>0.0</td>\n",
              "      <td>0.0</td>\n",
              "      <td>195.0</td>\n",
              "      <td>106.0</td>\n",
              "      <td>70.0</td>\n",
              "      <td>26.97</td>\n",
              "      <td>80.0</td>\n",
              "      <td>77.000000</td>\n",
              "      <td>0.0</td>\n",
              "    </tr>\n",
              "    <tr>\n",
              "      <th>1</th>\n",
              "      <td>0.0</td>\n",
              "      <td>46.0</td>\n",
              "      <td>2.0</td>\n",
              "      <td>0.0</td>\n",
              "      <td>0.0</td>\n",
              "      <td>0.000000</td>\n",
              "      <td>0.0</td>\n",
              "      <td>0.0</td>\n",
              "      <td>0.0</td>\n",
              "      <td>250.0</td>\n",
              "      <td>121.0</td>\n",
              "      <td>81.0</td>\n",
              "      <td>28.73</td>\n",
              "      <td>95.0</td>\n",
              "      <td>76.000000</td>\n",
              "      <td>0.0</td>\n",
              "    </tr>\n",
              "    <tr>\n",
              "      <th>2</th>\n",
              "      <td>1.0</td>\n",
              "      <td>48.0</td>\n",
              "      <td>1.0</td>\n",
              "      <td>1.0</td>\n",
              "      <td>20.0</td>\n",
              "      <td>0.000000</td>\n",
              "      <td>0.0</td>\n",
              "      <td>0.0</td>\n",
              "      <td>0.0</td>\n",
              "      <td>245.0</td>\n",
              "      <td>127.5</td>\n",
              "      <td>80.0</td>\n",
              "      <td>25.34</td>\n",
              "      <td>75.0</td>\n",
              "      <td>70.000000</td>\n",
              "      <td>0.0</td>\n",
              "    </tr>\n",
              "    <tr>\n",
              "      <th>3</th>\n",
              "      <td>0.0</td>\n",
              "      <td>61.0</td>\n",
              "      <td>3.0</td>\n",
              "      <td>1.0</td>\n",
              "      <td>30.0</td>\n",
              "      <td>0.000000</td>\n",
              "      <td>0.0</td>\n",
              "      <td>1.0</td>\n",
              "      <td>0.0</td>\n",
              "      <td>225.0</td>\n",
              "      <td>150.0</td>\n",
              "      <td>95.0</td>\n",
              "      <td>28.58</td>\n",
              "      <td>65.0</td>\n",
              "      <td>103.000000</td>\n",
              "      <td>1.0</td>\n",
              "    </tr>\n",
              "    <tr>\n",
              "      <th>4</th>\n",
              "      <td>0.0</td>\n",
              "      <td>46.0</td>\n",
              "      <td>3.0</td>\n",
              "      <td>1.0</td>\n",
              "      <td>23.0</td>\n",
              "      <td>0.000000</td>\n",
              "      <td>0.0</td>\n",
              "      <td>0.0</td>\n",
              "      <td>0.0</td>\n",
              "      <td>285.0</td>\n",
              "      <td>130.0</td>\n",
              "      <td>84.0</td>\n",
              "      <td>23.10</td>\n",
              "      <td>85.0</td>\n",
              "      <td>85.000000</td>\n",
              "      <td>0.0</td>\n",
              "    </tr>\n",
              "    <tr>\n",
              "      <th>...</th>\n",
              "      <td>...</td>\n",
              "      <td>...</td>\n",
              "      <td>...</td>\n",
              "      <td>...</td>\n",
              "      <td>...</td>\n",
              "      <td>...</td>\n",
              "      <td>...</td>\n",
              "      <td>...</td>\n",
              "      <td>...</td>\n",
              "      <td>...</td>\n",
              "      <td>...</td>\n",
              "      <td>...</td>\n",
              "      <td>...</td>\n",
              "      <td>...</td>\n",
              "      <td>...</td>\n",
              "      <td>...</td>\n",
              "    </tr>\n",
              "    <tr>\n",
              "      <th>4235</th>\n",
              "      <td>0.0</td>\n",
              "      <td>48.0</td>\n",
              "      <td>2.0</td>\n",
              "      <td>1.0</td>\n",
              "      <td>20.0</td>\n",
              "      <td>0.029615</td>\n",
              "      <td>0.0</td>\n",
              "      <td>0.0</td>\n",
              "      <td>0.0</td>\n",
              "      <td>248.0</td>\n",
              "      <td>131.0</td>\n",
              "      <td>72.0</td>\n",
              "      <td>22.00</td>\n",
              "      <td>84.0</td>\n",
              "      <td>86.000000</td>\n",
              "      <td>0.0</td>\n",
              "    </tr>\n",
              "    <tr>\n",
              "      <th>4236</th>\n",
              "      <td>0.0</td>\n",
              "      <td>44.0</td>\n",
              "      <td>1.0</td>\n",
              "      <td>1.0</td>\n",
              "      <td>15.0</td>\n",
              "      <td>0.000000</td>\n",
              "      <td>0.0</td>\n",
              "      <td>0.0</td>\n",
              "      <td>0.0</td>\n",
              "      <td>210.0</td>\n",
              "      <td>126.5</td>\n",
              "      <td>87.0</td>\n",
              "      <td>19.16</td>\n",
              "      <td>86.0</td>\n",
              "      <td>81.963655</td>\n",
              "      <td>0.0</td>\n",
              "    </tr>\n",
              "    <tr>\n",
              "      <th>4237</th>\n",
              "      <td>0.0</td>\n",
              "      <td>52.0</td>\n",
              "      <td>2.0</td>\n",
              "      <td>0.0</td>\n",
              "      <td>0.0</td>\n",
              "      <td>0.000000</td>\n",
              "      <td>0.0</td>\n",
              "      <td>0.0</td>\n",
              "      <td>0.0</td>\n",
              "      <td>269.0</td>\n",
              "      <td>133.5</td>\n",
              "      <td>83.0</td>\n",
              "      <td>21.47</td>\n",
              "      <td>80.0</td>\n",
              "      <td>107.000000</td>\n",
              "      <td>0.0</td>\n",
              "    </tr>\n",
              "    <tr>\n",
              "      <th>4238</th>\n",
              "      <td>1.0</td>\n",
              "      <td>40.0</td>\n",
              "      <td>3.0</td>\n",
              "      <td>0.0</td>\n",
              "      <td>0.0</td>\n",
              "      <td>0.000000</td>\n",
              "      <td>0.0</td>\n",
              "      <td>1.0</td>\n",
              "      <td>0.0</td>\n",
              "      <td>185.0</td>\n",
              "      <td>141.0</td>\n",
              "      <td>98.0</td>\n",
              "      <td>25.60</td>\n",
              "      <td>67.0</td>\n",
              "      <td>72.000000</td>\n",
              "      <td>0.0</td>\n",
              "    </tr>\n",
              "    <tr>\n",
              "      <th>4239</th>\n",
              "      <td>0.0</td>\n",
              "      <td>39.0</td>\n",
              "      <td>3.0</td>\n",
              "      <td>1.0</td>\n",
              "      <td>30.0</td>\n",
              "      <td>0.000000</td>\n",
              "      <td>0.0</td>\n",
              "      <td>0.0</td>\n",
              "      <td>0.0</td>\n",
              "      <td>196.0</td>\n",
              "      <td>133.0</td>\n",
              "      <td>86.0</td>\n",
              "      <td>20.91</td>\n",
              "      <td>85.0</td>\n",
              "      <td>80.000000</td>\n",
              "      <td>0.0</td>\n",
              "    </tr>\n",
              "  </tbody>\n",
              "</table>\n",
              "<p>4240 rows × 16 columns</p>\n",
              "</div>"
            ],
            "text/plain": [
              "        1     2    3    4     5  ...    12     13    14          15   16\n",
              "0     1.0  39.0  4.0  0.0   0.0  ...  70.0  26.97  80.0   77.000000  0.0\n",
              "1     0.0  46.0  2.0  0.0   0.0  ...  81.0  28.73  95.0   76.000000  0.0\n",
              "2     1.0  48.0  1.0  1.0  20.0  ...  80.0  25.34  75.0   70.000000  0.0\n",
              "3     0.0  61.0  3.0  1.0  30.0  ...  95.0  28.58  65.0  103.000000  1.0\n",
              "4     0.0  46.0  3.0  1.0  23.0  ...  84.0  23.10  85.0   85.000000  0.0\n",
              "...   ...   ...  ...  ...   ...  ...   ...    ...   ...         ...  ...\n",
              "4235  0.0  48.0  2.0  1.0  20.0  ...  72.0  22.00  84.0   86.000000  0.0\n",
              "4236  0.0  44.0  1.0  1.0  15.0  ...  87.0  19.16  86.0   81.963655  0.0\n",
              "4237  0.0  52.0  2.0  0.0   0.0  ...  83.0  21.47  80.0  107.000000  0.0\n",
              "4238  1.0  40.0  3.0  0.0   0.0  ...  98.0  25.60  67.0   72.000000  0.0\n",
              "4239  0.0  39.0  3.0  1.0  30.0  ...  86.0  20.91  85.0   80.000000  0.0\n",
              "\n",
              "[4240 rows x 16 columns]"
            ]
          },
          "metadata": {
            "tags": []
          },
          "execution_count": 16
        }
      ]
    },
    {
      "cell_type": "code",
      "metadata": {
        "id": "rQAlhTy-iu5r",
        "outputId": "d8056afa-59a9-4021-a522-3e614ac899de",
        "colab": {
          "base_uri": "https://localhost:8080/"
        }
      },
      "source": [
        "#Checking Imputation Effect\n",
        "missing_values_count = imputed_hackathon.isnull().sum()   #count the no. of missing values per column\n",
        "missing_values_count"
      ],
      "execution_count": null,
      "outputs": [
        {
          "output_type": "execute_result",
          "data": {
            "text/plain": [
              "1     0\n",
              "2     0\n",
              "3     0\n",
              "4     0\n",
              "5     0\n",
              "6     0\n",
              "7     0\n",
              "8     0\n",
              "9     0\n",
              "10    0\n",
              "11    0\n",
              "12    0\n",
              "13    0\n",
              "14    0\n",
              "15    0\n",
              "16    0\n",
              "dtype: int64"
            ]
          },
          "metadata": {
            "tags": []
          },
          "execution_count": 17
        }
      ]
    },
    {
      "cell_type": "markdown",
      "metadata": {
        "id": "-Nr_ZsVy88WX"
      },
      "source": [
        "## **Detecting and Removing Outliers**"
      ]
    },
    {
      "cell_type": "code",
      "metadata": {
        "id": "YEWOxYPF9C3Q",
        "outputId": "dfa3a165-a98e-41f5-d469-7cfe0cbc7d8c",
        "colab": {
          "base_uri": "https://localhost:8080/",
          "height": 279
        }
      },
      "source": [
        "#Column 3\n",
        "#Comparing scatterplot of every numerical data column with the output column\n",
        "fig,ax = plt.subplots()\n",
        "ax.scatter(x = imputed_hackathon['2'], y = imputed_hackathon['16'])\n",
        "plt.ylabel('Prediction')\n",
        "plt.xlabel('3')\n",
        "plt.show()\n",
        "#no outliers"
      ],
      "execution_count": null,
      "outputs": [
        {
          "output_type": "display_data",
          "data": {
            "image/png": "[encoded data removed]",
            "text/plain": [
              "<Figure size 432x288 with 1 Axes>"
            ]
          },
          "metadata": {
            "tags": [],
            "needs_background": "light"
          }
        }
      ]
    },
    {
      "cell_type": "code",
      "metadata": {
        "id": "qmt17zPu9M_g",
        "outputId": "67a75f4d-a59a-498e-fbd8-c2afc238dd87",
        "colab": {
          "base_uri": "https://localhost:8080/",
          "height": 279
        }
      },
      "source": [
        "#Column 10\n",
        "fig,ax = plt.subplots()\n",
        "ax.scatter(x = imputed_hackathon['10'], y = imputed_hackathon['16'])\n",
        "plt.ylabel('Prediction')\n",
        "plt.xlabel('10')\n",
        "plt.show()"
      ],
      "execution_count": null,
      "outputs": [
        {
          "output_type": "display_data",
          "data": {
            "image/png": "[encoded data removed]",
            "text/plain": [
              "<Figure size 432x288 with 1 Axes>"
            ]
          },
          "metadata": {
            "tags": [],
            "needs_background": "light"
          }
        }
      ]
    },
    {
      "cell_type": "code",
      "metadata": {
        "id": "-m8mu0bz9e37",
        "outputId": "1dde90fb-8e27-472b-ec4d-d7645f000030",
        "colab": {
          "base_uri": "https://localhost:8080/",
          "height": 111
        }
      },
      "source": [
        "#from the scatterplot, we see that values greater then 500 are anomalies\n",
        "imputed_hackathon[imputed_hackathon['10'] > 500]"
      ],
      "execution_count": null,
      "outputs": [
        {
          "output_type": "execute_result",
          "data": {
            "text/html": [
              "<div>\n",
              "<style scoped>\n",
              "    .dataframe tbody tr th:only-of-type {\n",
              "        vertical-align: middle;\n",
              "    }\n",
              "\n",
              "    .dataframe tbody tr th {\n",
              "        vertical-align: top;\n",
              "    }\n",
              "\n",
              "    .dataframe thead th {\n",
              "        text-align: right;\n",
              "    }\n",
              "</style>\n",
              "<table border=\"1\" class=\"dataframe\">\n",
              "  <thead>\n",
              "    <tr style=\"text-align: right;\">\n",
              "      <th></th>\n",
              "      <th>1</th>\n",
              "      <th>2</th>\n",
              "      <th>3</th>\n",
              "      <th>4</th>\n",
              "      <th>5</th>\n",
              "      <th>6</th>\n",
              "      <th>7</th>\n",
              "      <th>8</th>\n",
              "      <th>9</th>\n",
              "      <th>10</th>\n",
              "      <th>11</th>\n",
              "      <th>12</th>\n",
              "      <th>13</th>\n",
              "      <th>14</th>\n",
              "      <th>15</th>\n",
              "      <th>16</th>\n",
              "    </tr>\n",
              "  </thead>\n",
              "  <tbody>\n",
              "    <tr>\n",
              "      <th>1111</th>\n",
              "      <td>0.0</td>\n",
              "      <td>52.0</td>\n",
              "      <td>2.000000</td>\n",
              "      <td>0.0</td>\n",
              "      <td>0.0</td>\n",
              "      <td>0.0</td>\n",
              "      <td>0.0</td>\n",
              "      <td>1.0</td>\n",
              "      <td>1.0</td>\n",
              "      <td>600.0</td>\n",
              "      <td>159.5</td>\n",
              "      <td>94.0</td>\n",
              "      <td>28.27</td>\n",
              "      <td>78.0</td>\n",
              "      <td>140.0</td>\n",
              "      <td>1.0</td>\n",
              "    </tr>\n",
              "    <tr>\n",
              "      <th>3160</th>\n",
              "      <td>1.0</td>\n",
              "      <td>51.0</td>\n",
              "      <td>1.979444</td>\n",
              "      <td>1.0</td>\n",
              "      <td>9.0</td>\n",
              "      <td>0.0</td>\n",
              "      <td>0.0</td>\n",
              "      <td>1.0</td>\n",
              "      <td>0.0</td>\n",
              "      <td>696.0</td>\n",
              "      <td>157.0</td>\n",
              "      <td>87.0</td>\n",
              "      <td>24.44</td>\n",
              "      <td>95.0</td>\n",
              "      <td>84.0</td>\n",
              "      <td>0.0</td>\n",
              "    </tr>\n",
              "  </tbody>\n",
              "</table>\n",
              "</div>"
            ],
            "text/plain": [
              "        1     2         3    4    5    6  ...     11    12     13    14     15   16\n",
              "1111  0.0  52.0  2.000000  0.0  0.0  0.0  ...  159.5  94.0  28.27  78.0  140.0  1.0\n",
              "3160  1.0  51.0  1.979444  1.0  9.0  0.0  ...  157.0  87.0  24.44  95.0   84.0  0.0\n",
              "\n",
              "[2 rows x 16 columns]"
            ]
          },
          "metadata": {
            "tags": []
          },
          "execution_count": 20
        }
      ]
    },
    {
      "cell_type": "code",
      "metadata": {
        "id": "G3eK-3TD9h94"
      },
      "source": [
        "#taking mean value of the column to replace the outlier values\n",
        "mean10 = np.mean(imputed_hackathon['10'])"
      ],
      "execution_count": null,
      "outputs": []
    },
    {
      "cell_type": "code",
      "metadata": {
        "id": "mWjBechF9r3L"
      },
      "source": [
        "#replacing outliers\n",
        "imputed_hackathon.iloc[1111,9] = mean10\n",
        "imputed_hackathon.iloc[3160,9] = mean10"
      ],
      "execution_count": null,
      "outputs": []
    },
    {
      "cell_type": "code",
      "metadata": {
        "id": "0jDcuVUS9zNx",
        "outputId": "705a80ea-141e-4eb4-9257-20227f3c04a2",
        "colab": {
          "base_uri": "https://localhost:8080/",
          "height": 279
        }
      },
      "source": [
        "fig,ax = plt.subplots()\n",
        "ax.scatter(x = imputed_hackathon['10'], y = imputed_hackathon['16'])\n",
        "plt.ylabel('Prediction')\n",
        "plt.xlabel('10')\n",
        "plt.show()\n",
        "#the plot after outliers have been eliminated"
      ],
      "execution_count": null,
      "outputs": [
        {
          "output_type": "display_data",
          "data": {
            "image/png": "[encoded data removed]",
            "text/plain": [
              "<Figure size 432x288 with 1 Axes>"
            ]
          },
          "metadata": {
            "tags": [],
            "needs_background": "light"
          }
        }
      ]
    },
    {
      "cell_type": "code",
      "metadata": {
        "id": "qASIp0qw934l",
        "outputId": "d4a2869f-da1e-4b9f-d134-782b853ac10d",
        "colab": {
          "base_uri": "https://localhost:8080/",
          "height": 279
        }
      },
      "source": [
        "#Column 11\n",
        "fig,ax = plt.subplots()\n",
        "ax.scatter(x = imputed_hackathon['11'], y = imputed_hackathon['16'])\n",
        "plt.ylabel('Prediction')\n",
        "plt.xlabel('11')\n",
        "plt.show()"
      ],
      "execution_count": null,
      "outputs": [
        {
          "output_type": "display_data",
          "data": {
            "image/png": "[encoded data removed]",
            "text/plain": [
              "<Figure size 432x288 with 1 Axes>"
            ]
          },
          "metadata": {
            "tags": [],
            "needs_background": "light"
          }
        }
      ]
    },
    {
      "cell_type": "code",
      "metadata": {
        "id": "2vi0Xl71-HW3",
        "outputId": "d494634c-35d9-47f6-951c-29ecd0e1de79",
        "colab": {
          "base_uri": "https://localhost:8080/",
          "height": 80
        }
      },
      "source": [
        "imputed_hackathon[imputed_hackathon['11']>250]"
      ],
      "execution_count": null,
      "outputs": [
        {
          "output_type": "execute_result",
          "data": {
            "text/html": [
              "<div>\n",
              "<style scoped>\n",
              "    .dataframe tbody tr th:only-of-type {\n",
              "        vertical-align: middle;\n",
              "    }\n",
              "\n",
              "    .dataframe tbody tr th {\n",
              "        vertical-align: top;\n",
              "    }\n",
              "\n",
              "    .dataframe thead th {\n",
              "        text-align: right;\n",
              "    }\n",
              "</style>\n",
              "<table border=\"1\" class=\"dataframe\">\n",
              "  <thead>\n",
              "    <tr style=\"text-align: right;\">\n",
              "      <th></th>\n",
              "      <th>1</th>\n",
              "      <th>2</th>\n",
              "      <th>3</th>\n",
              "      <th>4</th>\n",
              "      <th>5</th>\n",
              "      <th>6</th>\n",
              "      <th>7</th>\n",
              "      <th>8</th>\n",
              "      <th>9</th>\n",
              "      <th>10</th>\n",
              "      <th>11</th>\n",
              "      <th>12</th>\n",
              "      <th>13</th>\n",
              "      <th>14</th>\n",
              "      <th>15</th>\n",
              "      <th>16</th>\n",
              "    </tr>\n",
              "  </thead>\n",
              "  <tbody>\n",
              "    <tr>\n",
              "      <th>481</th>\n",
              "      <td>0.0</td>\n",
              "      <td>64.0</td>\n",
              "      <td>1.0</td>\n",
              "      <td>0.0</td>\n",
              "      <td>0.0</td>\n",
              "      <td>0.0</td>\n",
              "      <td>0.0</td>\n",
              "      <td>1.0</td>\n",
              "      <td>0.0</td>\n",
              "      <td>253.0</td>\n",
              "      <td>295.0</td>\n",
              "      <td>135.0</td>\n",
              "      <td>38.82</td>\n",
              "      <td>92.0</td>\n",
              "      <td>70.0</td>\n",
              "      <td>1.0</td>\n",
              "    </tr>\n",
              "  </tbody>\n",
              "</table>\n",
              "</div>"
            ],
            "text/plain": [
              "       1     2    3    4    5    6  ...     11     12     13    14    15   16\n",
              "481  0.0  64.0  1.0  0.0  0.0  0.0  ...  295.0  135.0  38.82  92.0  70.0  1.0\n",
              "\n",
              "[1 rows x 16 columns]"
            ]
          },
          "metadata": {
            "tags": []
          },
          "execution_count": 25
        }
      ]
    },
    {
      "cell_type": "code",
      "metadata": {
        "id": "f4OU2utA-Kx3",
        "outputId": "7e75369a-e958-4b15-b12b-b41cc5af6fd6",
        "colab": {
          "base_uri": "https://localhost:8080/"
        }
      },
      "source": [
        "mean11 = np.mean(imputed_hackathon['11'])\n",
        "mean11"
      ],
      "execution_count": null,
      "outputs": [
        {
          "output_type": "execute_result",
          "data": {
            "text/plain": [
              "132.35459905660377"
            ]
          },
          "metadata": {
            "tags": []
          },
          "execution_count": 26
        }
      ]
    },
    {
      "cell_type": "code",
      "metadata": {
        "id": "8dF_zSnT-YVv"
      },
      "source": [
        "imputed_hackathon.iloc[481,10] = mean11"
      ],
      "execution_count": null,
      "outputs": []
    },
    {
      "cell_type": "code",
      "metadata": {
        "id": "wBQXH7Sf-QHD",
        "outputId": "caadd5f0-dcca-4197-cbd5-5404ba63572b",
        "colab": {
          "base_uri": "https://localhost:8080/",
          "height": 279
        }
      },
      "source": [
        "fig,ax = plt.subplots()\n",
        "ax.scatter(x = imputed_hackathon['11'], y = imputed_hackathon['16'])\n",
        "plt.ylabel('Prediction')\n",
        "plt.xlabel('11')\n",
        "plt.show()"
      ],
      "execution_count": null,
      "outputs": [
        {
          "output_type": "display_data",
          "data": {
            "image/png": "[encoded data removed]",
            "text/plain": [
              "<Figure size 432x288 with 1 Axes>"
            ]
          },
          "metadata": {
            "tags": [],
            "needs_background": "light"
          }
        }
      ]
    },
    {
      "cell_type": "code",
      "metadata": {
        "id": "4CmP1ByR-cye",
        "outputId": "86c0d49c-8eb8-4391-b0b6-0e10613491ea",
        "colab": {
          "base_uri": "https://localhost:8080/",
          "height": 279
        }
      },
      "source": [
        "#Column 12\n",
        "fig,ax = plt.subplots()\n",
        "ax.scatter(x = imputed_hackathon['12'], y = imputed_hackathon['16'])\n",
        "plt.ylabel('Prediction')\n",
        "plt.xlabel('12')\n",
        "plt.show()\n",
        "#no outliers"
      ],
      "execution_count": null,
      "outputs": [
        {
          "output_type": "display_data",
          "data": {
            "image/png": "[encoded data removed]",
            "text/plain": [
              "<Figure size 432x288 with 1 Axes>"
            ]
          },
          "metadata": {
            "tags": [],
            "needs_background": "light"
          }
        }
      ]
    },
    {
      "cell_type": "code",
      "metadata": {
        "id": "tOKPTjuQ-i7n",
        "outputId": "ffbc2d33-10e3-4ff5-c362-ada45734116f",
        "colab": {
          "base_uri": "https://localhost:8080/",
          "height": 279
        }
      },
      "source": [
        "#Column 13\n",
        "fig,ax = plt.subplots()\n",
        "ax.scatter(x = imputed_hackathon['13'], y = imputed_hackathon['16'])\n",
        "plt.ylabel('Prediction')\n",
        "plt.xlabel('13')\n",
        "plt.show()"
      ],
      "execution_count": null,
      "outputs": [
        {
          "output_type": "display_data",
          "data": {
            "image/png": "[encoded data removed]",
            "text/plain": [
              "<Figure size 432x288 with 1 Axes>"
            ]
          },
          "metadata": {
            "tags": [],
            "needs_background": "light"
          }
        }
      ]
    },
    {
      "cell_type": "code",
      "metadata": {
        "id": "xbvgeBrr-m6r",
        "outputId": "f3da3c95-f8bb-46f5-e5ea-e63f38d43442",
        "colab": {
          "base_uri": "https://localhost:8080/",
          "height": 111
        }
      },
      "source": [
        "imputed_hackathon[imputed_hackathon['13']>50]"
      ],
      "execution_count": null,
      "outputs": [
        {
          "output_type": "execute_result",
          "data": {
            "text/html": [
              "<div>\n",
              "<style scoped>\n",
              "    .dataframe tbody tr th:only-of-type {\n",
              "        vertical-align: middle;\n",
              "    }\n",
              "\n",
              "    .dataframe tbody tr th {\n",
              "        vertical-align: top;\n",
              "    }\n",
              "\n",
              "    .dataframe thead th {\n",
              "        text-align: right;\n",
              "    }\n",
              "</style>\n",
              "<table border=\"1\" class=\"dataframe\">\n",
              "  <thead>\n",
              "    <tr style=\"text-align: right;\">\n",
              "      <th></th>\n",
              "      <th>1</th>\n",
              "      <th>2</th>\n",
              "      <th>3</th>\n",
              "      <th>4</th>\n",
              "      <th>5</th>\n",
              "      <th>6</th>\n",
              "      <th>7</th>\n",
              "      <th>8</th>\n",
              "      <th>9</th>\n",
              "      <th>10</th>\n",
              "      <th>11</th>\n",
              "      <th>12</th>\n",
              "      <th>13</th>\n",
              "      <th>14</th>\n",
              "      <th>15</th>\n",
              "      <th>16</th>\n",
              "    </tr>\n",
              "  </thead>\n",
              "  <tbody>\n",
              "    <tr>\n",
              "      <th>2657</th>\n",
              "      <td>0.0</td>\n",
              "      <td>55.0</td>\n",
              "      <td>1.0</td>\n",
              "      <td>0.0</td>\n",
              "      <td>0.0</td>\n",
              "      <td>0.0</td>\n",
              "      <td>0.0</td>\n",
              "      <td>1.0</td>\n",
              "      <td>0.0</td>\n",
              "      <td>208.0</td>\n",
              "      <td>190.0</td>\n",
              "      <td>130.0</td>\n",
              "      <td>56.80</td>\n",
              "      <td>90.0</td>\n",
              "      <td>86.0</td>\n",
              "      <td>1.0</td>\n",
              "    </tr>\n",
              "    <tr>\n",
              "      <th>3927</th>\n",
              "      <td>0.0</td>\n",
              "      <td>61.0</td>\n",
              "      <td>1.0</td>\n",
              "      <td>0.0</td>\n",
              "      <td>0.0</td>\n",
              "      <td>1.0</td>\n",
              "      <td>1.0</td>\n",
              "      <td>1.0</td>\n",
              "      <td>0.0</td>\n",
              "      <td>225.0</td>\n",
              "      <td>194.0</td>\n",
              "      <td>111.0</td>\n",
              "      <td>51.28</td>\n",
              "      <td>80.0</td>\n",
              "      <td>103.0</td>\n",
              "      <td>0.0</td>\n",
              "    </tr>\n",
              "  </tbody>\n",
              "</table>\n",
              "</div>"
            ],
            "text/plain": [
              "        1     2    3    4    5    6  ...     11     12     13    14     15   16\n",
              "2657  0.0  55.0  1.0  0.0  0.0  0.0  ...  190.0  130.0  56.80  90.0   86.0  1.0\n",
              "3927  0.0  61.0  1.0  0.0  0.0  1.0  ...  194.0  111.0  51.28  80.0  103.0  0.0\n",
              "\n",
              "[2 rows x 16 columns]"
            ]
          },
          "metadata": {
            "tags": []
          },
          "execution_count": 31
        }
      ]
    },
    {
      "cell_type": "code",
      "metadata": {
        "id": "1WX_GeUX-pWQ",
        "outputId": "52bb93f1-4e2e-4c8a-9e42-c15c6eaca8b4",
        "colab": {
          "base_uri": "https://localhost:8080/"
        }
      },
      "source": [
        "mean13 = np.mean(imputed_hackathon['13'])\n",
        "mean13"
      ],
      "execution_count": null,
      "outputs": [
        {
          "output_type": "execute_result",
          "data": {
            "text/plain": [
              "25.800800758114182"
            ]
          },
          "metadata": {
            "tags": []
          },
          "execution_count": 32
        }
      ]
    },
    {
      "cell_type": "code",
      "metadata": {
        "id": "cnq-QP4V-usT"
      },
      "source": [
        "imputed_hackathon.iloc[2657, 12] = mean13\n",
        "imputed_hackathon.iloc[3927, 12] = mean13"
      ],
      "execution_count": null,
      "outputs": []
    },
    {
      "cell_type": "code",
      "metadata": {
        "id": "vL1h6sK9-w-6",
        "outputId": "569d4774-b878-4280-9fb5-50cab0f72ff1",
        "colab": {
          "base_uri": "https://localhost:8080/",
          "height": 279
        }
      },
      "source": [
        "fig,ax = plt.subplots()\n",
        "ax.scatter(x = imputed_hackathon['13'], y = imputed_hackathon['16'])\n",
        "plt.ylabel('Prediction')\n",
        "plt.xlabel('13')\n",
        "plt.show()"
      ],
      "execution_count": null,
      "outputs": [
        {
          "output_type": "display_data",
          "data": {
            "image/png": "[encoded data removed]",
            "text/plain": [
              "<Figure size 432x288 with 1 Axes>"
            ]
          },
          "metadata": {
            "tags": [],
            "needs_background": "light"
          }
        }
      ]
    },
    {
      "cell_type": "code",
      "metadata": {
        "id": "qyr3Xq9m-zFl",
        "outputId": "17200e30-afa6-45d2-a190-e05783f429ea",
        "colab": {
          "base_uri": "https://localhost:8080/",
          "height": 279
        }
      },
      "source": [
        "#Column 14\n",
        "fig,ax = plt.subplots()\n",
        "ax.scatter(x = imputed_hackathon['14'], y = imputed_hackathon['16'])\n",
        "plt.ylabel('Prediction')\n",
        "plt.xlabel('14')\n",
        "plt.show()"
      ],
      "execution_count": null,
      "outputs": [
        {
          "output_type": "display_data",
          "data": {
            "image/png": "[encoded data removed]",
            "text/plain": [
              "<Figure size 432x288 with 1 Axes>"
            ]
          },
          "metadata": {
            "tags": [],
            "needs_background": "light"
          }
        }
      ]
    },
    {
      "cell_type": "code",
      "metadata": {
        "id": "h2CmLPhK-899",
        "outputId": "5b8cd4fa-5a67-4575-8b0d-54769b0b541a",
        "colab": {
          "base_uri": "https://localhost:8080/",
          "height": 111
        }
      },
      "source": [
        "imputed_hackathon[imputed_hackathon['14']>130]"
      ],
      "execution_count": null,
      "outputs": [
        {
          "output_type": "execute_result",
          "data": {
            "text/html": [
              "<div>\n",
              "<style scoped>\n",
              "    .dataframe tbody tr th:only-of-type {\n",
              "        vertical-align: middle;\n",
              "    }\n",
              "\n",
              "    .dataframe tbody tr th {\n",
              "        vertical-align: top;\n",
              "    }\n",
              "\n",
              "    .dataframe thead th {\n",
              "        text-align: right;\n",
              "    }\n",
              "</style>\n",
              "<table border=\"1\" class=\"dataframe\">\n",
              "  <thead>\n",
              "    <tr style=\"text-align: right;\">\n",
              "      <th></th>\n",
              "      <th>1</th>\n",
              "      <th>2</th>\n",
              "      <th>3</th>\n",
              "      <th>4</th>\n",
              "      <th>5</th>\n",
              "      <th>6</th>\n",
              "      <th>7</th>\n",
              "      <th>8</th>\n",
              "      <th>9</th>\n",
              "      <th>10</th>\n",
              "      <th>11</th>\n",
              "      <th>12</th>\n",
              "      <th>13</th>\n",
              "      <th>14</th>\n",
              "      <th>15</th>\n",
              "      <th>16</th>\n",
              "    </tr>\n",
              "  </thead>\n",
              "  <tbody>\n",
              "    <tr>\n",
              "      <th>339</th>\n",
              "      <td>0.0</td>\n",
              "      <td>64.0</td>\n",
              "      <td>1.0</td>\n",
              "      <td>0.0</td>\n",
              "      <td>0.0</td>\n",
              "      <td>0.0</td>\n",
              "      <td>0.0</td>\n",
              "      <td>1.0</td>\n",
              "      <td>0.0</td>\n",
              "      <td>312.0</td>\n",
              "      <td>160.0</td>\n",
              "      <td>82.0</td>\n",
              "      <td>27.59</td>\n",
              "      <td>140.0</td>\n",
              "      <td>94.0</td>\n",
              "      <td>0.0</td>\n",
              "    </tr>\n",
              "    <tr>\n",
              "      <th>3142</th>\n",
              "      <td>0.0</td>\n",
              "      <td>57.0</td>\n",
              "      <td>1.0</td>\n",
              "      <td>0.0</td>\n",
              "      <td>0.0</td>\n",
              "      <td>0.0</td>\n",
              "      <td>0.0</td>\n",
              "      <td>0.0</td>\n",
              "      <td>0.0</td>\n",
              "      <td>257.0</td>\n",
              "      <td>133.0</td>\n",
              "      <td>94.0</td>\n",
              "      <td>17.71</td>\n",
              "      <td>143.0</td>\n",
              "      <td>75.0</td>\n",
              "      <td>0.0</td>\n",
              "    </tr>\n",
              "  </tbody>\n",
              "</table>\n",
              "</div>"
            ],
            "text/plain": [
              "        1     2    3    4    5    6  ...     11    12     13     14    15   16\n",
              "339   0.0  64.0  1.0  0.0  0.0  0.0  ...  160.0  82.0  27.59  140.0  94.0  0.0\n",
              "3142  0.0  57.0  1.0  0.0  0.0  0.0  ...  133.0  94.0  17.71  143.0  75.0  0.0\n",
              "\n",
              "[2 rows x 16 columns]"
            ]
          },
          "metadata": {
            "tags": []
          },
          "execution_count": 36
        }
      ]
    },
    {
      "cell_type": "code",
      "metadata": {
        "id": "HUhWbwjs_EWZ"
      },
      "source": [
        "mean14 = np.mean(imputed_hackathon['14'])"
      ],
      "execution_count": null,
      "outputs": []
    },
    {
      "cell_type": "code",
      "metadata": {
        "id": "avfR4iPd-_k0"
      },
      "source": [
        "imputed_hackathon.iloc[339,13] = mean14\n",
        "imputed_hackathon.iloc[3142,13] = mean14"
      ],
      "execution_count": null,
      "outputs": []
    },
    {
      "cell_type": "code",
      "metadata": {
        "id": "CdWtGypE_CBP",
        "outputId": "e6b8ae68-1a91-4916-b9ff-3dd3ac9ca9d9",
        "colab": {
          "base_uri": "https://localhost:8080/",
          "height": 279
        }
      },
      "source": [
        "fig,ax = plt.subplots()\n",
        "ax.scatter(x = imputed_hackathon['14'], y = imputed_hackathon['16'])\n",
        "plt.ylabel('Prediction')\n",
        "plt.xlabel('14')\n",
        "plt.show()"
      ],
      "execution_count": null,
      "outputs": [
        {
          "output_type": "display_data",
          "data": {
            "image/png": "[encoded data removed]",
            "text/plain": [
              "<Figure size 432x288 with 1 Axes>"
            ]
          },
          "metadata": {
            "tags": [],
            "needs_background": "light"
          }
        }
      ]
    },
    {
      "cell_type": "code",
      "metadata": {
        "id": "P9LSfd3Q_KU2",
        "outputId": "a63bc14b-6ae4-448e-f445-d4c693ac76a8",
        "colab": {
          "base_uri": "https://localhost:8080/",
          "height": 279
        }
      },
      "source": [
        "fig,ax = plt.subplots()\n",
        "ax.scatter(x = imputed_hackathon['15'], y = imputed_hackathon['16'])\n",
        "plt.ylabel('Prediction')\n",
        "plt.xlabel('15')\n",
        "plt.show()"
      ],
      "execution_count": null,
      "outputs": [
        {
          "output_type": "display_data",
          "data": {
            "image/png": "[encoded data removed]",
            "text/plain": [
              "<Figure size 432x288 with 1 Axes>"
            ]
          },
          "metadata": {
            "tags": [],
            "needs_background": "light"
          }
        }
      ]
    },
    {
      "cell_type": "code",
      "metadata": {
        "id": "kc6I7ftM_NN_",
        "outputId": "11e353df-0fbd-4992-fee2-810b84acea68",
        "colab": {
          "base_uri": "https://localhost:8080/",
          "height": 204
        }
      },
      "source": [
        "imputed_hackathon[imputed_hackathon['15']>350]"
      ],
      "execution_count": null,
      "outputs": [
        {
          "output_type": "execute_result",
          "data": {
            "text/html": [
              "<div>\n",
              "<style scoped>\n",
              "    .dataframe tbody tr th:only-of-type {\n",
              "        vertical-align: middle;\n",
              "    }\n",
              "\n",
              "    .dataframe tbody tr th {\n",
              "        vertical-align: top;\n",
              "    }\n",
              "\n",
              "    .dataframe thead th {\n",
              "        text-align: right;\n",
              "    }\n",
              "</style>\n",
              "<table border=\"1\" class=\"dataframe\">\n",
              "  <thead>\n",
              "    <tr style=\"text-align: right;\">\n",
              "      <th></th>\n",
              "      <th>1</th>\n",
              "      <th>2</th>\n",
              "      <th>3</th>\n",
              "      <th>4</th>\n",
              "      <th>5</th>\n",
              "      <th>6</th>\n",
              "      <th>7</th>\n",
              "      <th>8</th>\n",
              "      <th>9</th>\n",
              "      <th>10</th>\n",
              "      <th>11</th>\n",
              "      <th>12</th>\n",
              "      <th>13</th>\n",
              "      <th>14</th>\n",
              "      <th>15</th>\n",
              "      <th>16</th>\n",
              "    </tr>\n",
              "  </thead>\n",
              "  <tbody>\n",
              "    <tr>\n",
              "      <th>2406</th>\n",
              "      <td>0.0</td>\n",
              "      <td>62.0</td>\n",
              "      <td>1.0</td>\n",
              "      <td>0.0</td>\n",
              "      <td>0.0</td>\n",
              "      <td>0.0</td>\n",
              "      <td>0.0</td>\n",
              "      <td>0.0</td>\n",
              "      <td>1.0</td>\n",
              "      <td>233.0</td>\n",
              "      <td>130.0</td>\n",
              "      <td>87.0</td>\n",
              "      <td>21.34</td>\n",
              "      <td>85.0</td>\n",
              "      <td>386.0</td>\n",
              "      <td>0.0</td>\n",
              "    </tr>\n",
              "    <tr>\n",
              "      <th>2893</th>\n",
              "      <td>1.0</td>\n",
              "      <td>62.0</td>\n",
              "      <td>3.0</td>\n",
              "      <td>0.0</td>\n",
              "      <td>0.0</td>\n",
              "      <td>0.0</td>\n",
              "      <td>0.0</td>\n",
              "      <td>0.0</td>\n",
              "      <td>1.0</td>\n",
              "      <td>346.0</td>\n",
              "      <td>102.5</td>\n",
              "      <td>66.5</td>\n",
              "      <td>17.17</td>\n",
              "      <td>80.0</td>\n",
              "      <td>394.0</td>\n",
              "      <td>1.0</td>\n",
              "    </tr>\n",
              "    <tr>\n",
              "      <th>2909</th>\n",
              "      <td>0.0</td>\n",
              "      <td>67.0</td>\n",
              "      <td>2.0</td>\n",
              "      <td>0.0</td>\n",
              "      <td>0.0</td>\n",
              "      <td>1.0</td>\n",
              "      <td>0.0</td>\n",
              "      <td>1.0</td>\n",
              "      <td>1.0</td>\n",
              "      <td>303.0</td>\n",
              "      <td>204.0</td>\n",
              "      <td>96.0</td>\n",
              "      <td>27.86</td>\n",
              "      <td>75.0</td>\n",
              "      <td>394.0</td>\n",
              "      <td>1.0</td>\n",
              "    </tr>\n",
              "    <tr>\n",
              "      <th>3844</th>\n",
              "      <td>0.0</td>\n",
              "      <td>62.0</td>\n",
              "      <td>3.0</td>\n",
              "      <td>1.0</td>\n",
              "      <td>20.0</td>\n",
              "      <td>1.0</td>\n",
              "      <td>0.0</td>\n",
              "      <td>1.0</td>\n",
              "      <td>1.0</td>\n",
              "      <td>358.0</td>\n",
              "      <td>215.0</td>\n",
              "      <td>110.0</td>\n",
              "      <td>37.62</td>\n",
              "      <td>110.0</td>\n",
              "      <td>368.0</td>\n",
              "      <td>1.0</td>\n",
              "    </tr>\n",
              "    <tr>\n",
              "      <th>3971</th>\n",
              "      <td>1.0</td>\n",
              "      <td>64.0</td>\n",
              "      <td>3.0</td>\n",
              "      <td>0.0</td>\n",
              "      <td>0.0</td>\n",
              "      <td>0.0</td>\n",
              "      <td>0.0</td>\n",
              "      <td>1.0</td>\n",
              "      <td>1.0</td>\n",
              "      <td>195.0</td>\n",
              "      <td>176.0</td>\n",
              "      <td>78.0</td>\n",
              "      <td>24.90</td>\n",
              "      <td>95.0</td>\n",
              "      <td>370.0</td>\n",
              "      <td>0.0</td>\n",
              "    </tr>\n",
              "  </tbody>\n",
              "</table>\n",
              "</div>"
            ],
            "text/plain": [
              "        1     2    3    4     5    6  ...     11     12     13     14     15   16\n",
              "2406  0.0  62.0  1.0  0.0   0.0  0.0  ...  130.0   87.0  21.34   85.0  386.0  0.0\n",
              "2893  1.0  62.0  3.0  0.0   0.0  0.0  ...  102.5   66.5  17.17   80.0  394.0  1.0\n",
              "2909  0.0  67.0  2.0  0.0   0.0  1.0  ...  204.0   96.0  27.86   75.0  394.0  1.0\n",
              "3844  0.0  62.0  3.0  1.0  20.0  1.0  ...  215.0  110.0  37.62  110.0  368.0  1.0\n",
              "3971  1.0  64.0  3.0  0.0   0.0  0.0  ...  176.0   78.0  24.90   95.0  370.0  0.0\n",
              "\n",
              "[5 rows x 16 columns]"
            ]
          },
          "metadata": {
            "tags": []
          },
          "execution_count": 41
        }
      ]
    },
    {
      "cell_type": "code",
      "metadata": {
        "id": "egtc_saE_Pg5",
        "outputId": "431716ad-6e55-4baa-e1cf-f9abc61c2a8b",
        "colab": {
          "base_uri": "https://localhost:8080/"
        }
      },
      "source": [
        "mean15 = np.mean(imputed_hackathon['15'])\n",
        "mean15"
      ],
      "execution_count": null,
      "outputs": [
        {
          "output_type": "execute_result",
          "data": {
            "text/plain": [
              "81.96365524402951"
            ]
          },
          "metadata": {
            "tags": []
          },
          "execution_count": 42
        }
      ]
    },
    {
      "cell_type": "code",
      "metadata": {
        "id": "HGgFBhMl_SLR"
      },
      "source": [
        "imputed_hackathon.iloc[2406, 14] = mean15\n",
        "imputed_hackathon.iloc[2893, 14] = mean15\n",
        "imputed_hackathon.iloc[2909, 14] = mean15\n",
        "imputed_hackathon.iloc[3844, 14] = mean15\n",
        "imputed_hackathon.iloc[3971, 14] = mean15"
      ],
      "execution_count": null,
      "outputs": []
    },
    {
      "cell_type": "code",
      "metadata": {
        "id": "PMc5S9bh_Uf1",
        "outputId": "5f997eb5-1c13-4980-d53f-f99ad3ed5a4d",
        "colab": {
          "base_uri": "https://localhost:8080/",
          "height": 279
        }
      },
      "source": [
        "fig,ax = plt.subplots()\n",
        "ax.scatter(x = imputed_hackathon['15'], y = imputed_hackathon['16'])\n",
        "plt.ylabel('Prediction')\n",
        "plt.xlabel('15')\n",
        "plt.show()"
      ],
      "execution_count": null,
      "outputs": [
        {
          "output_type": "display_data",
          "data": {
            "image/png": "[encoded data removed]",
            "text/plain": [
              "<Figure size 432x288 with 1 Axes>"
            ]
          },
          "metadata": {
            "tags": [],
            "needs_background": "light"
          }
        }
      ]
    },
    {
      "cell_type": "markdown",
      "metadata": {
        "id": "kKzUB3iQzKn4"
      },
      "source": [
        "## **Skewness and Transformation(Normalization)**"
      ]
    },
    {
      "cell_type": "code",
      "metadata": {
        "id": "n0qKwkx0_XNx",
        "outputId": "3db0f815-ecf5-4854-901d-a73cf2cd3be4",
        "colab": {
          "base_uri": "https://localhost:8080/"
        }
      },
      "source": [
        "skewValue = imputed_hackathon.skew()\n",
        "skewValue"
      ],
      "execution_count": null,
      "outputs": [
        {
          "output_type": "execute_result",
          "data": {
            "text/plain": [
              "1      0.285997\n",
              "2      0.228867\n",
              "3      0.697413\n",
              "4      0.023595\n",
              "5      1.251336\n",
              "6      5.586462\n",
              "7     12.912160\n",
              "8      0.818827\n",
              "9      5.995907\n",
              "10     0.529557\n",
              "11     1.076197\n",
              "12     0.713250\n",
              "13     0.861341\n",
              "14     0.587570\n",
              "15     5.438928\n",
              "16     1.940516\n",
              "dtype: float64"
            ]
          },
          "metadata": {
            "tags": []
          },
          "execution_count": 45
        }
      ]
    },
    {
      "cell_type": "code",
      "metadata": {
        "id": "MMbnY0qtzgyU"
      },
      "source": [
        "#Skewness value is large for 6,7,9,11,15,16\n",
        "#Only Columns with numerical data are considered for normalization"
      ],
      "execution_count": null,
      "outputs": []
    },
    {
      "cell_type": "code",
      "metadata": {
        "id": "usefRDOM8ozS",
        "outputId": "1798a1f6-c9c0-4dd8-fbd9-d78dd1f782eb",
        "colab": {
          "base_uri": "https://localhost:8080/",
          "height": 400
        }
      },
      "source": [
        "#Column 11\n",
        "normalized_data11 = stats.boxcox(imputed_hackathon['11']) #applying boxcox transformation\n",
        "\n",
        "fig, ax=plt.subplots(1,2)\n",
        "\n",
        "sns.distplot(imputed_hackathon['11'], ax=ax[0])   #Original data visualization\n",
        "ax[0].set_title(\"Original Data\")\n",
        "sns.distplot(normalized_data11[0] , ax=ax[1])     #After normalization visualization\n",
        "ax[1].set_title(\"Normalized Data\")\n",
        "\n"
      ],
      "execution_count": null,
      "outputs": [
        {
          "output_type": "stream",
          "text": [
            "/usr/local/lib/python3.6/dist-packages/seaborn/distributions.py:2551: FutureWarning: `distplot` is a deprecated function and will be removed in a future version. Please adapt your code to use either `displot` (a figure-level function with similar flexibility) or `histplot` (an axes-level function for histograms).\n",
            "  warnings.warn(msg, FutureWarning)\n",
            "/usr/local/lib/python3.6/dist-packages/seaborn/distributions.py:2551: FutureWarning: `distplot` is a deprecated function and will be removed in a future version. Please adapt your code to use either `displot` (a figure-level function with similar flexibility) or `histplot` (an axes-level function for histograms).\n",
            "  warnings.warn(msg, FutureWarning)\n"
          ],
          "name": "stderr"
        },
        {
          "output_type": "execute_result",
          "data": {
            "text/plain": [
              "Text(0.5, 1.0, 'Normalized Data')"
            ]
          },
          "metadata": {
            "tags": []
          },
          "execution_count": 47
        },
        {
          "output_type": "display_data",
          "data": {
            "image/png": "[encoded data removed]",
            "text/plain": [
              "<Figure size 432x288 with 2 Axes>"
            ]
          },
          "metadata": {
            "tags": [],
            "needs_background": "light"
          }
        }
      ]
    },
    {
      "cell_type": "code",
      "metadata": {
        "id": "E3Etr_z58sFE",
        "outputId": "4e4b44b4-cec4-429c-b069-2e1ff25a64b2",
        "colab": {
          "base_uri": "https://localhost:8080/"
        }
      },
      "source": [
        "new_11 = pd.Series(normalized_data11[0])\n",
        "new_11"
      ],
      "execution_count": null,
      "outputs": [
        {
          "output_type": "execute_result",
          "data": {
            "text/plain": [
              "0       0.782441\n",
              "1       0.782760\n",
              "2       0.782872\n",
              "3       0.783176\n",
              "4       0.782912\n",
              "          ...   \n",
              "4235    0.782927\n",
              "4236    0.782856\n",
              "4237    0.782964\n",
              "4238    0.783068\n",
              "4239    0.782957\n",
              "Length: 4240, dtype: float64"
            ]
          },
          "metadata": {
            "tags": []
          },
          "execution_count": 48
        }
      ]
    },
    {
      "cell_type": "code",
      "metadata": {
        "id": "1H96AVtl83rt",
        "outputId": "9c7512c3-ee98-4b03-8e53-b3a5d1e6ed6f",
        "colab": {
          "base_uri": "https://localhost:8080/",
          "height": 419
        }
      },
      "source": [
        "imputed_hackathon['11'] = new_11            #Replacing with transformed values\n",
        "imputed_hackathon"
      ],
      "execution_count": null,
      "outputs": [
        {
          "output_type": "execute_result",
          "data": {
            "text/html": [
              "<div>\n",
              "<style scoped>\n",
              "    .dataframe tbody tr th:only-of-type {\n",
              "        vertical-align: middle;\n",
              "    }\n",
              "\n",
              "    .dataframe tbody tr th {\n",
              "        vertical-align: top;\n",
              "    }\n",
              "\n",
              "    .dataframe thead th {\n",
              "        text-align: right;\n",
              "    }\n",
              "</style>\n",
              "<table border=\"1\" class=\"dataframe\">\n",
              "  <thead>\n",
              "    <tr style=\"text-align: right;\">\n",
              "      <th></th>\n",
              "      <th>1</th>\n",
              "      <th>2</th>\n",
              "      <th>3</th>\n",
              "      <th>4</th>\n",
              "      <th>5</th>\n",
              "      <th>6</th>\n",
              "      <th>7</th>\n",
              "      <th>8</th>\n",
              "      <th>9</th>\n",
              "      <th>10</th>\n",
              "      <th>11</th>\n",
              "      <th>12</th>\n",
              "      <th>13</th>\n",
              "      <th>14</th>\n",
              "      <th>15</th>\n",
              "      <th>16</th>\n",
              "    </tr>\n",
              "  </thead>\n",
              "  <tbody>\n",
              "    <tr>\n",
              "      <th>0</th>\n",
              "      <td>1.0</td>\n",
              "      <td>39.0</td>\n",
              "      <td>4.0</td>\n",
              "      <td>0.0</td>\n",
              "      <td>0.0</td>\n",
              "      <td>0.000000</td>\n",
              "      <td>0.0</td>\n",
              "      <td>0.0</td>\n",
              "      <td>0.0</td>\n",
              "      <td>195.0</td>\n",
              "      <td>0.782441</td>\n",
              "      <td>70.0</td>\n",
              "      <td>26.97</td>\n",
              "      <td>80.0</td>\n",
              "      <td>77.000000</td>\n",
              "      <td>0.0</td>\n",
              "    </tr>\n",
              "    <tr>\n",
              "      <th>1</th>\n",
              "      <td>0.0</td>\n",
              "      <td>46.0</td>\n",
              "      <td>2.0</td>\n",
              "      <td>0.0</td>\n",
              "      <td>0.0</td>\n",
              "      <td>0.000000</td>\n",
              "      <td>0.0</td>\n",
              "      <td>0.0</td>\n",
              "      <td>0.0</td>\n",
              "      <td>250.0</td>\n",
              "      <td>0.782760</td>\n",
              "      <td>81.0</td>\n",
              "      <td>28.73</td>\n",
              "      <td>95.0</td>\n",
              "      <td>76.000000</td>\n",
              "      <td>0.0</td>\n",
              "    </tr>\n",
              "    <tr>\n",
              "      <th>2</th>\n",
              "      <td>1.0</td>\n",
              "      <td>48.0</td>\n",
              "      <td>1.0</td>\n",
              "      <td>1.0</td>\n",
              "      <td>20.0</td>\n",
              "      <td>0.000000</td>\n",
              "      <td>0.0</td>\n",
              "      <td>0.0</td>\n",
              "      <td>0.0</td>\n",
              "      <td>245.0</td>\n",
              "      <td>0.782872</td>\n",
              "      <td>80.0</td>\n",
              "      <td>25.34</td>\n",
              "      <td>75.0</td>\n",
              "      <td>70.000000</td>\n",
              "      <td>0.0</td>\n",
              "    </tr>\n",
              "    <tr>\n",
              "      <th>3</th>\n",
              "      <td>0.0</td>\n",
              "      <td>61.0</td>\n",
              "      <td>3.0</td>\n",
              "      <td>1.0</td>\n",
              "      <td>30.0</td>\n",
              "      <td>0.000000</td>\n",
              "      <td>0.0</td>\n",
              "      <td>1.0</td>\n",
              "      <td>0.0</td>\n",
              "      <td>225.0</td>\n",
              "      <td>0.783176</td>\n",
              "      <td>95.0</td>\n",
              "      <td>28.58</td>\n",
              "      <td>65.0</td>\n",
              "      <td>103.000000</td>\n",
              "      <td>1.0</td>\n",
              "    </tr>\n",
              "    <tr>\n",
              "      <th>4</th>\n",
              "      <td>0.0</td>\n",
              "      <td>46.0</td>\n",
              "      <td>3.0</td>\n",
              "      <td>1.0</td>\n",
              "      <td>23.0</td>\n",
              "      <td>0.000000</td>\n",
              "      <td>0.0</td>\n",
              "      <td>0.0</td>\n",
              "      <td>0.0</td>\n",
              "      <td>285.0</td>\n",
              "      <td>0.782912</td>\n",
              "      <td>84.0</td>\n",
              "      <td>23.10</td>\n",
              "      <td>85.0</td>\n",
              "      <td>85.000000</td>\n",
              "      <td>0.0</td>\n",
              "    </tr>\n",
              "    <tr>\n",
              "      <th>...</th>\n",
              "      <td>...</td>\n",
              "      <td>...</td>\n",
              "      <td>...</td>\n",
              "      <td>...</td>\n",
              "      <td>...</td>\n",
              "      <td>...</td>\n",
              "      <td>...</td>\n",
              "      <td>...</td>\n",
              "      <td>...</td>\n",
              "      <td>...</td>\n",
              "      <td>...</td>\n",
              "      <td>...</td>\n",
              "      <td>...</td>\n",
              "      <td>...</td>\n",
              "      <td>...</td>\n",
              "      <td>...</td>\n",
              "    </tr>\n",
              "    <tr>\n",
              "      <th>4235</th>\n",
              "      <td>0.0</td>\n",
              "      <td>48.0</td>\n",
              "      <td>2.0</td>\n",
              "      <td>1.0</td>\n",
              "      <td>20.0</td>\n",
              "      <td>0.029615</td>\n",
              "      <td>0.0</td>\n",
              "      <td>0.0</td>\n",
              "      <td>0.0</td>\n",
              "      <td>248.0</td>\n",
              "      <td>0.782927</td>\n",
              "      <td>72.0</td>\n",
              "      <td>22.00</td>\n",
              "      <td>84.0</td>\n",
              "      <td>86.000000</td>\n",
              "      <td>0.0</td>\n",
              "    </tr>\n",
              "    <tr>\n",
              "      <th>4236</th>\n",
              "      <td>0.0</td>\n",
              "      <td>44.0</td>\n",
              "      <td>1.0</td>\n",
              "      <td>1.0</td>\n",
              "      <td>15.0</td>\n",
              "      <td>0.000000</td>\n",
              "      <td>0.0</td>\n",
              "      <td>0.0</td>\n",
              "      <td>0.0</td>\n",
              "      <td>210.0</td>\n",
              "      <td>0.782856</td>\n",
              "      <td>87.0</td>\n",
              "      <td>19.16</td>\n",
              "      <td>86.0</td>\n",
              "      <td>81.963655</td>\n",
              "      <td>0.0</td>\n",
              "    </tr>\n",
              "    <tr>\n",
              "      <th>4237</th>\n",
              "      <td>0.0</td>\n",
              "      <td>52.0</td>\n",
              "      <td>2.0</td>\n",
              "      <td>0.0</td>\n",
              "      <td>0.0</td>\n",
              "      <td>0.000000</td>\n",
              "      <td>0.0</td>\n",
              "      <td>0.0</td>\n",
              "      <td>0.0</td>\n",
              "      <td>269.0</td>\n",
              "      <td>0.782964</td>\n",
              "      <td>83.0</td>\n",
              "      <td>21.47</td>\n",
              "      <td>80.0</td>\n",
              "      <td>107.000000</td>\n",
              "      <td>0.0</td>\n",
              "    </tr>\n",
              "    <tr>\n",
              "      <th>4238</th>\n",
              "      <td>1.0</td>\n",
              "      <td>40.0</td>\n",
              "      <td>3.0</td>\n",
              "      <td>0.0</td>\n",
              "      <td>0.0</td>\n",
              "      <td>0.000000</td>\n",
              "      <td>0.0</td>\n",
              "      <td>1.0</td>\n",
              "      <td>0.0</td>\n",
              "      <td>185.0</td>\n",
              "      <td>0.783068</td>\n",
              "      <td>98.0</td>\n",
              "      <td>25.60</td>\n",
              "      <td>67.0</td>\n",
              "      <td>72.000000</td>\n",
              "      <td>0.0</td>\n",
              "    </tr>\n",
              "    <tr>\n",
              "      <th>4239</th>\n",
              "      <td>0.0</td>\n",
              "      <td>39.0</td>\n",
              "      <td>3.0</td>\n",
              "      <td>1.0</td>\n",
              "      <td>30.0</td>\n",
              "      <td>0.000000</td>\n",
              "      <td>0.0</td>\n",
              "      <td>0.0</td>\n",
              "      <td>0.0</td>\n",
              "      <td>196.0</td>\n",
              "      <td>0.782957</td>\n",
              "      <td>86.0</td>\n",
              "      <td>20.91</td>\n",
              "      <td>85.0</td>\n",
              "      <td>80.000000</td>\n",
              "      <td>0.0</td>\n",
              "    </tr>\n",
              "  </tbody>\n",
              "</table>\n",
              "<p>4240 rows × 16 columns</p>\n",
              "</div>"
            ],
            "text/plain": [
              "        1     2    3    4     5  ...    12     13    14          15   16\n",
              "0     1.0  39.0  4.0  0.0   0.0  ...  70.0  26.97  80.0   77.000000  0.0\n",
              "1     0.0  46.0  2.0  0.0   0.0  ...  81.0  28.73  95.0   76.000000  0.0\n",
              "2     1.0  48.0  1.0  1.0  20.0  ...  80.0  25.34  75.0   70.000000  0.0\n",
              "3     0.0  61.0  3.0  1.0  30.0  ...  95.0  28.58  65.0  103.000000  1.0\n",
              "4     0.0  46.0  3.0  1.0  23.0  ...  84.0  23.10  85.0   85.000000  0.0\n",
              "...   ...   ...  ...  ...   ...  ...   ...    ...   ...         ...  ...\n",
              "4235  0.0  48.0  2.0  1.0  20.0  ...  72.0  22.00  84.0   86.000000  0.0\n",
              "4236  0.0  44.0  1.0  1.0  15.0  ...  87.0  19.16  86.0   81.963655  0.0\n",
              "4237  0.0  52.0  2.0  0.0   0.0  ...  83.0  21.47  80.0  107.000000  0.0\n",
              "4238  1.0  40.0  3.0  0.0   0.0  ...  98.0  25.60  67.0   72.000000  0.0\n",
              "4239  0.0  39.0  3.0  1.0  30.0  ...  86.0  20.91  85.0   80.000000  0.0\n",
              "\n",
              "[4240 rows x 16 columns]"
            ]
          },
          "metadata": {
            "tags": []
          },
          "execution_count": 49
        }
      ]
    },
    {
      "cell_type": "code",
      "metadata": {
        "id": "lpMqEDOJ86H8",
        "outputId": "43ef1a87-2064-4440-ab45-79d4176a28a6",
        "colab": {
          "base_uri": "https://localhost:8080/",
          "height": 400
        }
      },
      "source": [
        "#Column 15\n",
        "normalized_data15 = stats.boxcox(imputed_hackathon['15']) #applying boxcox transformation\n",
        "\n",
        "fig, ax=plt.subplots(1,2)\n",
        "\n",
        "sns.distplot(imputed_hackathon['15'], ax=ax[0])   #Original data visualization\n",
        "ax[0].set_title(\"Original Data\")\n",
        "sns.distplot(normalized_data15[0] , ax=ax[1])  \n",
        "ax[1].set_title(\"Normalized Data\")\n",
        "\n"
      ],
      "execution_count": null,
      "outputs": [
        {
          "output_type": "stream",
          "text": [
            "/usr/local/lib/python3.6/dist-packages/seaborn/distributions.py:2551: FutureWarning: `distplot` is a deprecated function and will be removed in a future version. Please adapt your code to use either `displot` (a figure-level function with similar flexibility) or `histplot` (an axes-level function for histograms).\n",
            "  warnings.warn(msg, FutureWarning)\n",
            "/usr/local/lib/python3.6/dist-packages/seaborn/distributions.py:2551: FutureWarning: `distplot` is a deprecated function and will be removed in a future version. Please adapt your code to use either `displot` (a figure-level function with similar flexibility) or `histplot` (an axes-level function for histograms).\n",
            "  warnings.warn(msg, FutureWarning)\n"
          ],
          "name": "stderr"
        },
        {
          "output_type": "execute_result",
          "data": {
            "text/plain": [
              "Text(0.5, 1.0, 'Normalized Data')"
            ]
          },
          "metadata": {
            "tags": []
          },
          "execution_count": 50
        },
        {
          "output_type": "display_data",
          "data": {
            "image/png": "[encoded data removed]",
            "text/plain": [
              "<Figure size 432x288 with 2 Axes>"
            ]
          },
          "metadata": {
            "tags": [],
            "needs_background": "light"
          }
        }
      ]
    },
    {
      "cell_type": "code",
      "metadata": {
        "id": "3apmK3av89jM",
        "outputId": "a5c37e16-b379-4d45-f797-dd1d3466cab0",
        "colab": {
          "base_uri": "https://localhost:8080/"
        }
      },
      "source": [
        "new_15 = normalized_data15[0]\n",
        "new_15"
      ],
      "execution_count": null,
      "outputs": [
        {
          "output_type": "execute_result",
          "data": {
            "text/plain": [
              "array([0.78769816, 0.78764385, 0.78728081, ..., 0.78880721, 0.78740944,\n",
              "       0.78785189])"
            ]
          },
          "metadata": {
            "tags": []
          },
          "execution_count": 51
        }
      ]
    },
    {
      "cell_type": "code",
      "metadata": {
        "id": "yfDn4IKu9Caj",
        "outputId": "83ec2099-70bc-45d7-cfe9-8ce25e9ac2a8",
        "colab": {
          "base_uri": "https://localhost:8080/",
          "height": 419
        }
      },
      "source": [
        "imputed_hackathon['15'] = new_15\n",
        "imputed_hackathon"
      ],
      "execution_count": null,
      "outputs": [
        {
          "output_type": "execute_result",
          "data": {
            "text/html": [
              "<div>\n",
              "<style scoped>\n",
              "    .dataframe tbody tr th:only-of-type {\n",
              "        vertical-align: middle;\n",
              "    }\n",
              "\n",
              "    .dataframe tbody tr th {\n",
              "        vertical-align: top;\n",
              "    }\n",
              "\n",
              "    .dataframe thead th {\n",
              "        text-align: right;\n",
              "    }\n",
              "</style>\n",
              "<table border=\"1\" class=\"dataframe\">\n",
              "  <thead>\n",
              "    <tr style=\"text-align: right;\">\n",
              "      <th></th>\n",
              "      <th>1</th>\n",
              "      <th>2</th>\n",
              "      <th>3</th>\n",
              "      <th>4</th>\n",
              "      <th>5</th>\n",
              "      <th>6</th>\n",
              "      <th>7</th>\n",
              "      <th>8</th>\n",
              "      <th>9</th>\n",
              "      <th>10</th>\n",
              "      <th>11</th>\n",
              "      <th>12</th>\n",
              "      <th>13</th>\n",
              "      <th>14</th>\n",
              "      <th>15</th>\n",
              "      <th>16</th>\n",
              "    </tr>\n",
              "  </thead>\n",
              "  <tbody>\n",
              "    <tr>\n",
              "      <th>0</th>\n",
              "      <td>1.0</td>\n",
              "      <td>39.0</td>\n",
              "      <td>4.0</td>\n",
              "      <td>0.0</td>\n",
              "      <td>0.0</td>\n",
              "      <td>0.000000</td>\n",
              "      <td>0.0</td>\n",
              "      <td>0.0</td>\n",
              "      <td>0.0</td>\n",
              "      <td>195.0</td>\n",
              "      <td>0.782441</td>\n",
              "      <td>70.0</td>\n",
              "      <td>26.97</td>\n",
              "      <td>80.0</td>\n",
              "      <td>0.787698</td>\n",
              "      <td>0.0</td>\n",
              "    </tr>\n",
              "    <tr>\n",
              "      <th>1</th>\n",
              "      <td>0.0</td>\n",
              "      <td>46.0</td>\n",
              "      <td>2.0</td>\n",
              "      <td>0.0</td>\n",
              "      <td>0.0</td>\n",
              "      <td>0.000000</td>\n",
              "      <td>0.0</td>\n",
              "      <td>0.0</td>\n",
              "      <td>0.0</td>\n",
              "      <td>250.0</td>\n",
              "      <td>0.782760</td>\n",
              "      <td>81.0</td>\n",
              "      <td>28.73</td>\n",
              "      <td>95.0</td>\n",
              "      <td>0.787644</td>\n",
              "      <td>0.0</td>\n",
              "    </tr>\n",
              "    <tr>\n",
              "      <th>2</th>\n",
              "      <td>1.0</td>\n",
              "      <td>48.0</td>\n",
              "      <td>1.0</td>\n",
              "      <td>1.0</td>\n",
              "      <td>20.0</td>\n",
              "      <td>0.000000</td>\n",
              "      <td>0.0</td>\n",
              "      <td>0.0</td>\n",
              "      <td>0.0</td>\n",
              "      <td>245.0</td>\n",
              "      <td>0.782872</td>\n",
              "      <td>80.0</td>\n",
              "      <td>25.34</td>\n",
              "      <td>75.0</td>\n",
              "      <td>0.787281</td>\n",
              "      <td>0.0</td>\n",
              "    </tr>\n",
              "    <tr>\n",
              "      <th>3</th>\n",
              "      <td>0.0</td>\n",
              "      <td>61.0</td>\n",
              "      <td>3.0</td>\n",
              "      <td>1.0</td>\n",
              "      <td>30.0</td>\n",
              "      <td>0.000000</td>\n",
              "      <td>0.0</td>\n",
              "      <td>1.0</td>\n",
              "      <td>0.0</td>\n",
              "      <td>225.0</td>\n",
              "      <td>0.783176</td>\n",
              "      <td>95.0</td>\n",
              "      <td>28.58</td>\n",
              "      <td>65.0</td>\n",
              "      <td>0.788701</td>\n",
              "      <td>1.0</td>\n",
              "    </tr>\n",
              "    <tr>\n",
              "      <th>4</th>\n",
              "      <td>0.0</td>\n",
              "      <td>46.0</td>\n",
              "      <td>3.0</td>\n",
              "      <td>1.0</td>\n",
              "      <td>23.0</td>\n",
              "      <td>0.000000</td>\n",
              "      <td>0.0</td>\n",
              "      <td>0.0</td>\n",
              "      <td>0.0</td>\n",
              "      <td>285.0</td>\n",
              "      <td>0.782912</td>\n",
              "      <td>84.0</td>\n",
              "      <td>23.10</td>\n",
              "      <td>85.0</td>\n",
              "      <td>0.788081</td>\n",
              "      <td>0.0</td>\n",
              "    </tr>\n",
              "    <tr>\n",
              "      <th>...</th>\n",
              "      <td>...</td>\n",
              "      <td>...</td>\n",
              "      <td>...</td>\n",
              "      <td>...</td>\n",
              "      <td>...</td>\n",
              "      <td>...</td>\n",
              "      <td>...</td>\n",
              "      <td>...</td>\n",
              "      <td>...</td>\n",
              "      <td>...</td>\n",
              "      <td>...</td>\n",
              "      <td>...</td>\n",
              "      <td>...</td>\n",
              "      <td>...</td>\n",
              "      <td>...</td>\n",
              "      <td>...</td>\n",
              "    </tr>\n",
              "    <tr>\n",
              "      <th>4235</th>\n",
              "      <td>0.0</td>\n",
              "      <td>48.0</td>\n",
              "      <td>2.0</td>\n",
              "      <td>1.0</td>\n",
              "      <td>20.0</td>\n",
              "      <td>0.029615</td>\n",
              "      <td>0.0</td>\n",
              "      <td>0.0</td>\n",
              "      <td>0.0</td>\n",
              "      <td>248.0</td>\n",
              "      <td>0.782927</td>\n",
              "      <td>72.0</td>\n",
              "      <td>22.00</td>\n",
              "      <td>84.0</td>\n",
              "      <td>0.788123</td>\n",
              "      <td>0.0</td>\n",
              "    </tr>\n",
              "    <tr>\n",
              "      <th>4236</th>\n",
              "      <td>0.0</td>\n",
              "      <td>44.0</td>\n",
              "      <td>1.0</td>\n",
              "      <td>1.0</td>\n",
              "      <td>15.0</td>\n",
              "      <td>0.000000</td>\n",
              "      <td>0.0</td>\n",
              "      <td>0.0</td>\n",
              "      <td>0.0</td>\n",
              "      <td>210.0</td>\n",
              "      <td>0.782856</td>\n",
              "      <td>87.0</td>\n",
              "      <td>19.16</td>\n",
              "      <td>86.0</td>\n",
              "      <td>0.787946</td>\n",
              "      <td>0.0</td>\n",
              "    </tr>\n",
              "    <tr>\n",
              "      <th>4237</th>\n",
              "      <td>0.0</td>\n",
              "      <td>52.0</td>\n",
              "      <td>2.0</td>\n",
              "      <td>0.0</td>\n",
              "      <td>0.0</td>\n",
              "      <td>0.000000</td>\n",
              "      <td>0.0</td>\n",
              "      <td>0.0</td>\n",
              "      <td>0.0</td>\n",
              "      <td>269.0</td>\n",
              "      <td>0.782964</td>\n",
              "      <td>83.0</td>\n",
              "      <td>21.47</td>\n",
              "      <td>80.0</td>\n",
              "      <td>0.788807</td>\n",
              "      <td>0.0</td>\n",
              "    </tr>\n",
              "    <tr>\n",
              "      <th>4238</th>\n",
              "      <td>1.0</td>\n",
              "      <td>40.0</td>\n",
              "      <td>3.0</td>\n",
              "      <td>0.0</td>\n",
              "      <td>0.0</td>\n",
              "      <td>0.000000</td>\n",
              "      <td>0.0</td>\n",
              "      <td>1.0</td>\n",
              "      <td>0.0</td>\n",
              "      <td>185.0</td>\n",
              "      <td>0.783068</td>\n",
              "      <td>98.0</td>\n",
              "      <td>25.60</td>\n",
              "      <td>67.0</td>\n",
              "      <td>0.787409</td>\n",
              "      <td>0.0</td>\n",
              "    </tr>\n",
              "    <tr>\n",
              "      <th>4239</th>\n",
              "      <td>0.0</td>\n",
              "      <td>39.0</td>\n",
              "      <td>3.0</td>\n",
              "      <td>1.0</td>\n",
              "      <td>30.0</td>\n",
              "      <td>0.000000</td>\n",
              "      <td>0.0</td>\n",
              "      <td>0.0</td>\n",
              "      <td>0.0</td>\n",
              "      <td>196.0</td>\n",
              "      <td>0.782957</td>\n",
              "      <td>86.0</td>\n",
              "      <td>20.91</td>\n",
              "      <td>85.0</td>\n",
              "      <td>0.787852</td>\n",
              "      <td>0.0</td>\n",
              "    </tr>\n",
              "  </tbody>\n",
              "</table>\n",
              "<p>4240 rows × 16 columns</p>\n",
              "</div>"
            ],
            "text/plain": [
              "        1     2    3    4     5  ...    12     13    14        15   16\n",
              "0     1.0  39.0  4.0  0.0   0.0  ...  70.0  26.97  80.0  0.787698  0.0\n",
              "1     0.0  46.0  2.0  0.0   0.0  ...  81.0  28.73  95.0  0.787644  0.0\n",
              "2     1.0  48.0  1.0  1.0  20.0  ...  80.0  25.34  75.0  0.787281  0.0\n",
              "3     0.0  61.0  3.0  1.0  30.0  ...  95.0  28.58  65.0  0.788701  1.0\n",
              "4     0.0  46.0  3.0  1.0  23.0  ...  84.0  23.10  85.0  0.788081  0.0\n",
              "...   ...   ...  ...  ...   ...  ...   ...    ...   ...       ...  ...\n",
              "4235  0.0  48.0  2.0  1.0  20.0  ...  72.0  22.00  84.0  0.788123  0.0\n",
              "4236  0.0  44.0  1.0  1.0  15.0  ...  87.0  19.16  86.0  0.787946  0.0\n",
              "4237  0.0  52.0  2.0  0.0   0.0  ...  83.0  21.47  80.0  0.788807  0.0\n",
              "4238  1.0  40.0  3.0  0.0   0.0  ...  98.0  25.60  67.0  0.787409  0.0\n",
              "4239  0.0  39.0  3.0  1.0  30.0  ...  86.0  20.91  85.0  0.787852  0.0\n",
              "\n",
              "[4240 rows x 16 columns]"
            ]
          },
          "metadata": {
            "tags": []
          },
          "execution_count": 52
        }
      ]
    },
    {
      "cell_type": "code",
      "metadata": {
        "id": "jQhc2Yvm9EdW",
        "outputId": "ff40e633-ad2e-414c-dabc-61ae3b7e9971",
        "colab": {
          "base_uri": "https://localhost:8080/",
          "height": 400
        }
      },
      "source": [
        "#Column 12\n",
        "normalized_data12 = stats.boxcox(imputed_hackathon['12']) #applying boxcox transformation\n",
        "\n",
        "fig, ax=plt.subplots(1,2)\n",
        "\n",
        "sns.distplot(imputed_hackathon['12'], ax=ax[0])   #Original data visualization\n",
        "ax[0].set_title(\"Original Data\")\n",
        "sns.distplot(normalized_data12[0] , ax=ax[1])  \n",
        "ax[1].set_title(\"Normalized Data\")"
      ],
      "execution_count": null,
      "outputs": [
        {
          "output_type": "stream",
          "text": [
            "/usr/local/lib/python3.6/dist-packages/seaborn/distributions.py:2551: FutureWarning: `distplot` is a deprecated function and will be removed in a future version. Please adapt your code to use either `displot` (a figure-level function with similar flexibility) or `histplot` (an axes-level function for histograms).\n",
            "  warnings.warn(msg, FutureWarning)\n",
            "/usr/local/lib/python3.6/dist-packages/seaborn/distributions.py:2551: FutureWarning: `distplot` is a deprecated function and will be removed in a future version. Please adapt your code to use either `displot` (a figure-level function with similar flexibility) or `histplot` (an axes-level function for histograms).\n",
            "  warnings.warn(msg, FutureWarning)\n"
          ],
          "name": "stderr"
        },
        {
          "output_type": "execute_result",
          "data": {
            "text/plain": [
              "Text(0.5, 1.0, 'Normalized Data')"
            ]
          },
          "metadata": {
            "tags": []
          },
          "execution_count": 53
        },
        {
          "output_type": "display_data",
          "data": {
            "image/png": "[encoded data removed]",
            "text/plain": [
              "<Figure size 432x288 with 2 Axes>"
            ]
          },
          "metadata": {
            "tags": [],
            "needs_background": "light"
          }
        }
      ]
    },
    {
      "cell_type": "code",
      "metadata": {
        "id": "nZsQGGsj9G2f",
        "outputId": "a2e49e94-f8df-4ff1-e619-497f3ac9e72b",
        "colab": {
          "base_uri": "https://localhost:8080/"
        }
      },
      "source": [
        "new_12 = normalized_data12[0]\n",
        "new_12"
      ],
      "execution_count": null,
      "outputs": [
        {
          "output_type": "execute_result",
          "data": {
            "text/plain": [
              "array([2.08831659, 2.11585629, 2.11357224, ..., 2.12030926, 2.14954798,\n",
              "       2.12671699])"
            ]
          },
          "metadata": {
            "tags": []
          },
          "execution_count": 54
        }
      ]
    },
    {
      "cell_type": "code",
      "metadata": {
        "id": "RIR9tg0D9JRK",
        "outputId": "ac3a5c39-019c-4cdc-8a5d-2b3b90eb0c56",
        "colab": {
          "base_uri": "https://localhost:8080/",
          "height": 419
        }
      },
      "source": [
        "imputed_hackathon['12'] = new_12\n",
        "imputed_hackathon"
      ],
      "execution_count": null,
      "outputs": [
        {
          "output_type": "execute_result",
          "data": {
            "text/html": [
              "<div>\n",
              "<style scoped>\n",
              "    .dataframe tbody tr th:only-of-type {\n",
              "        vertical-align: middle;\n",
              "    }\n",
              "\n",
              "    .dataframe tbody tr th {\n",
              "        vertical-align: top;\n",
              "    }\n",
              "\n",
              "    .dataframe thead th {\n",
              "        text-align: right;\n",
              "    }\n",
              "</style>\n",
              "<table border=\"1\" class=\"dataframe\">\n",
              "  <thead>\n",
              "    <tr style=\"text-align: right;\">\n",
              "      <th></th>\n",
              "      <th>1</th>\n",
              "      <th>2</th>\n",
              "      <th>3</th>\n",
              "      <th>4</th>\n",
              "      <th>5</th>\n",
              "      <th>6</th>\n",
              "      <th>7</th>\n",
              "      <th>8</th>\n",
              "      <th>9</th>\n",
              "      <th>10</th>\n",
              "      <th>11</th>\n",
              "      <th>12</th>\n",
              "      <th>13</th>\n",
              "      <th>14</th>\n",
              "      <th>15</th>\n",
              "      <th>16</th>\n",
              "    </tr>\n",
              "  </thead>\n",
              "  <tbody>\n",
              "    <tr>\n",
              "      <th>0</th>\n",
              "      <td>1.0</td>\n",
              "      <td>39.0</td>\n",
              "      <td>4.0</td>\n",
              "      <td>0.0</td>\n",
              "      <td>0.0</td>\n",
              "      <td>0.000000</td>\n",
              "      <td>0.0</td>\n",
              "      <td>0.0</td>\n",
              "      <td>0.0</td>\n",
              "      <td>195.0</td>\n",
              "      <td>0.782441</td>\n",
              "      <td>2.088317</td>\n",
              "      <td>26.97</td>\n",
              "      <td>80.0</td>\n",
              "      <td>0.787698</td>\n",
              "      <td>0.0</td>\n",
              "    </tr>\n",
              "    <tr>\n",
              "      <th>1</th>\n",
              "      <td>0.0</td>\n",
              "      <td>46.0</td>\n",
              "      <td>2.0</td>\n",
              "      <td>0.0</td>\n",
              "      <td>0.0</td>\n",
              "      <td>0.000000</td>\n",
              "      <td>0.0</td>\n",
              "      <td>0.0</td>\n",
              "      <td>0.0</td>\n",
              "      <td>250.0</td>\n",
              "      <td>0.782760</td>\n",
              "      <td>2.115856</td>\n",
              "      <td>28.73</td>\n",
              "      <td>95.0</td>\n",
              "      <td>0.787644</td>\n",
              "      <td>0.0</td>\n",
              "    </tr>\n",
              "    <tr>\n",
              "      <th>2</th>\n",
              "      <td>1.0</td>\n",
              "      <td>48.0</td>\n",
              "      <td>1.0</td>\n",
              "      <td>1.0</td>\n",
              "      <td>20.0</td>\n",
              "      <td>0.000000</td>\n",
              "      <td>0.0</td>\n",
              "      <td>0.0</td>\n",
              "      <td>0.0</td>\n",
              "      <td>245.0</td>\n",
              "      <td>0.782872</td>\n",
              "      <td>2.113572</td>\n",
              "      <td>25.34</td>\n",
              "      <td>75.0</td>\n",
              "      <td>0.787281</td>\n",
              "      <td>0.0</td>\n",
              "    </tr>\n",
              "    <tr>\n",
              "      <th>3</th>\n",
              "      <td>0.0</td>\n",
              "      <td>61.0</td>\n",
              "      <td>3.0</td>\n",
              "      <td>1.0</td>\n",
              "      <td>30.0</td>\n",
              "      <td>0.000000</td>\n",
              "      <td>0.0</td>\n",
              "      <td>1.0</td>\n",
              "      <td>0.0</td>\n",
              "      <td>225.0</td>\n",
              "      <td>0.783176</td>\n",
              "      <td>2.144218</td>\n",
              "      <td>28.58</td>\n",
              "      <td>65.0</td>\n",
              "      <td>0.788701</td>\n",
              "      <td>1.0</td>\n",
              "    </tr>\n",
              "    <tr>\n",
              "      <th>4</th>\n",
              "      <td>0.0</td>\n",
              "      <td>46.0</td>\n",
              "      <td>3.0</td>\n",
              "      <td>1.0</td>\n",
              "      <td>23.0</td>\n",
              "      <td>0.000000</td>\n",
              "      <td>0.0</td>\n",
              "      <td>0.0</td>\n",
              "      <td>0.0</td>\n",
              "      <td>285.0</td>\n",
              "      <td>0.782912</td>\n",
              "      <td>2.122480</td>\n",
              "      <td>23.10</td>\n",
              "      <td>85.0</td>\n",
              "      <td>0.788081</td>\n",
              "      <td>0.0</td>\n",
              "    </tr>\n",
              "    <tr>\n",
              "      <th>...</th>\n",
              "      <td>...</td>\n",
              "      <td>...</td>\n",
              "      <td>...</td>\n",
              "      <td>...</td>\n",
              "      <td>...</td>\n",
              "      <td>...</td>\n",
              "      <td>...</td>\n",
              "      <td>...</td>\n",
              "      <td>...</td>\n",
              "      <td>...</td>\n",
              "      <td>...</td>\n",
              "      <td>...</td>\n",
              "      <td>...</td>\n",
              "      <td>...</td>\n",
              "      <td>...</td>\n",
              "      <td>...</td>\n",
              "    </tr>\n",
              "    <tr>\n",
              "      <th>4235</th>\n",
              "      <td>0.0</td>\n",
              "      <td>48.0</td>\n",
              "      <td>2.0</td>\n",
              "      <td>1.0</td>\n",
              "      <td>20.0</td>\n",
              "      <td>0.029615</td>\n",
              "      <td>0.0</td>\n",
              "      <td>0.0</td>\n",
              "      <td>0.0</td>\n",
              "      <td>248.0</td>\n",
              "      <td>0.782927</td>\n",
              "      <td>2.093754</td>\n",
              "      <td>22.00</td>\n",
              "      <td>84.0</td>\n",
              "      <td>0.788123</td>\n",
              "      <td>0.0</td>\n",
              "    </tr>\n",
              "    <tr>\n",
              "      <th>4236</th>\n",
              "      <td>0.0</td>\n",
              "      <td>44.0</td>\n",
              "      <td>1.0</td>\n",
              "      <td>1.0</td>\n",
              "      <td>15.0</td>\n",
              "      <td>0.000000</td>\n",
              "      <td>0.0</td>\n",
              "      <td>0.0</td>\n",
              "      <td>0.0</td>\n",
              "      <td>210.0</td>\n",
              "      <td>0.782856</td>\n",
              "      <td>2.128784</td>\n",
              "      <td>19.16</td>\n",
              "      <td>86.0</td>\n",
              "      <td>0.787946</td>\n",
              "      <td>0.0</td>\n",
              "    </tr>\n",
              "    <tr>\n",
              "      <th>4237</th>\n",
              "      <td>0.0</td>\n",
              "      <td>52.0</td>\n",
              "      <td>2.0</td>\n",
              "      <td>0.0</td>\n",
              "      <td>0.0</td>\n",
              "      <td>0.000000</td>\n",
              "      <td>0.0</td>\n",
              "      <td>0.0</td>\n",
              "      <td>0.0</td>\n",
              "      <td>269.0</td>\n",
              "      <td>0.782964</td>\n",
              "      <td>2.120309</td>\n",
              "      <td>21.47</td>\n",
              "      <td>80.0</td>\n",
              "      <td>0.788807</td>\n",
              "      <td>0.0</td>\n",
              "    </tr>\n",
              "    <tr>\n",
              "      <th>4238</th>\n",
              "      <td>1.0</td>\n",
              "      <td>40.0</td>\n",
              "      <td>3.0</td>\n",
              "      <td>0.0</td>\n",
              "      <td>0.0</td>\n",
              "      <td>0.000000</td>\n",
              "      <td>0.0</td>\n",
              "      <td>1.0</td>\n",
              "      <td>0.0</td>\n",
              "      <td>185.0</td>\n",
              "      <td>0.783068</td>\n",
              "      <td>2.149548</td>\n",
              "      <td>25.60</td>\n",
              "      <td>67.0</td>\n",
              "      <td>0.787409</td>\n",
              "      <td>0.0</td>\n",
              "    </tr>\n",
              "    <tr>\n",
              "      <th>4239</th>\n",
              "      <td>0.0</td>\n",
              "      <td>39.0</td>\n",
              "      <td>3.0</td>\n",
              "      <td>1.0</td>\n",
              "      <td>30.0</td>\n",
              "      <td>0.000000</td>\n",
              "      <td>0.0</td>\n",
              "      <td>0.0</td>\n",
              "      <td>0.0</td>\n",
              "      <td>196.0</td>\n",
              "      <td>0.782957</td>\n",
              "      <td>2.126717</td>\n",
              "      <td>20.91</td>\n",
              "      <td>85.0</td>\n",
              "      <td>0.787852</td>\n",
              "      <td>0.0</td>\n",
              "    </tr>\n",
              "  </tbody>\n",
              "</table>\n",
              "<p>4240 rows × 16 columns</p>\n",
              "</div>"
            ],
            "text/plain": [
              "        1     2    3    4     5  ...        12     13    14        15   16\n",
              "0     1.0  39.0  4.0  0.0   0.0  ...  2.088317  26.97  80.0  0.787698  0.0\n",
              "1     0.0  46.0  2.0  0.0   0.0  ...  2.115856  28.73  95.0  0.787644  0.0\n",
              "2     1.0  48.0  1.0  1.0  20.0  ...  2.113572  25.34  75.0  0.787281  0.0\n",
              "3     0.0  61.0  3.0  1.0  30.0  ...  2.144218  28.58  65.0  0.788701  1.0\n",
              "4     0.0  46.0  3.0  1.0  23.0  ...  2.122480  23.10  85.0  0.788081  0.0\n",
              "...   ...   ...  ...  ...   ...  ...       ...    ...   ...       ...  ...\n",
              "4235  0.0  48.0  2.0  1.0  20.0  ...  2.093754  22.00  84.0  0.788123  0.0\n",
              "4236  0.0  44.0  1.0  1.0  15.0  ...  2.128784  19.16  86.0  0.787946  0.0\n",
              "4237  0.0  52.0  2.0  0.0   0.0  ...  2.120309  21.47  80.0  0.788807  0.0\n",
              "4238  1.0  40.0  3.0  0.0   0.0  ...  2.149548  25.60  67.0  0.787409  0.0\n",
              "4239  0.0  39.0  3.0  1.0  30.0  ...  2.126717  20.91  85.0  0.787852  0.0\n",
              "\n",
              "[4240 rows x 16 columns]"
            ]
          },
          "metadata": {
            "tags": []
          },
          "execution_count": 55
        }
      ]
    },
    {
      "cell_type": "code",
      "metadata": {
        "id": "EPT6zvSq9Lns",
        "outputId": "1671a822-b7fe-4145-a9c6-502fbe4244b7",
        "colab": {
          "base_uri": "https://localhost:8080/",
          "height": 400
        }
      },
      "source": [
        "#Column 13\n",
        "normalized_data13 = stats.boxcox(imputed_hackathon['13']) #applying boxcox transformation\n",
        "\n",
        "fig, ax=plt.subplots(1,2)\n",
        "\n",
        "sns.distplot(imputed_hackathon['13'], ax=ax[0])   #Original data visualization\n",
        "ax[0].set_title(\"Original Data\")\n",
        "sns.distplot(normalized_data13[0] , ax=ax[1])  \n",
        "ax[1].set_title(\"Normalized Data\")"
      ],
      "execution_count": null,
      "outputs": [
        {
          "output_type": "stream",
          "text": [
            "/usr/local/lib/python3.6/dist-packages/seaborn/distributions.py:2551: FutureWarning: `distplot` is a deprecated function and will be removed in a future version. Please adapt your code to use either `displot` (a figure-level function with similar flexibility) or `histplot` (an axes-level function for histograms).\n",
            "  warnings.warn(msg, FutureWarning)\n",
            "/usr/local/lib/python3.6/dist-packages/seaborn/distributions.py:2551: FutureWarning: `distplot` is a deprecated function and will be removed in a future version. Please adapt your code to use either `displot` (a figure-level function with similar flexibility) or `histplot` (an axes-level function for histograms).\n",
            "  warnings.warn(msg, FutureWarning)\n"
          ],
          "name": "stderr"
        },
        {
          "output_type": "execute_result",
          "data": {
            "text/plain": [
              "Text(0.5, 1.0, 'Normalized Data')"
            ]
          },
          "metadata": {
            "tags": []
          },
          "execution_count": 56
        },
        {
          "output_type": "display_data",
          "data": {
            "image/png": "[encoded data removed]",
            "text/plain": [
              "<Figure size 432x288 with 2 Axes>"
            ]
          },
          "metadata": {
            "tags": [],
            "needs_background": "light"
          }
        }
      ]
    },
    {
      "cell_type": "code",
      "metadata": {
        "id": "COMjejVr9OaO",
        "outputId": "9c455731-2b19-48d5-afa8-9ec7eddc5414",
        "colab": {
          "base_uri": "https://localhost:8080/"
        }
      },
      "source": [
        "new_13 = normalized_data13[0]\n",
        "new_13"
      ],
      "execution_count": null,
      "outputs": [
        {
          "output_type": "execute_result",
          "data": {
            "text/plain": [
              "array([1.58898637, 1.60044752, 1.57731382, ..., 1.54440412, 1.57925084,\n",
              "       1.53889217])"
            ]
          },
          "metadata": {
            "tags": []
          },
          "execution_count": 57
        }
      ]
    },
    {
      "cell_type": "code",
      "metadata": {
        "id": "uDYt596D9RpF",
        "outputId": "e22f5ade-c669-42c5-e470-ff6612be255e",
        "colab": {
          "base_uri": "https://localhost:8080/",
          "height": 419
        }
      },
      "source": [
        "imputed_hackathon['13'] = new_13\n",
        "imputed_hackathon"
      ],
      "execution_count": null,
      "outputs": [
        {
          "output_type": "execute_result",
          "data": {
            "text/html": [
              "<div>\n",
              "<style scoped>\n",
              "    .dataframe tbody tr th:only-of-type {\n",
              "        vertical-align: middle;\n",
              "    }\n",
              "\n",
              "    .dataframe tbody tr th {\n",
              "        vertical-align: top;\n",
              "    }\n",
              "\n",
              "    .dataframe thead th {\n",
              "        text-align: right;\n",
              "    }\n",
              "</style>\n",
              "<table border=\"1\" class=\"dataframe\">\n",
              "  <thead>\n",
              "    <tr style=\"text-align: right;\">\n",
              "      <th></th>\n",
              "      <th>1</th>\n",
              "      <th>2</th>\n",
              "      <th>3</th>\n",
              "      <th>4</th>\n",
              "      <th>5</th>\n",
              "      <th>6</th>\n",
              "      <th>7</th>\n",
              "      <th>8</th>\n",
              "      <th>9</th>\n",
              "      <th>10</th>\n",
              "      <th>11</th>\n",
              "      <th>12</th>\n",
              "      <th>13</th>\n",
              "      <th>14</th>\n",
              "      <th>15</th>\n",
              "      <th>16</th>\n",
              "    </tr>\n",
              "  </thead>\n",
              "  <tbody>\n",
              "    <tr>\n",
              "      <th>0</th>\n",
              "      <td>1.0</td>\n",
              "      <td>39.0</td>\n",
              "      <td>4.0</td>\n",
              "      <td>0.0</td>\n",
              "      <td>0.0</td>\n",
              "      <td>0.000000</td>\n",
              "      <td>0.0</td>\n",
              "      <td>0.0</td>\n",
              "      <td>0.0</td>\n",
              "      <td>195.0</td>\n",
              "      <td>0.782441</td>\n",
              "      <td>2.088317</td>\n",
              "      <td>1.588986</td>\n",
              "      <td>80.0</td>\n",
              "      <td>0.787698</td>\n",
              "      <td>0.0</td>\n",
              "    </tr>\n",
              "    <tr>\n",
              "      <th>1</th>\n",
              "      <td>0.0</td>\n",
              "      <td>46.0</td>\n",
              "      <td>2.0</td>\n",
              "      <td>0.0</td>\n",
              "      <td>0.0</td>\n",
              "      <td>0.000000</td>\n",
              "      <td>0.0</td>\n",
              "      <td>0.0</td>\n",
              "      <td>0.0</td>\n",
              "      <td>250.0</td>\n",
              "      <td>0.782760</td>\n",
              "      <td>2.115856</td>\n",
              "      <td>1.600448</td>\n",
              "      <td>95.0</td>\n",
              "      <td>0.787644</td>\n",
              "      <td>0.0</td>\n",
              "    </tr>\n",
              "    <tr>\n",
              "      <th>2</th>\n",
              "      <td>1.0</td>\n",
              "      <td>48.0</td>\n",
              "      <td>1.0</td>\n",
              "      <td>1.0</td>\n",
              "      <td>20.0</td>\n",
              "      <td>0.000000</td>\n",
              "      <td>0.0</td>\n",
              "      <td>0.0</td>\n",
              "      <td>0.0</td>\n",
              "      <td>245.0</td>\n",
              "      <td>0.782872</td>\n",
              "      <td>2.113572</td>\n",
              "      <td>1.577314</td>\n",
              "      <td>75.0</td>\n",
              "      <td>0.787281</td>\n",
              "      <td>0.0</td>\n",
              "    </tr>\n",
              "    <tr>\n",
              "      <th>3</th>\n",
              "      <td>0.0</td>\n",
              "      <td>61.0</td>\n",
              "      <td>3.0</td>\n",
              "      <td>1.0</td>\n",
              "      <td>30.0</td>\n",
              "      <td>0.000000</td>\n",
              "      <td>0.0</td>\n",
              "      <td>1.0</td>\n",
              "      <td>0.0</td>\n",
              "      <td>225.0</td>\n",
              "      <td>0.783176</td>\n",
              "      <td>2.144218</td>\n",
              "      <td>1.599513</td>\n",
              "      <td>65.0</td>\n",
              "      <td>0.788701</td>\n",
              "      <td>1.0</td>\n",
              "    </tr>\n",
              "    <tr>\n",
              "      <th>4</th>\n",
              "      <td>0.0</td>\n",
              "      <td>46.0</td>\n",
              "      <td>3.0</td>\n",
              "      <td>1.0</td>\n",
              "      <td>23.0</td>\n",
              "      <td>0.000000</td>\n",
              "      <td>0.0</td>\n",
              "      <td>0.0</td>\n",
              "      <td>0.0</td>\n",
              "      <td>285.0</td>\n",
              "      <td>0.782912</td>\n",
              "      <td>2.122480</td>\n",
              "      <td>1.559281</td>\n",
              "      <td>85.0</td>\n",
              "      <td>0.788081</td>\n",
              "      <td>0.0</td>\n",
              "    </tr>\n",
              "    <tr>\n",
              "      <th>...</th>\n",
              "      <td>...</td>\n",
              "      <td>...</td>\n",
              "      <td>...</td>\n",
              "      <td>...</td>\n",
              "      <td>...</td>\n",
              "      <td>...</td>\n",
              "      <td>...</td>\n",
              "      <td>...</td>\n",
              "      <td>...</td>\n",
              "      <td>...</td>\n",
              "      <td>...</td>\n",
              "      <td>...</td>\n",
              "      <td>...</td>\n",
              "      <td>...</td>\n",
              "      <td>...</td>\n",
              "      <td>...</td>\n",
              "    </tr>\n",
              "    <tr>\n",
              "      <th>4235</th>\n",
              "      <td>0.0</td>\n",
              "      <td>48.0</td>\n",
              "      <td>2.0</td>\n",
              "      <td>1.0</td>\n",
              "      <td>20.0</td>\n",
              "      <td>0.029615</td>\n",
              "      <td>0.0</td>\n",
              "      <td>0.0</td>\n",
              "      <td>0.0</td>\n",
              "      <td>248.0</td>\n",
              "      <td>0.782927</td>\n",
              "      <td>2.093754</td>\n",
              "      <td>1.549424</td>\n",
              "      <td>84.0</td>\n",
              "      <td>0.788123</td>\n",
              "      <td>0.0</td>\n",
              "    </tr>\n",
              "    <tr>\n",
              "      <th>4236</th>\n",
              "      <td>0.0</td>\n",
              "      <td>44.0</td>\n",
              "      <td>1.0</td>\n",
              "      <td>1.0</td>\n",
              "      <td>15.0</td>\n",
              "      <td>0.000000</td>\n",
              "      <td>0.0</td>\n",
              "      <td>0.0</td>\n",
              "      <td>0.0</td>\n",
              "      <td>210.0</td>\n",
              "      <td>0.782856</td>\n",
              "      <td>2.128784</td>\n",
              "      <td>1.520122</td>\n",
              "      <td>86.0</td>\n",
              "      <td>0.787946</td>\n",
              "      <td>0.0</td>\n",
              "    </tr>\n",
              "    <tr>\n",
              "      <th>4237</th>\n",
              "      <td>0.0</td>\n",
              "      <td>52.0</td>\n",
              "      <td>2.0</td>\n",
              "      <td>0.0</td>\n",
              "      <td>0.0</td>\n",
              "      <td>0.000000</td>\n",
              "      <td>0.0</td>\n",
              "      <td>0.0</td>\n",
              "      <td>0.0</td>\n",
              "      <td>269.0</td>\n",
              "      <td>0.782964</td>\n",
              "      <td>2.120309</td>\n",
              "      <td>1.544404</td>\n",
              "      <td>80.0</td>\n",
              "      <td>0.788807</td>\n",
              "      <td>0.0</td>\n",
              "    </tr>\n",
              "    <tr>\n",
              "      <th>4238</th>\n",
              "      <td>1.0</td>\n",
              "      <td>40.0</td>\n",
              "      <td>3.0</td>\n",
              "      <td>0.0</td>\n",
              "      <td>0.0</td>\n",
              "      <td>0.000000</td>\n",
              "      <td>0.0</td>\n",
              "      <td>1.0</td>\n",
              "      <td>0.0</td>\n",
              "      <td>185.0</td>\n",
              "      <td>0.783068</td>\n",
              "      <td>2.149548</td>\n",
              "      <td>1.579251</td>\n",
              "      <td>67.0</td>\n",
              "      <td>0.787409</td>\n",
              "      <td>0.0</td>\n",
              "    </tr>\n",
              "    <tr>\n",
              "      <th>4239</th>\n",
              "      <td>0.0</td>\n",
              "      <td>39.0</td>\n",
              "      <td>3.0</td>\n",
              "      <td>1.0</td>\n",
              "      <td>30.0</td>\n",
              "      <td>0.000000</td>\n",
              "      <td>0.0</td>\n",
              "      <td>0.0</td>\n",
              "      <td>0.0</td>\n",
              "      <td>196.0</td>\n",
              "      <td>0.782957</td>\n",
              "      <td>2.126717</td>\n",
              "      <td>1.538892</td>\n",
              "      <td>85.0</td>\n",
              "      <td>0.787852</td>\n",
              "      <td>0.0</td>\n",
              "    </tr>\n",
              "  </tbody>\n",
              "</table>\n",
              "<p>4240 rows × 16 columns</p>\n",
              "</div>"
            ],
            "text/plain": [
              "        1     2    3    4     5  ...        12        13    14        15   16\n",
              "0     1.0  39.0  4.0  0.0   0.0  ...  2.088317  1.588986  80.0  0.787698  0.0\n",
              "1     0.0  46.0  2.0  0.0   0.0  ...  2.115856  1.600448  95.0  0.787644  0.0\n",
              "2     1.0  48.0  1.0  1.0  20.0  ...  2.113572  1.577314  75.0  0.787281  0.0\n",
              "3     0.0  61.0  3.0  1.0  30.0  ...  2.144218  1.599513  65.0  0.788701  1.0\n",
              "4     0.0  46.0  3.0  1.0  23.0  ...  2.122480  1.559281  85.0  0.788081  0.0\n",
              "...   ...   ...  ...  ...   ...  ...       ...       ...   ...       ...  ...\n",
              "4235  0.0  48.0  2.0  1.0  20.0  ...  2.093754  1.549424  84.0  0.788123  0.0\n",
              "4236  0.0  44.0  1.0  1.0  15.0  ...  2.128784  1.520122  86.0  0.787946  0.0\n",
              "4237  0.0  52.0  2.0  0.0   0.0  ...  2.120309  1.544404  80.0  0.788807  0.0\n",
              "4238  1.0  40.0  3.0  0.0   0.0  ...  2.149548  1.579251  67.0  0.787409  0.0\n",
              "4239  0.0  39.0  3.0  1.0  30.0  ...  2.126717  1.538892  85.0  0.787852  0.0\n",
              "\n",
              "[4240 rows x 16 columns]"
            ]
          },
          "metadata": {
            "tags": []
          },
          "execution_count": 58
        }
      ]
    },
    {
      "cell_type": "code",
      "metadata": {
        "id": "9RbHFm0c9UQh",
        "outputId": "0da439d8-7eaa-4d45-b1a5-c69f9ac4d981",
        "colab": {
          "base_uri": "https://localhost:8080/",
          "height": 400
        }
      },
      "source": [
        "#Column 14\n",
        "normalized_data14 = stats.boxcox(imputed_hackathon['14']) #applying boxcox transformation\n",
        "\n",
        "fig, ax=plt.subplots(1,2)\n",
        "\n",
        "sns.distplot(imputed_hackathon['14'], ax=ax[0])   #Original data visualization\n",
        "ax[0].set_title(\"Original Data\")\n",
        "sns.distplot(normalized_data14[0] , ax=ax[1])  \n",
        "ax[1].set_title(\"Normalized Data\")"
      ],
      "execution_count": null,
      "outputs": [
        {
          "output_type": "stream",
          "text": [
            "/usr/local/lib/python3.6/dist-packages/seaborn/distributions.py:2551: FutureWarning: `distplot` is a deprecated function and will be removed in a future version. Please adapt your code to use either `displot` (a figure-level function with similar flexibility) or `histplot` (an axes-level function for histograms).\n",
            "  warnings.warn(msg, FutureWarning)\n",
            "/usr/local/lib/python3.6/dist-packages/seaborn/distributions.py:2551: FutureWarning: `distplot` is a deprecated function and will be removed in a future version. Please adapt your code to use either `displot` (a figure-level function with similar flexibility) or `histplot` (an axes-level function for histograms).\n",
            "  warnings.warn(msg, FutureWarning)\n"
          ],
          "name": "stderr"
        },
        {
          "output_type": "execute_result",
          "data": {
            "text/plain": [
              "Text(0.5, 1.0, 'Normalized Data')"
            ]
          },
          "metadata": {
            "tags": []
          },
          "execution_count": 59
        },
        {
          "output_type": "display_data",
          "data": {
            "image/png": "[encoded data removed]",
            "text/plain": [
              "<Figure size 432x288 with 2 Axes>"
            ]
          },
          "metadata": {
            "tags": [],
            "needs_background": "light"
          }
        }
      ]
    },
    {
      "cell_type": "code",
      "metadata": {
        "id": "3sOHweid9WlM"
      },
      "source": [
        "new_14 = normalized_data14[0]"
      ],
      "execution_count": null,
      "outputs": []
    },
    {
      "cell_type": "code",
      "metadata": {
        "id": "fnTzi_zu9Y3V",
        "outputId": "c796f255-4ce8-49a9-9a5a-3cd411614a21",
        "colab": {
          "base_uri": "https://localhost:8080/",
          "height": 419
        }
      },
      "source": [
        "imputed_hackathon['14'] = new_14\n",
        "imputed_hackathon"
      ],
      "execution_count": null,
      "outputs": [
        {
          "output_type": "execute_result",
          "data": {
            "text/html": [
              "<div>\n",
              "<style scoped>\n",
              "    .dataframe tbody tr th:only-of-type {\n",
              "        vertical-align: middle;\n",
              "    }\n",
              "\n",
              "    .dataframe tbody tr th {\n",
              "        vertical-align: top;\n",
              "    }\n",
              "\n",
              "    .dataframe thead th {\n",
              "        text-align: right;\n",
              "    }\n",
              "</style>\n",
              "<table border=\"1\" class=\"dataframe\">\n",
              "  <thead>\n",
              "    <tr style=\"text-align: right;\">\n",
              "      <th></th>\n",
              "      <th>1</th>\n",
              "      <th>2</th>\n",
              "      <th>3</th>\n",
              "      <th>4</th>\n",
              "      <th>5</th>\n",
              "      <th>6</th>\n",
              "      <th>7</th>\n",
              "      <th>8</th>\n",
              "      <th>9</th>\n",
              "      <th>10</th>\n",
              "      <th>11</th>\n",
              "      <th>12</th>\n",
              "      <th>13</th>\n",
              "      <th>14</th>\n",
              "      <th>15</th>\n",
              "      <th>16</th>\n",
              "    </tr>\n",
              "  </thead>\n",
              "  <tbody>\n",
              "    <tr>\n",
              "      <th>0</th>\n",
              "      <td>1.0</td>\n",
              "      <td>39.0</td>\n",
              "      <td>4.0</td>\n",
              "      <td>0.0</td>\n",
              "      <td>0.0</td>\n",
              "      <td>0.000000</td>\n",
              "      <td>0.0</td>\n",
              "      <td>0.0</td>\n",
              "      <td>0.0</td>\n",
              "      <td>195.0</td>\n",
              "      <td>0.782441</td>\n",
              "      <td>2.088317</td>\n",
              "      <td>1.588986</td>\n",
              "      <td>2.913060</td>\n",
              "      <td>0.787698</td>\n",
              "      <td>0.0</td>\n",
              "    </tr>\n",
              "    <tr>\n",
              "      <th>1</th>\n",
              "      <td>0.0</td>\n",
              "      <td>46.0</td>\n",
              "      <td>2.0</td>\n",
              "      <td>0.0</td>\n",
              "      <td>0.0</td>\n",
              "      <td>0.000000</td>\n",
              "      <td>0.0</td>\n",
              "      <td>0.0</td>\n",
              "      <td>0.0</td>\n",
              "      <td>250.0</td>\n",
              "      <td>0.782760</td>\n",
              "      <td>2.115856</td>\n",
              "      <td>1.600448</td>\n",
              "      <td>2.983063</td>\n",
              "      <td>0.787644</td>\n",
              "      <td>0.0</td>\n",
              "    </tr>\n",
              "    <tr>\n",
              "      <th>2</th>\n",
              "      <td>1.0</td>\n",
              "      <td>48.0</td>\n",
              "      <td>1.0</td>\n",
              "      <td>1.0</td>\n",
              "      <td>20.0</td>\n",
              "      <td>0.000000</td>\n",
              "      <td>0.0</td>\n",
              "      <td>0.0</td>\n",
              "      <td>0.0</td>\n",
              "      <td>245.0</td>\n",
              "      <td>0.782872</td>\n",
              "      <td>2.113572</td>\n",
              "      <td>1.577314</td>\n",
              "      <td>2.886139</td>\n",
              "      <td>0.787281</td>\n",
              "      <td>0.0</td>\n",
              "    </tr>\n",
              "    <tr>\n",
              "      <th>3</th>\n",
              "      <td>0.0</td>\n",
              "      <td>61.0</td>\n",
              "      <td>3.0</td>\n",
              "      <td>1.0</td>\n",
              "      <td>30.0</td>\n",
              "      <td>0.000000</td>\n",
              "      <td>0.0</td>\n",
              "      <td>1.0</td>\n",
              "      <td>0.0</td>\n",
              "      <td>225.0</td>\n",
              "      <td>0.783176</td>\n",
              "      <td>2.144218</td>\n",
              "      <td>1.599513</td>\n",
              "      <td>2.825188</td>\n",
              "      <td>0.788701</td>\n",
              "      <td>1.0</td>\n",
              "    </tr>\n",
              "    <tr>\n",
              "      <th>4</th>\n",
              "      <td>0.0</td>\n",
              "      <td>46.0</td>\n",
              "      <td>3.0</td>\n",
              "      <td>1.0</td>\n",
              "      <td>23.0</td>\n",
              "      <td>0.000000</td>\n",
              "      <td>0.0</td>\n",
              "      <td>0.0</td>\n",
              "      <td>0.0</td>\n",
              "      <td>285.0</td>\n",
              "      <td>0.782912</td>\n",
              "      <td>2.122480</td>\n",
              "      <td>1.559281</td>\n",
              "      <td>2.938032</td>\n",
              "      <td>0.788081</td>\n",
              "      <td>0.0</td>\n",
              "    </tr>\n",
              "    <tr>\n",
              "      <th>...</th>\n",
              "      <td>...</td>\n",
              "      <td>...</td>\n",
              "      <td>...</td>\n",
              "      <td>...</td>\n",
              "      <td>...</td>\n",
              "      <td>...</td>\n",
              "      <td>...</td>\n",
              "      <td>...</td>\n",
              "      <td>...</td>\n",
              "      <td>...</td>\n",
              "      <td>...</td>\n",
              "      <td>...</td>\n",
              "      <td>...</td>\n",
              "      <td>...</td>\n",
              "      <td>...</td>\n",
              "      <td>...</td>\n",
              "    </tr>\n",
              "    <tr>\n",
              "      <th>4235</th>\n",
              "      <td>0.0</td>\n",
              "      <td>48.0</td>\n",
              "      <td>2.0</td>\n",
              "      <td>1.0</td>\n",
              "      <td>20.0</td>\n",
              "      <td>0.029615</td>\n",
              "      <td>0.0</td>\n",
              "      <td>0.0</td>\n",
              "      <td>0.0</td>\n",
              "      <td>248.0</td>\n",
              "      <td>0.782927</td>\n",
              "      <td>2.093754</td>\n",
              "      <td>1.549424</td>\n",
              "      <td>2.933181</td>\n",
              "      <td>0.788123</td>\n",
              "      <td>0.0</td>\n",
              "    </tr>\n",
              "    <tr>\n",
              "      <th>4236</th>\n",
              "      <td>0.0</td>\n",
              "      <td>44.0</td>\n",
              "      <td>1.0</td>\n",
              "      <td>1.0</td>\n",
              "      <td>15.0</td>\n",
              "      <td>0.000000</td>\n",
              "      <td>0.0</td>\n",
              "      <td>0.0</td>\n",
              "      <td>0.0</td>\n",
              "      <td>210.0</td>\n",
              "      <td>0.782856</td>\n",
              "      <td>2.128784</td>\n",
              "      <td>1.520122</td>\n",
              "      <td>2.942815</td>\n",
              "      <td>0.787946</td>\n",
              "      <td>0.0</td>\n",
              "    </tr>\n",
              "    <tr>\n",
              "      <th>4237</th>\n",
              "      <td>0.0</td>\n",
              "      <td>52.0</td>\n",
              "      <td>2.0</td>\n",
              "      <td>0.0</td>\n",
              "      <td>0.0</td>\n",
              "      <td>0.000000</td>\n",
              "      <td>0.0</td>\n",
              "      <td>0.0</td>\n",
              "      <td>0.0</td>\n",
              "      <td>269.0</td>\n",
              "      <td>0.782964</td>\n",
              "      <td>2.120309</td>\n",
              "      <td>1.544404</td>\n",
              "      <td>2.913060</td>\n",
              "      <td>0.788807</td>\n",
              "      <td>0.0</td>\n",
              "    </tr>\n",
              "    <tr>\n",
              "      <th>4238</th>\n",
              "      <td>1.0</td>\n",
              "      <td>40.0</td>\n",
              "      <td>3.0</td>\n",
              "      <td>0.0</td>\n",
              "      <td>0.0</td>\n",
              "      <td>0.000000</td>\n",
              "      <td>0.0</td>\n",
              "      <td>1.0</td>\n",
              "      <td>0.0</td>\n",
              "      <td>185.0</td>\n",
              "      <td>0.783068</td>\n",
              "      <td>2.149548</td>\n",
              "      <td>1.579251</td>\n",
              "      <td>2.838243</td>\n",
              "      <td>0.787409</td>\n",
              "      <td>0.0</td>\n",
              "    </tr>\n",
              "    <tr>\n",
              "      <th>4239</th>\n",
              "      <td>0.0</td>\n",
              "      <td>39.0</td>\n",
              "      <td>3.0</td>\n",
              "      <td>1.0</td>\n",
              "      <td>30.0</td>\n",
              "      <td>0.000000</td>\n",
              "      <td>0.0</td>\n",
              "      <td>0.0</td>\n",
              "      <td>0.0</td>\n",
              "      <td>196.0</td>\n",
              "      <td>0.782957</td>\n",
              "      <td>2.126717</td>\n",
              "      <td>1.538892</td>\n",
              "      <td>2.938032</td>\n",
              "      <td>0.787852</td>\n",
              "      <td>0.0</td>\n",
              "    </tr>\n",
              "  </tbody>\n",
              "</table>\n",
              "<p>4240 rows × 16 columns</p>\n",
              "</div>"
            ],
            "text/plain": [
              "        1     2    3    4     5  ...        12        13        14        15   16\n",
              "0     1.0  39.0  4.0  0.0   0.0  ...  2.088317  1.588986  2.913060  0.787698  0.0\n",
              "1     0.0  46.0  2.0  0.0   0.0  ...  2.115856  1.600448  2.983063  0.787644  0.0\n",
              "2     1.0  48.0  1.0  1.0  20.0  ...  2.113572  1.577314  2.886139  0.787281  0.0\n",
              "3     0.0  61.0  3.0  1.0  30.0  ...  2.144218  1.599513  2.825188  0.788701  1.0\n",
              "4     0.0  46.0  3.0  1.0  23.0  ...  2.122480  1.559281  2.938032  0.788081  0.0\n",
              "...   ...   ...  ...  ...   ...  ...       ...       ...       ...       ...  ...\n",
              "4235  0.0  48.0  2.0  1.0  20.0  ...  2.093754  1.549424  2.933181  0.788123  0.0\n",
              "4236  0.0  44.0  1.0  1.0  15.0  ...  2.128784  1.520122  2.942815  0.787946  0.0\n",
              "4237  0.0  52.0  2.0  0.0   0.0  ...  2.120309  1.544404  2.913060  0.788807  0.0\n",
              "4238  1.0  40.0  3.0  0.0   0.0  ...  2.149548  1.579251  2.838243  0.787409  0.0\n",
              "4239  0.0  39.0  3.0  1.0  30.0  ...  2.126717  1.538892  2.938032  0.787852  0.0\n",
              "\n",
              "[4240 rows x 16 columns]"
            ]
          },
          "metadata": {
            "tags": []
          },
          "execution_count": 61
        }
      ]
    },
    {
      "cell_type": "code",
      "metadata": {
        "id": "jPlm-3Q89bEN",
        "outputId": "1a97cfbb-702c-41c2-e9ff-2a1bf2055a0d",
        "colab": {
          "base_uri": "https://localhost:8080/",
          "height": 400
        }
      },
      "source": [
        "#Column 15\n",
        "normalized_data10 = stats.boxcox(imputed_hackathon['10']) #applying boxcox transformation\n",
        "\n",
        "fig, ax=plt.subplots(1,2)\n",
        "\n",
        "sns.distplot(imputed_hackathon['10'], ax=ax[0])   #Original data visualization\n",
        "ax[0].set_title(\"Original Data\")\n",
        "sns.distplot(normalized_data10[0] , ax=ax[1])  \n",
        "ax[1].set_title(\"Normalized Data\")"
      ],
      "execution_count": null,
      "outputs": [
        {
          "output_type": "stream",
          "text": [
            "/usr/local/lib/python3.6/dist-packages/seaborn/distributions.py:2551: FutureWarning: `distplot` is a deprecated function and will be removed in a future version. Please adapt your code to use either `displot` (a figure-level function with similar flexibility) or `histplot` (an axes-level function for histograms).\n",
            "  warnings.warn(msg, FutureWarning)\n",
            "/usr/local/lib/python3.6/dist-packages/seaborn/distributions.py:2551: FutureWarning: `distplot` is a deprecated function and will be removed in a future version. Please adapt your code to use either `displot` (a figure-level function with similar flexibility) or `histplot` (an axes-level function for histograms).\n",
            "  warnings.warn(msg, FutureWarning)\n"
          ],
          "name": "stderr"
        },
        {
          "output_type": "execute_result",
          "data": {
            "text/plain": [
              "Text(0.5, 1.0, 'Normalized Data')"
            ]
          },
          "metadata": {
            "tags": []
          },
          "execution_count": 62
        },
        {
          "output_type": "display_data",
          "data": {
            "image/png": "[encoded data removed]",
            "text/plain": [
              "<Figure size 432x288 with 2 Axes>"
            ]
          },
          "metadata": {
            "tags": [],
            "needs_background": "light"
          }
        }
      ]
    },
    {
      "cell_type": "code",
      "metadata": {
        "id": "YqTN7eyF9dHa"
      },
      "source": [
        "new_10 = normalized_data10[0]"
      ],
      "execution_count": null,
      "outputs": []
    },
    {
      "cell_type": "code",
      "metadata": {
        "id": "LqqpceiQ9f1x",
        "outputId": "9b7a34c4-dc82-4dba-fe01-fbb168c0dc46",
        "colab": {
          "base_uri": "https://localhost:8080/",
          "height": 419
        }
      },
      "source": [
        "imputed_hackathon['10'] = new_10\n",
        "imputed_hackathon"
      ],
      "execution_count": null,
      "outputs": [
        {
          "output_type": "execute_result",
          "data": {
            "text/html": [
              "<div>\n",
              "<style scoped>\n",
              "    .dataframe tbody tr th:only-of-type {\n",
              "        vertical-align: middle;\n",
              "    }\n",
              "\n",
              "    .dataframe tbody tr th {\n",
              "        vertical-align: top;\n",
              "    }\n",
              "\n",
              "    .dataframe thead th {\n",
              "        text-align: right;\n",
              "    }\n",
              "</style>\n",
              "<table border=\"1\" class=\"dataframe\">\n",
              "  <thead>\n",
              "    <tr style=\"text-align: right;\">\n",
              "      <th></th>\n",
              "      <th>1</th>\n",
              "      <th>2</th>\n",
              "      <th>3</th>\n",
              "      <th>4</th>\n",
              "      <th>5</th>\n",
              "      <th>6</th>\n",
              "      <th>7</th>\n",
              "      <th>8</th>\n",
              "      <th>9</th>\n",
              "      <th>10</th>\n",
              "      <th>11</th>\n",
              "      <th>12</th>\n",
              "      <th>13</th>\n",
              "      <th>14</th>\n",
              "      <th>15</th>\n",
              "      <th>16</th>\n",
              "    </tr>\n",
              "  </thead>\n",
              "  <tbody>\n",
              "    <tr>\n",
              "      <th>0</th>\n",
              "      <td>1.0</td>\n",
              "      <td>39.0</td>\n",
              "      <td>4.0</td>\n",
              "      <td>0.0</td>\n",
              "      <td>0.0</td>\n",
              "      <td>0.000000</td>\n",
              "      <td>0.0</td>\n",
              "      <td>0.0</td>\n",
              "      <td>0.0</td>\n",
              "      <td>7.361698</td>\n",
              "      <td>0.782441</td>\n",
              "      <td>2.088317</td>\n",
              "      <td>1.588986</td>\n",
              "      <td>2.913060</td>\n",
              "      <td>0.787698</td>\n",
              "      <td>0.0</td>\n",
              "    </tr>\n",
              "    <tr>\n",
              "      <th>1</th>\n",
              "      <td>0.0</td>\n",
              "      <td>46.0</td>\n",
              "      <td>2.0</td>\n",
              "      <td>0.0</td>\n",
              "      <td>0.0</td>\n",
              "      <td>0.000000</td>\n",
              "      <td>0.0</td>\n",
              "      <td>0.0</td>\n",
              "      <td>0.0</td>\n",
              "      <td>7.837147</td>\n",
              "      <td>0.782760</td>\n",
              "      <td>2.115856</td>\n",
              "      <td>1.600448</td>\n",
              "      <td>2.983063</td>\n",
              "      <td>0.787644</td>\n",
              "      <td>0.0</td>\n",
              "    </tr>\n",
              "    <tr>\n",
              "      <th>2</th>\n",
              "      <td>1.0</td>\n",
              "      <td>48.0</td>\n",
              "      <td>1.0</td>\n",
              "      <td>1.0</td>\n",
              "      <td>20.0</td>\n",
              "      <td>0.000000</td>\n",
              "      <td>0.0</td>\n",
              "      <td>0.0</td>\n",
              "      <td>0.0</td>\n",
              "      <td>7.797955</td>\n",
              "      <td>0.782872</td>\n",
              "      <td>2.113572</td>\n",
              "      <td>1.577314</td>\n",
              "      <td>2.886139</td>\n",
              "      <td>0.787281</td>\n",
              "      <td>0.0</td>\n",
              "    </tr>\n",
              "    <tr>\n",
              "      <th>3</th>\n",
              "      <td>0.0</td>\n",
              "      <td>61.0</td>\n",
              "      <td>3.0</td>\n",
              "      <td>1.0</td>\n",
              "      <td>30.0</td>\n",
              "      <td>0.000000</td>\n",
              "      <td>0.0</td>\n",
              "      <td>1.0</td>\n",
              "      <td>0.0</td>\n",
              "      <td>7.633796</td>\n",
              "      <td>0.783176</td>\n",
              "      <td>2.144218</td>\n",
              "      <td>1.599513</td>\n",
              "      <td>2.825188</td>\n",
              "      <td>0.788701</td>\n",
              "      <td>1.0</td>\n",
              "    </tr>\n",
              "    <tr>\n",
              "      <th>4</th>\n",
              "      <td>0.0</td>\n",
              "      <td>46.0</td>\n",
              "      <td>3.0</td>\n",
              "      <td>1.0</td>\n",
              "      <td>23.0</td>\n",
              "      <td>0.000000</td>\n",
              "      <td>0.0</td>\n",
              "      <td>0.0</td>\n",
              "      <td>0.0</td>\n",
              "      <td>8.093658</td>\n",
              "      <td>0.782912</td>\n",
              "      <td>2.122480</td>\n",
              "      <td>1.559281</td>\n",
              "      <td>2.938032</td>\n",
              "      <td>0.788081</td>\n",
              "      <td>0.0</td>\n",
              "    </tr>\n",
              "    <tr>\n",
              "      <th>...</th>\n",
              "      <td>...</td>\n",
              "      <td>...</td>\n",
              "      <td>...</td>\n",
              "      <td>...</td>\n",
              "      <td>...</td>\n",
              "      <td>...</td>\n",
              "      <td>...</td>\n",
              "      <td>...</td>\n",
              "      <td>...</td>\n",
              "      <td>...</td>\n",
              "      <td>...</td>\n",
              "      <td>...</td>\n",
              "      <td>...</td>\n",
              "      <td>...</td>\n",
              "      <td>...</td>\n",
              "      <td>...</td>\n",
              "    </tr>\n",
              "    <tr>\n",
              "      <th>4235</th>\n",
              "      <td>0.0</td>\n",
              "      <td>48.0</td>\n",
              "      <td>2.0</td>\n",
              "      <td>1.0</td>\n",
              "      <td>20.0</td>\n",
              "      <td>0.029615</td>\n",
              "      <td>0.0</td>\n",
              "      <td>0.0</td>\n",
              "      <td>0.0</td>\n",
              "      <td>7.821553</td>\n",
              "      <td>0.782927</td>\n",
              "      <td>2.093754</td>\n",
              "      <td>1.549424</td>\n",
              "      <td>2.933181</td>\n",
              "      <td>0.788123</td>\n",
              "      <td>0.0</td>\n",
              "    </tr>\n",
              "    <tr>\n",
              "      <th>4236</th>\n",
              "      <td>0.0</td>\n",
              "      <td>44.0</td>\n",
              "      <td>1.0</td>\n",
              "      <td>1.0</td>\n",
              "      <td>15.0</td>\n",
              "      <td>0.000000</td>\n",
              "      <td>0.0</td>\n",
              "      <td>0.0</td>\n",
              "      <td>0.0</td>\n",
              "      <td>7.502025</td>\n",
              "      <td>0.782856</td>\n",
              "      <td>2.128784</td>\n",
              "      <td>1.520122</td>\n",
              "      <td>2.942815</td>\n",
              "      <td>0.787946</td>\n",
              "      <td>0.0</td>\n",
              "    </tr>\n",
              "    <tr>\n",
              "      <th>4237</th>\n",
              "      <td>0.0</td>\n",
              "      <td>52.0</td>\n",
              "      <td>2.0</td>\n",
              "      <td>0.0</td>\n",
              "      <td>0.0</td>\n",
              "      <td>0.000000</td>\n",
              "      <td>0.0</td>\n",
              "      <td>0.0</td>\n",
              "      <td>0.0</td>\n",
              "      <td>7.980049</td>\n",
              "      <td>0.782964</td>\n",
              "      <td>2.120309</td>\n",
              "      <td>1.544404</td>\n",
              "      <td>2.913060</td>\n",
              "      <td>0.788807</td>\n",
              "      <td>0.0</td>\n",
              "    </tr>\n",
              "    <tr>\n",
              "      <th>4238</th>\n",
              "      <td>1.0</td>\n",
              "      <td>40.0</td>\n",
              "      <td>3.0</td>\n",
              "      <td>0.0</td>\n",
              "      <td>0.0</td>\n",
              "      <td>0.000000</td>\n",
              "      <td>0.0</td>\n",
              "      <td>1.0</td>\n",
              "      <td>0.0</td>\n",
              "      <td>7.262771</td>\n",
              "      <td>0.783068</td>\n",
              "      <td>2.149548</td>\n",
              "      <td>1.579251</td>\n",
              "      <td>2.838243</td>\n",
              "      <td>0.787409</td>\n",
              "      <td>0.0</td>\n",
              "    </tr>\n",
              "    <tr>\n",
              "      <th>4239</th>\n",
              "      <td>0.0</td>\n",
              "      <td>39.0</td>\n",
              "      <td>3.0</td>\n",
              "      <td>1.0</td>\n",
              "      <td>30.0</td>\n",
              "      <td>0.000000</td>\n",
              "      <td>0.0</td>\n",
              "      <td>0.0</td>\n",
              "      <td>0.0</td>\n",
              "      <td>7.371343</td>\n",
              "      <td>0.782957</td>\n",
              "      <td>2.126717</td>\n",
              "      <td>1.538892</td>\n",
              "      <td>2.938032</td>\n",
              "      <td>0.787852</td>\n",
              "      <td>0.0</td>\n",
              "    </tr>\n",
              "  </tbody>\n",
              "</table>\n",
              "<p>4240 rows × 16 columns</p>\n",
              "</div>"
            ],
            "text/plain": [
              "        1     2    3    4     5  ...        12        13        14        15   16\n",
              "0     1.0  39.0  4.0  0.0   0.0  ...  2.088317  1.588986  2.913060  0.787698  0.0\n",
              "1     0.0  46.0  2.0  0.0   0.0  ...  2.115856  1.600448  2.983063  0.787644  0.0\n",
              "2     1.0  48.0  1.0  1.0  20.0  ...  2.113572  1.577314  2.886139  0.787281  0.0\n",
              "3     0.0  61.0  3.0  1.0  30.0  ...  2.144218  1.599513  2.825188  0.788701  1.0\n",
              "4     0.0  46.0  3.0  1.0  23.0  ...  2.122480  1.559281  2.938032  0.788081  0.0\n",
              "...   ...   ...  ...  ...   ...  ...       ...       ...       ...       ...  ...\n",
              "4235  0.0  48.0  2.0  1.0  20.0  ...  2.093754  1.549424  2.933181  0.788123  0.0\n",
              "4236  0.0  44.0  1.0  1.0  15.0  ...  2.128784  1.520122  2.942815  0.787946  0.0\n",
              "4237  0.0  52.0  2.0  0.0   0.0  ...  2.120309  1.544404  2.913060  0.788807  0.0\n",
              "4238  1.0  40.0  3.0  0.0   0.0  ...  2.149548  1.579251  2.838243  0.787409  0.0\n",
              "4239  0.0  39.0  3.0  1.0  30.0  ...  2.126717  1.538892  2.938032  0.787852  0.0\n",
              "\n",
              "[4240 rows x 16 columns]"
            ]
          },
          "metadata": {
            "tags": []
          },
          "execution_count": 64
        }
      ]
    },
    {
      "cell_type": "code",
      "metadata": {
        "id": "Zv3B5Yfk9iAQ",
        "outputId": "9cbb4e88-04f7-449e-fb9d-36a5d937ef8d",
        "colab": {
          "base_uri": "https://localhost:8080/",
          "height": 400
        }
      },
      "source": [
        "#Column 2\n",
        "normalized_data2 = stats.boxcox(imputed_hackathon['2']) #applying boxcox transformation\n",
        "\n",
        "fig, ax=plt.subplots(1,2)\n",
        "\n",
        "sns.distplot(imputed_hackathon['2'], ax=ax[0])   #Original data visualization\n",
        "ax[0].set_title(\"Original Data\")\n",
        "sns.distplot(normalized_data2[0] , ax=ax[1])  \n",
        "ax[1].set_title(\"Normalized Data\")"
      ],
      "execution_count": null,
      "outputs": [
        {
          "output_type": "stream",
          "text": [
            "/usr/local/lib/python3.6/dist-packages/seaborn/distributions.py:2551: FutureWarning: `distplot` is a deprecated function and will be removed in a future version. Please adapt your code to use either `displot` (a figure-level function with similar flexibility) or `histplot` (an axes-level function for histograms).\n",
            "  warnings.warn(msg, FutureWarning)\n",
            "/usr/local/lib/python3.6/dist-packages/seaborn/distributions.py:2551: FutureWarning: `distplot` is a deprecated function and will be removed in a future version. Please adapt your code to use either `displot` (a figure-level function with similar flexibility) or `histplot` (an axes-level function for histograms).\n",
            "  warnings.warn(msg, FutureWarning)\n"
          ],
          "name": "stderr"
        },
        {
          "output_type": "execute_result",
          "data": {
            "text/plain": [
              "Text(0.5, 1.0, 'Normalized Data')"
            ]
          },
          "metadata": {
            "tags": []
          },
          "execution_count": 65
        },
        {
          "output_type": "display_data",
          "data": {
            "image/png": "[encoded data removed]",
            "text/plain": [
              "<Figure size 432x288 with 2 Axes>"
            ]
          },
          "metadata": {
            "tags": [],
            "needs_background": "light"
          }
        }
      ]
    },
    {
      "cell_type": "code",
      "metadata": {
        "id": "PLLIld3T9kbw",
        "outputId": "e9957b3e-4c8f-4e1b-95b7-6bc7d177f7a7",
        "colab": {
          "base_uri": "https://localhost:8080/"
        }
      },
      "source": [
        "new_2 = normalized_data2[0]\n",
        "new_2"
      ],
      "execution_count": null,
      "outputs": [
        {
          "output_type": "execute_result",
          "data": {
            "text/plain": [
              "array([4.12455274, 4.33394551, 4.38828626, ..., 4.49088449, 4.15652444,\n",
              "       4.12455274])"
            ]
          },
          "metadata": {
            "tags": []
          },
          "execution_count": 66
        }
      ]
    },
    {
      "cell_type": "code",
      "metadata": {
        "id": "EBlbCBOx9nCk",
        "outputId": "7b7e3626-a17f-43a8-a519-9d5b080305fe",
        "colab": {
          "base_uri": "https://localhost:8080/",
          "height": 419
        }
      },
      "source": [
        "imputed_hackathon['2'] = new_2\n",
        "imputed_hackathon"
      ],
      "execution_count": null,
      "outputs": [
        {
          "output_type": "execute_result",
          "data": {
            "text/html": [
              "<div>\n",
              "<style scoped>\n",
              "    .dataframe tbody tr th:only-of-type {\n",
              "        vertical-align: middle;\n",
              "    }\n",
              "\n",
              "    .dataframe tbody tr th {\n",
              "        vertical-align: top;\n",
              "    }\n",
              "\n",
              "    .dataframe thead th {\n",
              "        text-align: right;\n",
              "    }\n",
              "</style>\n",
              "<table border=\"1\" class=\"dataframe\">\n",
              "  <thead>\n",
              "    <tr style=\"text-align: right;\">\n",
              "      <th></th>\n",
              "      <th>1</th>\n",
              "      <th>2</th>\n",
              "      <th>3</th>\n",
              "      <th>4</th>\n",
              "      <th>5</th>\n",
              "      <th>6</th>\n",
              "      <th>7</th>\n",
              "      <th>8</th>\n",
              "      <th>9</th>\n",
              "      <th>10</th>\n",
              "      <th>11</th>\n",
              "      <th>12</th>\n",
              "      <th>13</th>\n",
              "      <th>14</th>\n",
              "      <th>15</th>\n",
              "      <th>16</th>\n",
              "    </tr>\n",
              "  </thead>\n",
              "  <tbody>\n",
              "    <tr>\n",
              "      <th>0</th>\n",
              "      <td>1.0</td>\n",
              "      <td>4.124553</td>\n",
              "      <td>4.0</td>\n",
              "      <td>0.0</td>\n",
              "      <td>0.0</td>\n",
              "      <td>0.000000</td>\n",
              "      <td>0.0</td>\n",
              "      <td>0.0</td>\n",
              "      <td>0.0</td>\n",
              "      <td>7.361698</td>\n",
              "      <td>0.782441</td>\n",
              "      <td>2.088317</td>\n",
              "      <td>1.588986</td>\n",
              "      <td>2.913060</td>\n",
              "      <td>0.787698</td>\n",
              "      <td>0.0</td>\n",
              "    </tr>\n",
              "    <tr>\n",
              "      <th>1</th>\n",
              "      <td>0.0</td>\n",
              "      <td>4.333946</td>\n",
              "      <td>2.0</td>\n",
              "      <td>0.0</td>\n",
              "      <td>0.0</td>\n",
              "      <td>0.000000</td>\n",
              "      <td>0.0</td>\n",
              "      <td>0.0</td>\n",
              "      <td>0.0</td>\n",
              "      <td>7.837147</td>\n",
              "      <td>0.782760</td>\n",
              "      <td>2.115856</td>\n",
              "      <td>1.600448</td>\n",
              "      <td>2.983063</td>\n",
              "      <td>0.787644</td>\n",
              "      <td>0.0</td>\n",
              "    </tr>\n",
              "    <tr>\n",
              "      <th>2</th>\n",
              "      <td>1.0</td>\n",
              "      <td>4.388286</td>\n",
              "      <td>1.0</td>\n",
              "      <td>1.0</td>\n",
              "      <td>20.0</td>\n",
              "      <td>0.000000</td>\n",
              "      <td>0.0</td>\n",
              "      <td>0.0</td>\n",
              "      <td>0.0</td>\n",
              "      <td>7.797955</td>\n",
              "      <td>0.782872</td>\n",
              "      <td>2.113572</td>\n",
              "      <td>1.577314</td>\n",
              "      <td>2.886139</td>\n",
              "      <td>0.787281</td>\n",
              "      <td>0.0</td>\n",
              "    </tr>\n",
              "    <tr>\n",
              "      <th>3</th>\n",
              "      <td>0.0</td>\n",
              "      <td>4.697060</td>\n",
              "      <td>3.0</td>\n",
              "      <td>1.0</td>\n",
              "      <td>30.0</td>\n",
              "      <td>0.000000</td>\n",
              "      <td>0.0</td>\n",
              "      <td>1.0</td>\n",
              "      <td>0.0</td>\n",
              "      <td>7.633796</td>\n",
              "      <td>0.783176</td>\n",
              "      <td>2.144218</td>\n",
              "      <td>1.599513</td>\n",
              "      <td>2.825188</td>\n",
              "      <td>0.788701</td>\n",
              "      <td>1.0</td>\n",
              "    </tr>\n",
              "    <tr>\n",
              "      <th>4</th>\n",
              "      <td>0.0</td>\n",
              "      <td>4.333946</td>\n",
              "      <td>3.0</td>\n",
              "      <td>1.0</td>\n",
              "      <td>23.0</td>\n",
              "      <td>0.000000</td>\n",
              "      <td>0.0</td>\n",
              "      <td>0.0</td>\n",
              "      <td>0.0</td>\n",
              "      <td>8.093658</td>\n",
              "      <td>0.782912</td>\n",
              "      <td>2.122480</td>\n",
              "      <td>1.559281</td>\n",
              "      <td>2.938032</td>\n",
              "      <td>0.788081</td>\n",
              "      <td>0.0</td>\n",
              "    </tr>\n",
              "    <tr>\n",
              "      <th>...</th>\n",
              "      <td>...</td>\n",
              "      <td>...</td>\n",
              "      <td>...</td>\n",
              "      <td>...</td>\n",
              "      <td>...</td>\n",
              "      <td>...</td>\n",
              "      <td>...</td>\n",
              "      <td>...</td>\n",
              "      <td>...</td>\n",
              "      <td>...</td>\n",
              "      <td>...</td>\n",
              "      <td>...</td>\n",
              "      <td>...</td>\n",
              "      <td>...</td>\n",
              "      <td>...</td>\n",
              "      <td>...</td>\n",
              "    </tr>\n",
              "    <tr>\n",
              "      <th>4235</th>\n",
              "      <td>0.0</td>\n",
              "      <td>4.388286</td>\n",
              "      <td>2.0</td>\n",
              "      <td>1.0</td>\n",
              "      <td>20.0</td>\n",
              "      <td>0.029615</td>\n",
              "      <td>0.0</td>\n",
              "      <td>0.0</td>\n",
              "      <td>0.0</td>\n",
              "      <td>7.821553</td>\n",
              "      <td>0.782927</td>\n",
              "      <td>2.093754</td>\n",
              "      <td>1.549424</td>\n",
              "      <td>2.933181</td>\n",
              "      <td>0.788123</td>\n",
              "      <td>0.0</td>\n",
              "    </tr>\n",
              "    <tr>\n",
              "      <th>4236</th>\n",
              "      <td>0.0</td>\n",
              "      <td>4.277345</td>\n",
              "      <td>1.0</td>\n",
              "      <td>1.0</td>\n",
              "      <td>15.0</td>\n",
              "      <td>0.000000</td>\n",
              "      <td>0.0</td>\n",
              "      <td>0.0</td>\n",
              "      <td>0.0</td>\n",
              "      <td>7.502025</td>\n",
              "      <td>0.782856</td>\n",
              "      <td>2.128784</td>\n",
              "      <td>1.520122</td>\n",
              "      <td>2.942815</td>\n",
              "      <td>0.787946</td>\n",
              "      <td>0.0</td>\n",
              "    </tr>\n",
              "    <tr>\n",
              "      <th>4237</th>\n",
              "      <td>0.0</td>\n",
              "      <td>4.490884</td>\n",
              "      <td>2.0</td>\n",
              "      <td>0.0</td>\n",
              "      <td>0.0</td>\n",
              "      <td>0.000000</td>\n",
              "      <td>0.0</td>\n",
              "      <td>0.0</td>\n",
              "      <td>0.0</td>\n",
              "      <td>7.980049</td>\n",
              "      <td>0.782964</td>\n",
              "      <td>2.120309</td>\n",
              "      <td>1.544404</td>\n",
              "      <td>2.913060</td>\n",
              "      <td>0.788807</td>\n",
              "      <td>0.0</td>\n",
              "    </tr>\n",
              "    <tr>\n",
              "      <th>4238</th>\n",
              "      <td>1.0</td>\n",
              "      <td>4.156524</td>\n",
              "      <td>3.0</td>\n",
              "      <td>0.0</td>\n",
              "      <td>0.0</td>\n",
              "      <td>0.000000</td>\n",
              "      <td>0.0</td>\n",
              "      <td>1.0</td>\n",
              "      <td>0.0</td>\n",
              "      <td>7.262771</td>\n",
              "      <td>0.783068</td>\n",
              "      <td>2.149548</td>\n",
              "      <td>1.579251</td>\n",
              "      <td>2.838243</td>\n",
              "      <td>0.787409</td>\n",
              "      <td>0.0</td>\n",
              "    </tr>\n",
              "    <tr>\n",
              "      <th>4239</th>\n",
              "      <td>0.0</td>\n",
              "      <td>4.124553</td>\n",
              "      <td>3.0</td>\n",
              "      <td>1.0</td>\n",
              "      <td>30.0</td>\n",
              "      <td>0.000000</td>\n",
              "      <td>0.0</td>\n",
              "      <td>0.0</td>\n",
              "      <td>0.0</td>\n",
              "      <td>7.371343</td>\n",
              "      <td>0.782957</td>\n",
              "      <td>2.126717</td>\n",
              "      <td>1.538892</td>\n",
              "      <td>2.938032</td>\n",
              "      <td>0.787852</td>\n",
              "      <td>0.0</td>\n",
              "    </tr>\n",
              "  </tbody>\n",
              "</table>\n",
              "<p>4240 rows × 16 columns</p>\n",
              "</div>"
            ],
            "text/plain": [
              "        1         2    3    4  ...        13        14        15   16\n",
              "0     1.0  4.124553  4.0  0.0  ...  1.588986  2.913060  0.787698  0.0\n",
              "1     0.0  4.333946  2.0  0.0  ...  1.600448  2.983063  0.787644  0.0\n",
              "2     1.0  4.388286  1.0  1.0  ...  1.577314  2.886139  0.787281  0.0\n",
              "3     0.0  4.697060  3.0  1.0  ...  1.599513  2.825188  0.788701  1.0\n",
              "4     0.0  4.333946  3.0  1.0  ...  1.559281  2.938032  0.788081  0.0\n",
              "...   ...       ...  ...  ...  ...       ...       ...       ...  ...\n",
              "4235  0.0  4.388286  2.0  1.0  ...  1.549424  2.933181  0.788123  0.0\n",
              "4236  0.0  4.277345  1.0  1.0  ...  1.520122  2.942815  0.787946  0.0\n",
              "4237  0.0  4.490884  2.0  0.0  ...  1.544404  2.913060  0.788807  0.0\n",
              "4238  1.0  4.156524  3.0  0.0  ...  1.579251  2.838243  0.787409  0.0\n",
              "4239  0.0  4.124553  3.0  1.0  ...  1.538892  2.938032  0.787852  0.0\n",
              "\n",
              "[4240 rows x 16 columns]"
            ]
          },
          "metadata": {
            "tags": []
          },
          "execution_count": 67
        }
      ]
    },
    {
      "cell_type": "code",
      "metadata": {
        "id": "rW1UmVQI9pEO",
        "outputId": "d4e45ab6-44f1-48de-c06f-b26c63ffb0fa",
        "colab": {
          "base_uri": "https://localhost:8080/"
        }
      },
      "source": [
        "skewValue = imputed_hackathon.skew()   #Checking for Skewness\n",
        "skewValue"
      ],
      "execution_count": null,
      "outputs": [
        {
          "output_type": "execute_result",
          "data": {
            "text/plain": [
              "1      0.285997\n",
              "2     -0.003800\n",
              "3      0.697413\n",
              "4      0.023595\n",
              "5      1.251336\n",
              "6      5.586462\n",
              "7     12.912160\n",
              "8      0.818827\n",
              "9      5.995907\n",
              "10     0.000940\n",
              "11     0.012929\n",
              "12    -0.006514\n",
              "13    -0.008434\n",
              "14    -0.000850\n",
              "15    -0.213172\n",
              "16     1.940516\n",
              "dtype: float64"
            ]
          },
          "metadata": {
            "tags": []
          },
          "execution_count": 68
        }
      ]
    },
    {
      "cell_type": "code",
      "metadata": {
        "id": "cizESAjj9tFQ"
      },
      "source": [
        "normal_hackathon = imputed_hackathon     #Checkpoint 2"
      ],
      "execution_count": null,
      "outputs": []
    },
    {
      "cell_type": "markdown",
      "metadata": {
        "id": "IT2tNPIZm9l8"
      },
      "source": [
        "## **Checking Kurtosis**"
      ]
    },
    {
      "cell_type": "code",
      "metadata": {
        "id": "oQ0zuvZkRlpA",
        "outputId": "b09de941-08f5-4e04-cfcb-c458af9ad34e",
        "colab": {
          "base_uri": "https://localhost:8080/"
        }
      },
      "source": [
        "kur = kurtosis(normal_hackathon, fisher = True)\n",
        "print(kur)"
      ],
      "execution_count": null,
      "outputs": [
        {
          "output_type": "stream",
          "text": [
            "[-1.91826355e+00 -1.03547069e+00 -6.56919905e-01 -1.99944367e+00\n",
            "  1.04444619e+00  2.91991376e+01  1.64605931e+02 -1.32999739e+00\n",
            "  3.39254684e+01  1.30908844e-01 -1.33360278e-01  3.63598349e-01\n",
            "  3.92506810e-01  8.54423479e-02  3.11378887e+00  1.76293881e+00]\n"
          ],
          "name": "stdout"
        }
      ]
    },
    {
      "cell_type": "code",
      "metadata": {
        "id": "eFogU9l6SJgh"
      },
      "source": [
        "#As Kurtosis values are in proper range, we do not do any more normalization"
      ],
      "execution_count": null,
      "outputs": []
    },
    {
      "cell_type": "code",
      "metadata": {
        "id": "nW12DLWgVhgt"
      },
      "source": [
        ""
      ],
      "execution_count": null,
      "outputs": []
    },
    {
      "cell_type": "markdown",
      "metadata": {
        "id": "nHcuRDHUrUea"
      },
      "source": [
        "## **Checking Correlation Matrix for Feature Selection**"
      ]
    },
    {
      "cell_type": "code",
      "metadata": {
        "id": "GlxkyZzSq9TE",
        "outputId": "ff916dc9-f9a2-4e87-9da7-9727955d7435",
        "colab": {
          "base_uri": "https://localhost:8080/",
          "height": 545
        }
      },
      "source": [
        "# Create correlation matrix\n",
        "corr_matrix = normal_hackathon.corr().abs()\n",
        "\n",
        "#Selecting upper traingular region\n",
        "upper = corr_matrix.where(np.triu(np.ones(corr_matrix.shape), k=1).astype(np.bool))\n",
        "upper"
      ],
      "execution_count": null,
      "outputs": [
        {
          "output_type": "execute_result",
          "data": {
            "text/html": [
              "<div>\n",
              "<style scoped>\n",
              "    .dataframe tbody tr th:only-of-type {\n",
              "        vertical-align: middle;\n",
              "    }\n",
              "\n",
              "    .dataframe tbody tr th {\n",
              "        vertical-align: top;\n",
              "    }\n",
              "\n",
              "    .dataframe thead th {\n",
              "        text-align: right;\n",
              "    }\n",
              "</style>\n",
              "<table border=\"1\" class=\"dataframe\">\n",
              "  <thead>\n",
              "    <tr style=\"text-align: right;\">\n",
              "      <th></th>\n",
              "      <th>1</th>\n",
              "      <th>2</th>\n",
              "      <th>3</th>\n",
              "      <th>4</th>\n",
              "      <th>5</th>\n",
              "      <th>6</th>\n",
              "      <th>7</th>\n",
              "      <th>8</th>\n",
              "      <th>9</th>\n",
              "      <th>10</th>\n",
              "      <th>11</th>\n",
              "      <th>12</th>\n",
              "      <th>13</th>\n",
              "      <th>14</th>\n",
              "      <th>15</th>\n",
              "      <th>16</th>\n",
              "    </tr>\n",
              "  </thead>\n",
              "  <tbody>\n",
              "    <tr>\n",
              "      <th>1</th>\n",
              "      <td>NaN</td>\n",
              "      <td>0.028802</td>\n",
              "      <td>0.017188</td>\n",
              "      <td>0.197026</td>\n",
              "      <td>0.316023</td>\n",
              "      <td>0.052203</td>\n",
              "      <td>0.004550</td>\n",
              "      <td>0.005853</td>\n",
              "      <td>0.015693</td>\n",
              "      <td>0.067024</td>\n",
              "      <td>0.006579</td>\n",
              "      <td>0.066445</td>\n",
              "      <td>0.113083</td>\n",
              "      <td>0.119809</td>\n",
              "      <td>0.017060</td>\n",
              "      <td>0.088374</td>\n",
              "    </tr>\n",
              "    <tr>\n",
              "      <th>2</th>\n",
              "      <td>NaN</td>\n",
              "      <td>NaN</td>\n",
              "      <td>0.162961</td>\n",
              "      <td>0.209607</td>\n",
              "      <td>0.187956</td>\n",
              "      <td>0.119698</td>\n",
              "      <td>0.056018</td>\n",
              "      <td>0.305505</td>\n",
              "      <td>0.100727</td>\n",
              "      <td>0.281929</td>\n",
              "      <td>0.389124</td>\n",
              "      <td>0.210541</td>\n",
              "      <td>0.140517</td>\n",
              "      <td>0.016006</td>\n",
              "      <td>0.106547</td>\n",
              "      <td>0.223648</td>\n",
              "    </tr>\n",
              "    <tr>\n",
              "      <th>3</th>\n",
              "      <td>NaN</td>\n",
              "      <td>NaN</td>\n",
              "      <td>NaN</td>\n",
              "      <td>0.018297</td>\n",
              "      <td>0.008197</td>\n",
              "      <td>0.010689</td>\n",
              "      <td>0.035139</td>\n",
              "      <td>0.080753</td>\n",
              "      <td>0.038214</td>\n",
              "      <td>0.022024</td>\n",
              "      <td>0.126741</td>\n",
              "      <td>0.060851</td>\n",
              "      <td>0.126356</td>\n",
              "      <td>0.054207</td>\n",
              "      <td>0.025112</td>\n",
              "      <td>0.053571</td>\n",
              "    </tr>\n",
              "    <tr>\n",
              "      <th>4</th>\n",
              "      <td>NaN</td>\n",
              "      <td>NaN</td>\n",
              "      <td>NaN</td>\n",
              "      <td>NaN</td>\n",
              "      <td>0.767055</td>\n",
              "      <td>0.048621</td>\n",
              "      <td>0.032980</td>\n",
              "      <td>0.103710</td>\n",
              "      <td>0.044285</td>\n",
              "      <td>0.048514</td>\n",
              "      <td>0.130487</td>\n",
              "      <td>0.111644</td>\n",
              "      <td>0.172065</td>\n",
              "      <td>0.069960</td>\n",
              "      <td>0.066742</td>\n",
              "      <td>0.019448</td>\n",
              "    </tr>\n",
              "    <tr>\n",
              "      <th>5</th>\n",
              "      <td>NaN</td>\n",
              "      <td>NaN</td>\n",
              "      <td>NaN</td>\n",
              "      <td>NaN</td>\n",
              "      <td>NaN</td>\n",
              "      <td>0.045847</td>\n",
              "      <td>0.032711</td>\n",
              "      <td>0.066444</td>\n",
              "      <td>0.037086</td>\n",
              "      <td>0.023504</td>\n",
              "      <td>0.080317</td>\n",
              "      <td>0.056703</td>\n",
              "      <td>0.092026</td>\n",
              "      <td>0.082361</td>\n",
              "      <td>0.081098</td>\n",
              "      <td>0.057646</td>\n",
              "    </tr>\n",
              "    <tr>\n",
              "      <th>6</th>\n",
              "      <td>NaN</td>\n",
              "      <td>NaN</td>\n",
              "      <td>NaN</td>\n",
              "      <td>NaN</td>\n",
              "      <td>NaN</td>\n",
              "      <td>NaN</td>\n",
              "      <td>0.115008</td>\n",
              "      <td>0.259125</td>\n",
              "      <td>0.051584</td>\n",
              "      <td>0.078624</td>\n",
              "      <td>0.219360</td>\n",
              "      <td>0.179849</td>\n",
              "      <td>0.091864</td>\n",
              "      <td>0.007443</td>\n",
              "      <td>0.008343</td>\n",
              "      <td>0.086805</td>\n",
              "    </tr>\n",
              "    <tr>\n",
              "      <th>7</th>\n",
              "      <td>NaN</td>\n",
              "      <td>NaN</td>\n",
              "      <td>NaN</td>\n",
              "      <td>NaN</td>\n",
              "      <td>NaN</td>\n",
              "      <td>NaN</td>\n",
              "      <td>NaN</td>\n",
              "      <td>0.074791</td>\n",
              "      <td>0.006955</td>\n",
              "      <td>0.002014</td>\n",
              "      <td>0.056475</td>\n",
              "      <td>0.043431</td>\n",
              "      <td>0.013424</td>\n",
              "      <td>0.017687</td>\n",
              "      <td>0.011213</td>\n",
              "      <td>0.061823</td>\n",
              "    </tr>\n",
              "    <tr>\n",
              "      <th>8</th>\n",
              "      <td>NaN</td>\n",
              "      <td>NaN</td>\n",
              "      <td>NaN</td>\n",
              "      <td>NaN</td>\n",
              "      <td>NaN</td>\n",
              "      <td>NaN</td>\n",
              "      <td>NaN</td>\n",
              "      <td>NaN</td>\n",
              "      <td>0.077752</td>\n",
              "      <td>0.158164</td>\n",
              "      <td>0.678800</td>\n",
              "      <td>0.596209</td>\n",
              "      <td>0.291873</td>\n",
              "      <td>0.143590</td>\n",
              "      <td>0.077800</td>\n",
              "      <td>0.177458</td>\n",
              "    </tr>\n",
              "    <tr>\n",
              "      <th>9</th>\n",
              "      <td>NaN</td>\n",
              "      <td>NaN</td>\n",
              "      <td>NaN</td>\n",
              "      <td>NaN</td>\n",
              "      <td>NaN</td>\n",
              "      <td>NaN</td>\n",
              "      <td>NaN</td>\n",
              "      <td>NaN</td>\n",
              "      <td>NaN</td>\n",
              "      <td>0.028517</td>\n",
              "      <td>0.093684</td>\n",
              "      <td>0.045563</td>\n",
              "      <td>0.074309</td>\n",
              "      <td>0.049952</td>\n",
              "      <td>0.329781</td>\n",
              "      <td>0.097344</td>\n",
              "    </tr>\n",
              "    <tr>\n",
              "      <th>10</th>\n",
              "      <td>NaN</td>\n",
              "      <td>NaN</td>\n",
              "      <td>NaN</td>\n",
              "      <td>NaN</td>\n",
              "      <td>NaN</td>\n",
              "      <td>NaN</td>\n",
              "      <td>NaN</td>\n",
              "      <td>NaN</td>\n",
              "      <td>NaN</td>\n",
              "      <td>NaN</td>\n",
              "      <td>0.220336</td>\n",
              "      <td>0.177058</td>\n",
              "      <td>0.138634</td>\n",
              "      <td>0.088734</td>\n",
              "      <td>0.030450</td>\n",
              "      <td>0.077891</td>\n",
              "    </tr>\n",
              "    <tr>\n",
              "      <th>11</th>\n",
              "      <td>NaN</td>\n",
              "      <td>NaN</td>\n",
              "      <td>NaN</td>\n",
              "      <td>NaN</td>\n",
              "      <td>NaN</td>\n",
              "      <td>NaN</td>\n",
              "      <td>NaN</td>\n",
              "      <td>NaN</td>\n",
              "      <td>NaN</td>\n",
              "      <td>NaN</td>\n",
              "      <td>NaN</td>\n",
              "      <td>0.779307</td>\n",
              "      <td>0.327458</td>\n",
              "      <td>0.175630</td>\n",
              "      <td>0.110693</td>\n",
              "      <td>0.197626</td>\n",
              "    </tr>\n",
              "    <tr>\n",
              "      <th>12</th>\n",
              "      <td>NaN</td>\n",
              "      <td>NaN</td>\n",
              "      <td>NaN</td>\n",
              "      <td>NaN</td>\n",
              "      <td>NaN</td>\n",
              "      <td>NaN</td>\n",
              "      <td>NaN</td>\n",
              "      <td>NaN</td>\n",
              "      <td>NaN</td>\n",
              "      <td>NaN</td>\n",
              "      <td>NaN</td>\n",
              "      <td>NaN</td>\n",
              "      <td>0.369316</td>\n",
              "      <td>0.175959</td>\n",
              "      <td>0.048535</td>\n",
              "      <td>0.132357</td>\n",
              "    </tr>\n",
              "    <tr>\n",
              "      <th>13</th>\n",
              "      <td>NaN</td>\n",
              "      <td>NaN</td>\n",
              "      <td>NaN</td>\n",
              "      <td>NaN</td>\n",
              "      <td>NaN</td>\n",
              "      <td>NaN</td>\n",
              "      <td>NaN</td>\n",
              "      <td>NaN</td>\n",
              "      <td>NaN</td>\n",
              "      <td>NaN</td>\n",
              "      <td>NaN</td>\n",
              "      <td>NaN</td>\n",
              "      <td>NaN</td>\n",
              "      <td>0.057487</td>\n",
              "      <td>0.085183</td>\n",
              "      <td>0.069338</td>\n",
              "    </tr>\n",
              "    <tr>\n",
              "      <th>14</th>\n",
              "      <td>NaN</td>\n",
              "      <td>NaN</td>\n",
              "      <td>NaN</td>\n",
              "      <td>NaN</td>\n",
              "      <td>NaN</td>\n",
              "      <td>NaN</td>\n",
              "      <td>NaN</td>\n",
              "      <td>NaN</td>\n",
              "      <td>NaN</td>\n",
              "      <td>NaN</td>\n",
              "      <td>NaN</td>\n",
              "      <td>NaN</td>\n",
              "      <td>NaN</td>\n",
              "      <td>NaN</td>\n",
              "      <td>0.093650</td>\n",
              "      <td>0.023780</td>\n",
              "    </tr>\n",
              "    <tr>\n",
              "      <th>15</th>\n",
              "      <td>NaN</td>\n",
              "      <td>NaN</td>\n",
              "      <td>NaN</td>\n",
              "      <td>NaN</td>\n",
              "      <td>NaN</td>\n",
              "      <td>NaN</td>\n",
              "      <td>NaN</td>\n",
              "      <td>NaN</td>\n",
              "      <td>NaN</td>\n",
              "      <td>NaN</td>\n",
              "      <td>NaN</td>\n",
              "      <td>NaN</td>\n",
              "      <td>NaN</td>\n",
              "      <td>NaN</td>\n",
              "      <td>NaN</td>\n",
              "      <td>0.067362</td>\n",
              "    </tr>\n",
              "    <tr>\n",
              "      <th>16</th>\n",
              "      <td>NaN</td>\n",
              "      <td>NaN</td>\n",
              "      <td>NaN</td>\n",
              "      <td>NaN</td>\n",
              "      <td>NaN</td>\n",
              "      <td>NaN</td>\n",
              "      <td>NaN</td>\n",
              "      <td>NaN</td>\n",
              "      <td>NaN</td>\n",
              "      <td>NaN</td>\n",
              "      <td>NaN</td>\n",
              "      <td>NaN</td>\n",
              "      <td>NaN</td>\n",
              "      <td>NaN</td>\n",
              "      <td>NaN</td>\n",
              "      <td>NaN</td>\n",
              "    </tr>\n",
              "  </tbody>\n",
              "</table>\n",
              "</div>"
            ],
            "text/plain": [
              "     1         2         3         4  ...        13        14        15        16\n",
              "1  NaN  0.028802  0.017188  0.197026  ...  0.113083  0.119809  0.017060  0.088374\n",
              "2  NaN       NaN  0.162961  0.209607  ...  0.140517  0.016006  0.106547  0.223648\n",
              "3  NaN       NaN       NaN  0.018297  ...  0.126356  0.054207  0.025112  0.053571\n",
              "4  NaN       NaN       NaN       NaN  ...  0.172065  0.069960  0.066742  0.019448\n",
              "5  NaN       NaN       NaN       NaN  ...  0.092026  0.082361  0.081098  0.057646\n",
              "6  NaN       NaN       NaN       NaN  ...  0.091864  0.007443  0.008343  0.086805\n",
              "7  NaN       NaN       NaN       NaN  ...  0.013424  0.017687  0.011213  0.061823\n",
              "8  NaN       NaN       NaN       NaN  ...  0.291873  0.143590  0.077800  0.177458\n",
              "9  NaN       NaN       NaN       NaN  ...  0.074309  0.049952  0.329781  0.097344\n",
              "10 NaN       NaN       NaN       NaN  ...  0.138634  0.088734  0.030450  0.077891\n",
              "11 NaN       NaN       NaN       NaN  ...  0.327458  0.175630  0.110693  0.197626\n",
              "12 NaN       NaN       NaN       NaN  ...  0.369316  0.175959  0.048535  0.132357\n",
              "13 NaN       NaN       NaN       NaN  ...       NaN  0.057487  0.085183  0.069338\n",
              "14 NaN       NaN       NaN       NaN  ...       NaN       NaN  0.093650  0.023780\n",
              "15 NaN       NaN       NaN       NaN  ...       NaN       NaN       NaN  0.067362\n",
              "16 NaN       NaN       NaN       NaN  ...       NaN       NaN       NaN       NaN\n",
              "\n",
              "[16 rows x 16 columns]"
            ]
          },
          "metadata": {
            "tags": []
          },
          "execution_count": 78
        }
      ]
    },
    {
      "cell_type": "code",
      "metadata": {
        "id": "Dgg4MOc8sAQr"
      },
      "source": [
        "#First we check for inter correlated columns. Those with high correlation were then compared with the correlation values of the final column.\n",
        "\n",
        "#Those which had the minimum impact on final output were then dropped and evaluation was checked for different permutations and combinations.\n"
      ],
      "execution_count": null,
      "outputs": []
    },
    {
      "cell_type": "markdown",
      "metadata": {
        "id": "MrXrxLr0V-_i"
      },
      "source": [
        "## **Scaling (StandardScaler)**"
      ]
    },
    {
      "cell_type": "code",
      "metadata": {
        "id": "4lqXLYyhWEpW"
      },
      "source": [
        "scaler = StandardScaler()"
      ],
      "execution_count": null,
      "outputs": []
    },
    {
      "cell_type": "code",
      "metadata": {
        "id": "xyjiJNVbWXBc",
        "outputId": "79229980-8e9e-4082-fef8-6606055804da",
        "colab": {
          "base_uri": "https://localhost:8080/",
          "height": 419
        }
      },
      "source": [
        "numerical = normal_hackathon[['2','10','11','12','13','14','15']]\n",
        "categorical = normal_hackathon[[1,'3','4','5','6','7','8','9','16']]"
      ],
      "execution_count": null,
      "outputs": [
        {
          "output_type": "execute_result",
          "data": {
            "text/html": [
              "<div>\n",
              "<style scoped>\n",
              "    .dataframe tbody tr th:only-of-type {\n",
              "        vertical-align: middle;\n",
              "    }\n",
              "\n",
              "    .dataframe tbody tr th {\n",
              "        vertical-align: top;\n",
              "    }\n",
              "\n",
              "    .dataframe thead th {\n",
              "        text-align: right;\n",
              "    }\n",
              "</style>\n",
              "<table border=\"1\" class=\"dataframe\">\n",
              "  <thead>\n",
              "    <tr style=\"text-align: right;\">\n",
              "      <th></th>\n",
              "      <th>1</th>\n",
              "      <th>3</th>\n",
              "      <th>4</th>\n",
              "      <th>5</th>\n",
              "      <th>6</th>\n",
              "      <th>7</th>\n",
              "      <th>8</th>\n",
              "      <th>9</th>\n",
              "      <th>16</th>\n",
              "    </tr>\n",
              "  </thead>\n",
              "  <tbody>\n",
              "    <tr>\n",
              "      <th>0</th>\n",
              "      <td>1.0</td>\n",
              "      <td>4</td>\n",
              "      <td>0.0</td>\n",
              "      <td>0.0</td>\n",
              "      <td>0.000000</td>\n",
              "      <td>0.0</td>\n",
              "      <td>0.0</td>\n",
              "      <td>0.0</td>\n",
              "      <td>0.0</td>\n",
              "    </tr>\n",
              "    <tr>\n",
              "      <th>1</th>\n",
              "      <td>0.0</td>\n",
              "      <td>2</td>\n",
              "      <td>0.0</td>\n",
              "      <td>0.0</td>\n",
              "      <td>0.000000</td>\n",
              "      <td>0.0</td>\n",
              "      <td>0.0</td>\n",
              "      <td>0.0</td>\n",
              "      <td>0.0</td>\n",
              "    </tr>\n",
              "    <tr>\n",
              "      <th>2</th>\n",
              "      <td>1.0</td>\n",
              "      <td>0</td>\n",
              "      <td>1.0</td>\n",
              "      <td>20.0</td>\n",
              "      <td>0.000000</td>\n",
              "      <td>0.0</td>\n",
              "      <td>0.0</td>\n",
              "      <td>0.0</td>\n",
              "      <td>0.0</td>\n",
              "    </tr>\n",
              "    <tr>\n",
              "      <th>3</th>\n",
              "      <td>0.0</td>\n",
              "      <td>3</td>\n",
              "      <td>1.0</td>\n",
              "      <td>30.0</td>\n",
              "      <td>0.000000</td>\n",
              "      <td>0.0</td>\n",
              "      <td>1.0</td>\n",
              "      <td>0.0</td>\n",
              "      <td>1.0</td>\n",
              "    </tr>\n",
              "    <tr>\n",
              "      <th>4</th>\n",
              "      <td>0.0</td>\n",
              "      <td>3</td>\n",
              "      <td>1.0</td>\n",
              "      <td>23.0</td>\n",
              "      <td>0.000000</td>\n",
              "      <td>0.0</td>\n",
              "      <td>0.0</td>\n",
              "      <td>0.0</td>\n",
              "      <td>0.0</td>\n",
              "    </tr>\n",
              "    <tr>\n",
              "      <th>...</th>\n",
              "      <td>...</td>\n",
              "      <td>...</td>\n",
              "      <td>...</td>\n",
              "      <td>...</td>\n",
              "      <td>...</td>\n",
              "      <td>...</td>\n",
              "      <td>...</td>\n",
              "      <td>...</td>\n",
              "      <td>...</td>\n",
              "    </tr>\n",
              "    <tr>\n",
              "      <th>4235</th>\n",
              "      <td>0.0</td>\n",
              "      <td>2</td>\n",
              "      <td>1.0</td>\n",
              "      <td>20.0</td>\n",
              "      <td>0.029615</td>\n",
              "      <td>0.0</td>\n",
              "      <td>0.0</td>\n",
              "      <td>0.0</td>\n",
              "      <td>0.0</td>\n",
              "    </tr>\n",
              "    <tr>\n",
              "      <th>4236</th>\n",
              "      <td>0.0</td>\n",
              "      <td>0</td>\n",
              "      <td>1.0</td>\n",
              "      <td>15.0</td>\n",
              "      <td>0.000000</td>\n",
              "      <td>0.0</td>\n",
              "      <td>0.0</td>\n",
              "      <td>0.0</td>\n",
              "      <td>0.0</td>\n",
              "    </tr>\n",
              "    <tr>\n",
              "      <th>4237</th>\n",
              "      <td>0.0</td>\n",
              "      <td>2</td>\n",
              "      <td>0.0</td>\n",
              "      <td>0.0</td>\n",
              "      <td>0.000000</td>\n",
              "      <td>0.0</td>\n",
              "      <td>0.0</td>\n",
              "      <td>0.0</td>\n",
              "      <td>0.0</td>\n",
              "    </tr>\n",
              "    <tr>\n",
              "      <th>4238</th>\n",
              "      <td>1.0</td>\n",
              "      <td>3</td>\n",
              "      <td>0.0</td>\n",
              "      <td>0.0</td>\n",
              "      <td>0.000000</td>\n",
              "      <td>0.0</td>\n",
              "      <td>1.0</td>\n",
              "      <td>0.0</td>\n",
              "      <td>0.0</td>\n",
              "    </tr>\n",
              "    <tr>\n",
              "      <th>4239</th>\n",
              "      <td>0.0</td>\n",
              "      <td>3</td>\n",
              "      <td>1.0</td>\n",
              "      <td>30.0</td>\n",
              "      <td>0.000000</td>\n",
              "      <td>0.0</td>\n",
              "      <td>0.0</td>\n",
              "      <td>0.0</td>\n",
              "      <td>0.0</td>\n",
              "    </tr>\n",
              "  </tbody>\n",
              "</table>\n",
              "<p>4240 rows × 9 columns</p>\n",
              "</div>"
            ],
            "text/plain": [
              "        1  3    4     5         6    7    8    9   16\n",
              "0     1.0  4  0.0   0.0  0.000000  0.0  0.0  0.0  0.0\n",
              "1     0.0  2  0.0   0.0  0.000000  0.0  0.0  0.0  0.0\n",
              "2     1.0  0  1.0  20.0  0.000000  0.0  0.0  0.0  0.0\n",
              "3     0.0  3  1.0  30.0  0.000000  0.0  1.0  0.0  1.0\n",
              "4     0.0  3  1.0  23.0  0.000000  0.0  0.0  0.0  0.0\n",
              "...   ... ..  ...   ...       ...  ...  ...  ...  ...\n",
              "4235  0.0  2  1.0  20.0  0.029615  0.0  0.0  0.0  0.0\n",
              "4236  0.0  0  1.0  15.0  0.000000  0.0  0.0  0.0  0.0\n",
              "4237  0.0  2  0.0   0.0  0.000000  0.0  0.0  0.0  0.0\n",
              "4238  1.0  3  0.0   0.0  0.000000  0.0  1.0  0.0  0.0\n",
              "4239  0.0  3  1.0  30.0  0.000000  0.0  0.0  0.0  0.0\n",
              "\n",
              "[4240 rows x 9 columns]"
            ]
          },
          "metadata": {
            "tags": []
          },
          "execution_count": 79
        }
      ]
    },
    {
      "cell_type": "code",
      "metadata": {
        "id": "ZqzGwZNeW7dY",
        "outputId": "48d3bd44-5b1c-49b9-d5f8-989cbff95748",
        "colab": {
          "base_uri": "https://localhost:8080/",
          "height": 419
        }
      },
      "source": [
        "numerical_scaled = scaler.fit_transform(numerical)\n",
        "numerical_scaled = pd.DataFrame(numerical_scaled)\n",
        "numerical_scaled"
      ],
      "execution_count": null,
      "outputs": [
        {
          "output_type": "execute_result",
          "data": {
            "text/html": [
              "<div>\n",
              "<style scoped>\n",
              "    .dataframe tbody tr th:only-of-type {\n",
              "        vertical-align: middle;\n",
              "    }\n",
              "\n",
              "    .dataframe tbody tr th {\n",
              "        vertical-align: top;\n",
              "    }\n",
              "\n",
              "    .dataframe thead th {\n",
              "        text-align: right;\n",
              "    }\n",
              "</style>\n",
              "<table border=\"1\" class=\"dataframe\">\n",
              "  <thead>\n",
              "    <tr style=\"text-align: right;\">\n",
              "      <th></th>\n",
              "      <th>0</th>\n",
              "      <th>1</th>\n",
              "      <th>2</th>\n",
              "      <th>3</th>\n",
              "      <th>4</th>\n",
              "      <th>5</th>\n",
              "      <th>6</th>\n",
              "    </tr>\n",
              "  </thead>\n",
              "  <tbody>\n",
              "    <tr>\n",
              "      <th>0</th>\n",
              "      <td>-1.293724</td>\n",
              "      <td>-0.965269</td>\n",
              "      <td>-1.468875</td>\n",
              "      <td>-1.141808</td>\n",
              "      <td>0.408246</td>\n",
              "      <td>0.434565</td>\n",
              "      <td>-0.109654</td>\n",
              "    </tr>\n",
              "    <tr>\n",
              "      <th>1</th>\n",
              "      <td>-0.350548</td>\n",
              "      <td>0.385375</td>\n",
              "      <td>-0.427578</td>\n",
              "      <td>-0.066835</td>\n",
              "      <td>0.809167</td>\n",
              "      <td>1.509589</td>\n",
              "      <td>-0.191232</td>\n",
              "    </tr>\n",
              "    <tr>\n",
              "      <th>2</th>\n",
              "      <td>-0.105779</td>\n",
              "      <td>0.274039</td>\n",
              "      <td>-0.061976</td>\n",
              "      <td>-0.155990</td>\n",
              "      <td>-0.000071</td>\n",
              "      <td>0.021149</td>\n",
              "      <td>-0.736564</td>\n",
              "    </tr>\n",
              "    <tr>\n",
              "      <th>3</th>\n",
              "      <td>1.285045</td>\n",
              "      <td>-0.192299</td>\n",
              "      <td>0.929824</td>\n",
              "      <td>1.040208</td>\n",
              "      <td>0.776460</td>\n",
              "      <td>-0.914873</td>\n",
              "      <td>1.396926</td>\n",
              "    </tr>\n",
              "    <tr>\n",
              "      <th>4</th>\n",
              "      <td>-0.350548</td>\n",
              "      <td>1.114066</td>\n",
              "      <td>0.067614</td>\n",
              "      <td>0.191727</td>\n",
              "      <td>-0.630878</td>\n",
              "      <td>0.818054</td>\n",
              "      <td>0.465443</td>\n",
              "    </tr>\n",
              "    <tr>\n",
              "      <th>...</th>\n",
              "      <td>...</td>\n",
              "      <td>...</td>\n",
              "      <td>...</td>\n",
              "      <td>...</td>\n",
              "      <td>...</td>\n",
              "      <td>...</td>\n",
              "      <td>...</td>\n",
              "    </tr>\n",
              "    <tr>\n",
              "      <th>4235</th>\n",
              "      <td>-0.105779</td>\n",
              "      <td>0.341078</td>\n",
              "      <td>0.117877</td>\n",
              "      <td>-0.929582</td>\n",
              "      <td>-0.975681</td>\n",
              "      <td>0.743560</td>\n",
              "      <td>0.528859</td>\n",
              "    </tr>\n",
              "    <tr>\n",
              "      <th>4236</th>\n",
              "      <td>-0.605495</td>\n",
              "      <td>-0.566630</td>\n",
              "      <td>-0.115446</td>\n",
              "      <td>0.437797</td>\n",
              "      <td>-2.000696</td>\n",
              "      <td>0.891503</td>\n",
              "      <td>0.262116</td>\n",
              "    </tr>\n",
              "    <tr>\n",
              "      <th>4237</th>\n",
              "      <td>0.356358</td>\n",
              "      <td>0.791329</td>\n",
              "      <td>0.239797</td>\n",
              "      <td>0.106980</td>\n",
              "      <td>-1.151282</td>\n",
              "      <td>0.434565</td>\n",
              "      <td>1.556295</td>\n",
              "    </tr>\n",
              "    <tr>\n",
              "      <th>4238</th>\n",
              "      <td>-1.149713</td>\n",
              "      <td>-1.246299</td>\n",
              "      <td>0.576221</td>\n",
              "      <td>1.248273</td>\n",
              "      <td>0.067688</td>\n",
              "      <td>-0.714392</td>\n",
              "      <td>-0.543341</td>\n",
              "    </tr>\n",
              "    <tr>\n",
              "      <th>4239</th>\n",
              "      <td>-1.293724</td>\n",
              "      <td>-0.937868</td>\n",
              "      <td>0.215830</td>\n",
              "      <td>0.357097</td>\n",
              "      <td>-1.344095</td>\n",
              "      <td>0.818054</td>\n",
              "      <td>0.121282</td>\n",
              "    </tr>\n",
              "  </tbody>\n",
              "</table>\n",
              "<p>4240 rows × 7 columns</p>\n",
              "</div>"
            ],
            "text/plain": [
              "             0         1         2         3         4         5         6\n",
              "0    -1.293724 -0.965269 -1.468875 -1.141808  0.408246  0.434565 -0.109654\n",
              "1    -0.350548  0.385375 -0.427578 -0.066835  0.809167  1.509589 -0.191232\n",
              "2    -0.105779  0.274039 -0.061976 -0.155990 -0.000071  0.021149 -0.736564\n",
              "3     1.285045 -0.192299  0.929824  1.040208  0.776460 -0.914873  1.396926\n",
              "4    -0.350548  1.114066  0.067614  0.191727 -0.630878  0.818054  0.465443\n",
              "...        ...       ...       ...       ...       ...       ...       ...\n",
              "4235 -0.105779  0.341078  0.117877 -0.929582 -0.975681  0.743560  0.528859\n",
              "4236 -0.605495 -0.566630 -0.115446  0.437797 -2.000696  0.891503  0.262116\n",
              "4237  0.356358  0.791329  0.239797  0.106980 -1.151282  0.434565  1.556295\n",
              "4238 -1.149713 -1.246299  0.576221  1.248273  0.067688 -0.714392 -0.543341\n",
              "4239 -1.293724 -0.937868  0.215830  0.357097 -1.344095  0.818054  0.121282\n",
              "\n",
              "[4240 rows x 7 columns]"
            ]
          },
          "metadata": {
            "tags": []
          },
          "execution_count": 80
        }
      ]
    },
    {
      "cell_type": "code",
      "metadata": {
        "id": "UhD5F8hlXaoL",
        "outputId": "4c0eb3f4-771f-403e-f9e6-df1cfcadadcc",
        "colab": {
          "base_uri": "https://localhost:8080/",
          "height": 419
        }
      },
      "source": [
        "final = pd.concat([numerical_scaled, categorical], ignore_index = True, axis = 1)\n",
        "final"
      ],
      "execution_count": null,
      "outputs": [
        {
          "output_type": "execute_result",
          "data": {
            "text/html": [
              "<div>\n",
              "<style scoped>\n",
              "    .dataframe tbody tr th:only-of-type {\n",
              "        vertical-align: middle;\n",
              "    }\n",
              "\n",
              "    .dataframe tbody tr th {\n",
              "        vertical-align: top;\n",
              "    }\n",
              "\n",
              "    .dataframe thead th {\n",
              "        text-align: right;\n",
              "    }\n",
              "</style>\n",
              "<table border=\"1\" class=\"dataframe\">\n",
              "  <thead>\n",
              "    <tr style=\"text-align: right;\">\n",
              "      <th></th>\n",
              "      <th>0</th>\n",
              "      <th>1</th>\n",
              "      <th>2</th>\n",
              "      <th>3</th>\n",
              "      <th>4</th>\n",
              "      <th>5</th>\n",
              "      <th>6</th>\n",
              "      <th>7</th>\n",
              "      <th>8</th>\n",
              "      <th>9</th>\n",
              "      <th>10</th>\n",
              "      <th>11</th>\n",
              "      <th>12</th>\n",
              "      <th>13</th>\n",
              "      <th>14</th>\n",
              "      <th>15</th>\n",
              "    </tr>\n",
              "  </thead>\n",
              "  <tbody>\n",
              "    <tr>\n",
              "      <th>0</th>\n",
              "      <td>-1.293724</td>\n",
              "      <td>-0.965269</td>\n",
              "      <td>-1.468875</td>\n",
              "      <td>-1.141808</td>\n",
              "      <td>0.408246</td>\n",
              "      <td>0.434565</td>\n",
              "      <td>-0.109654</td>\n",
              "      <td>1.0</td>\n",
              "      <td>4</td>\n",
              "      <td>0.0</td>\n",
              "      <td>0.0</td>\n",
              "      <td>0.000000</td>\n",
              "      <td>0.0</td>\n",
              "      <td>0.0</td>\n",
              "      <td>0.0</td>\n",
              "      <td>0.0</td>\n",
              "    </tr>\n",
              "    <tr>\n",
              "      <th>1</th>\n",
              "      <td>-0.350548</td>\n",
              "      <td>0.385375</td>\n",
              "      <td>-0.427578</td>\n",
              "      <td>-0.066835</td>\n",
              "      <td>0.809167</td>\n",
              "      <td>1.509589</td>\n",
              "      <td>-0.191232</td>\n",
              "      <td>0.0</td>\n",
              "      <td>2</td>\n",
              "      <td>0.0</td>\n",
              "      <td>0.0</td>\n",
              "      <td>0.000000</td>\n",
              "      <td>0.0</td>\n",
              "      <td>0.0</td>\n",
              "      <td>0.0</td>\n",
              "      <td>0.0</td>\n",
              "    </tr>\n",
              "    <tr>\n",
              "      <th>2</th>\n",
              "      <td>-0.105779</td>\n",
              "      <td>0.274039</td>\n",
              "      <td>-0.061976</td>\n",
              "      <td>-0.155990</td>\n",
              "      <td>-0.000071</td>\n",
              "      <td>0.021149</td>\n",
              "      <td>-0.736564</td>\n",
              "      <td>1.0</td>\n",
              "      <td>0</td>\n",
              "      <td>1.0</td>\n",
              "      <td>20.0</td>\n",
              "      <td>0.000000</td>\n",
              "      <td>0.0</td>\n",
              "      <td>0.0</td>\n",
              "      <td>0.0</td>\n",
              "      <td>0.0</td>\n",
              "    </tr>\n",
              "    <tr>\n",
              "      <th>3</th>\n",
              "      <td>1.285045</td>\n",
              "      <td>-0.192299</td>\n",
              "      <td>0.929824</td>\n",
              "      <td>1.040208</td>\n",
              "      <td>0.776460</td>\n",
              "      <td>-0.914873</td>\n",
              "      <td>1.396926</td>\n",
              "      <td>0.0</td>\n",
              "      <td>3</td>\n",
              "      <td>1.0</td>\n",
              "      <td>30.0</td>\n",
              "      <td>0.000000</td>\n",
              "      <td>0.0</td>\n",
              "      <td>1.0</td>\n",
              "      <td>0.0</td>\n",
              "      <td>1.0</td>\n",
              "    </tr>\n",
              "    <tr>\n",
              "      <th>4</th>\n",
              "      <td>-0.350548</td>\n",
              "      <td>1.114066</td>\n",
              "      <td>0.067614</td>\n",
              "      <td>0.191727</td>\n",
              "      <td>-0.630878</td>\n",
              "      <td>0.818054</td>\n",
              "      <td>0.465443</td>\n",
              "      <td>0.0</td>\n",
              "      <td>3</td>\n",
              "      <td>1.0</td>\n",
              "      <td>23.0</td>\n",
              "      <td>0.000000</td>\n",
              "      <td>0.0</td>\n",
              "      <td>0.0</td>\n",
              "      <td>0.0</td>\n",
              "      <td>0.0</td>\n",
              "    </tr>\n",
              "    <tr>\n",
              "      <th>...</th>\n",
              "      <td>...</td>\n",
              "      <td>...</td>\n",
              "      <td>...</td>\n",
              "      <td>...</td>\n",
              "      <td>...</td>\n",
              "      <td>...</td>\n",
              "      <td>...</td>\n",
              "      <td>...</td>\n",
              "      <td>...</td>\n",
              "      <td>...</td>\n",
              "      <td>...</td>\n",
              "      <td>...</td>\n",
              "      <td>...</td>\n",
              "      <td>...</td>\n",
              "      <td>...</td>\n",
              "      <td>...</td>\n",
              "    </tr>\n",
              "    <tr>\n",
              "      <th>4235</th>\n",
              "      <td>-0.105779</td>\n",
              "      <td>0.341078</td>\n",
              "      <td>0.117877</td>\n",
              "      <td>-0.929582</td>\n",
              "      <td>-0.975681</td>\n",
              "      <td>0.743560</td>\n",
              "      <td>0.528859</td>\n",
              "      <td>0.0</td>\n",
              "      <td>2</td>\n",
              "      <td>1.0</td>\n",
              "      <td>20.0</td>\n",
              "      <td>0.029615</td>\n",
              "      <td>0.0</td>\n",
              "      <td>0.0</td>\n",
              "      <td>0.0</td>\n",
              "      <td>0.0</td>\n",
              "    </tr>\n",
              "    <tr>\n",
              "      <th>4236</th>\n",
              "      <td>-0.605495</td>\n",
              "      <td>-0.566630</td>\n",
              "      <td>-0.115446</td>\n",
              "      <td>0.437797</td>\n",
              "      <td>-2.000696</td>\n",
              "      <td>0.891503</td>\n",
              "      <td>0.262116</td>\n",
              "      <td>0.0</td>\n",
              "      <td>0</td>\n",
              "      <td>1.0</td>\n",
              "      <td>15.0</td>\n",
              "      <td>0.000000</td>\n",
              "      <td>0.0</td>\n",
              "      <td>0.0</td>\n",
              "      <td>0.0</td>\n",
              "      <td>0.0</td>\n",
              "    </tr>\n",
              "    <tr>\n",
              "      <th>4237</th>\n",
              "      <td>0.356358</td>\n",
              "      <td>0.791329</td>\n",
              "      <td>0.239797</td>\n",
              "      <td>0.106980</td>\n",
              "      <td>-1.151282</td>\n",
              "      <td>0.434565</td>\n",
              "      <td>1.556295</td>\n",
              "      <td>0.0</td>\n",
              "      <td>2</td>\n",
              "      <td>0.0</td>\n",
              "      <td>0.0</td>\n",
              "      <td>0.000000</td>\n",
              "      <td>0.0</td>\n",
              "      <td>0.0</td>\n",
              "      <td>0.0</td>\n",
              "      <td>0.0</td>\n",
              "    </tr>\n",
              "    <tr>\n",
              "      <th>4238</th>\n",
              "      <td>-1.149713</td>\n",
              "      <td>-1.246299</td>\n",
              "      <td>0.576221</td>\n",
              "      <td>1.248273</td>\n",
              "      <td>0.067688</td>\n",
              "      <td>-0.714392</td>\n",
              "      <td>-0.543341</td>\n",
              "      <td>1.0</td>\n",
              "      <td>3</td>\n",
              "      <td>0.0</td>\n",
              "      <td>0.0</td>\n",
              "      <td>0.000000</td>\n",
              "      <td>0.0</td>\n",
              "      <td>1.0</td>\n",
              "      <td>0.0</td>\n",
              "      <td>0.0</td>\n",
              "    </tr>\n",
              "    <tr>\n",
              "      <th>4239</th>\n",
              "      <td>-1.293724</td>\n",
              "      <td>-0.937868</td>\n",
              "      <td>0.215830</td>\n",
              "      <td>0.357097</td>\n",
              "      <td>-1.344095</td>\n",
              "      <td>0.818054</td>\n",
              "      <td>0.121282</td>\n",
              "      <td>0.0</td>\n",
              "      <td>3</td>\n",
              "      <td>1.0</td>\n",
              "      <td>30.0</td>\n",
              "      <td>0.000000</td>\n",
              "      <td>0.0</td>\n",
              "      <td>0.0</td>\n",
              "      <td>0.0</td>\n",
              "      <td>0.0</td>\n",
              "    </tr>\n",
              "  </tbody>\n",
              "</table>\n",
              "<p>4240 rows × 16 columns</p>\n",
              "</div>"
            ],
            "text/plain": [
              "            0         1         2         3   ...   12   13   14   15\n",
              "0    -1.293724 -0.965269 -1.468875 -1.141808  ...  0.0  0.0  0.0  0.0\n",
              "1    -0.350548  0.385375 -0.427578 -0.066835  ...  0.0  0.0  0.0  0.0\n",
              "2    -0.105779  0.274039 -0.061976 -0.155990  ...  0.0  0.0  0.0  0.0\n",
              "3     1.285045 -0.192299  0.929824  1.040208  ...  0.0  1.0  0.0  1.0\n",
              "4    -0.350548  1.114066  0.067614  0.191727  ...  0.0  0.0  0.0  0.0\n",
              "...        ...       ...       ...       ...  ...  ...  ...  ...  ...\n",
              "4235 -0.105779  0.341078  0.117877 -0.929582  ...  0.0  0.0  0.0  0.0\n",
              "4236 -0.605495 -0.566630 -0.115446  0.437797  ...  0.0  0.0  0.0  0.0\n",
              "4237  0.356358  0.791329  0.239797  0.106980  ...  0.0  0.0  0.0  0.0\n",
              "4238 -1.149713 -1.246299  0.576221  1.248273  ...  0.0  1.0  0.0  0.0\n",
              "4239 -1.293724 -0.937868  0.215830  0.357097  ...  0.0  0.0  0.0  0.0\n",
              "\n",
              "[4240 rows x 16 columns]"
            ]
          },
          "metadata": {
            "tags": []
          },
          "execution_count": 84
        }
      ]
    },
    {
      "cell_type": "code",
      "metadata": {
        "id": "l7yqNAgpXk4d"
      },
      "source": [
        ""
      ],
      "execution_count": null,
      "outputs": []
    },
    {
      "cell_type": "markdown",
      "metadata": {
        "id": "c0Dwk0KEsLlY"
      },
      "source": [
        "## **Encoding**"
      ]
    },
    {
      "cell_type": "code",
      "metadata": {
        "id": "gE5DWbwlsAyn"
      },
      "source": [
        "le = LabelEncoder()\n",
        "#Column 3 has categorical data, 0,1,1.974,2,3\n",
        "#We Encode this to 0,1,2,3,4"
      ],
      "execution_count": null,
      "outputs": []
    },
    {
      "cell_type": "code",
      "metadata": {
        "id": "LoSzakAjsVxM",
        "outputId": "eee435d4-b001-40b1-a38c-da0e6aeceb28",
        "colab": {
          "base_uri": "https://localhost:8080/"
        }
      },
      "source": [
        "normal_hackathon['3'] = le.fit_transform(normal_hackathon['3'])\n",
        "normal_hackathon['3'].unique() "
      ],
      "execution_count": null,
      "outputs": [
        {
          "output_type": "execute_result",
          "data": {
            "text/plain": [
              "array([4, 2, 0, 3, 1])"
            ]
          },
          "metadata": {
            "tags": []
          },
          "execution_count": 78
        }
      ]
    },
    {
      "cell_type": "markdown",
      "metadata": {
        "id": "I9Z6-23hsuCT"
      },
      "source": [
        "## **Train Test Split**"
      ]
    },
    {
      "cell_type": "code",
      "metadata": {
        "id": "RUktnemztErh"
      },
      "source": [
        "X = final.drop(15, axis = 1)\n",
        "y = final[15]"
      ],
      "execution_count": null,
      "outputs": []
    },
    {
      "cell_type": "code",
      "metadata": {
        "id": "-Rr9IYMusYYR"
      },
      "source": [
        "X_train, X_test, y_train, y_test = train_test_split(X,y,random_state = 42)"
      ],
      "execution_count": null,
      "outputs": []
    },
    {
      "cell_type": "markdown",
      "metadata": {
        "id": "ESKhkF3Utdyu"
      },
      "source": [
        "## **Baseline Model - Dummy Classifier**"
      ]
    },
    {
      "cell_type": "code",
      "metadata": {
        "id": "HuIZPyeytLs6"
      },
      "source": [
        "dummy = DummyClassifier(strategy = 'most_frequent').fit(X_train, y_train)"
      ],
      "execution_count": null,
      "outputs": []
    },
    {
      "cell_type": "code",
      "metadata": {
        "id": "ZExYg2xvuFuR",
        "outputId": "59838743-8d71-436e-adf1-2f117f012ff0",
        "colab": {
          "base_uri": "https://localhost:8080/"
        }
      },
      "source": [
        "dummy_prediction = dummy.predict(X_test)\n",
        "dummy_prediction"
      ],
      "execution_count": null,
      "outputs": [
        {
          "output_type": "execute_result",
          "data": {
            "text/plain": [
              "array([0., 0., 0., ..., 0., 0., 0.])"
            ]
          },
          "metadata": {
            "tags": []
          },
          "execution_count": 91
        }
      ]
    },
    {
      "cell_type": "code",
      "metadata": {
        "id": "A0DPHP3OuIX6",
        "outputId": "6dd0d07a-1746-49e3-cfd8-7ad4630d0973",
        "colab": {
          "base_uri": "https://localhost:8080/"
        }
      },
      "source": [
        "accuracy_score(y_test, dummy_prediction)"
      ],
      "execution_count": null,
      "outputs": [
        {
          "output_type": "execute_result",
          "data": {
            "text/plain": [
              "0.8537735849056604"
            ]
          },
          "metadata": {
            "tags": []
          },
          "execution_count": 92
        }
      ]
    },
    {
      "cell_type": "markdown",
      "metadata": {
        "id": "vI_TRNezu_nW"
      },
      "source": [
        "# **Creating a Model Comparison Table**"
      ]
    },
    {
      "cell_type": "code",
      "metadata": {
        "id": "M-5gfij1uLAM"
      },
      "source": [
        "scoring = {'accuracy':make_scorer(accuracy_score), \n",
        "           'precision':make_scorer(precision_score),\n",
        "           'recall':make_scorer(recall_score), \n",
        "           'f1_score':make_scorer(f1_score)}"
      ],
      "execution_count": null,
      "outputs": []
    },
    {
      "cell_type": "code",
      "metadata": {
        "id": "vbQInn1SvIcP"
      },
      "source": [
        "log_model = LogisticRegression(max_iter=10000)\n",
        "svc_model = LinearSVC(dual=False)\n",
        "dtr_model = DecisionTreeClassifier()\n",
        "rfc_model = RandomForestClassifier()\n",
        "gnb_model = GaussianNB()\n",
        "mlp_model = MLPClassifier()"
      ],
      "execution_count": null,
      "outputs": []
    },
    {
      "cell_type": "code",
      "metadata": {
        "id": "GLUuKzkKvLPX"
      },
      "source": [
        "def models_evaluation(X, y, folds):\n",
        "    \n",
        "    '''\n",
        "    X : data set features\n",
        "    y : data set target\n",
        "    folds : number of cross-validation folds\n",
        "    \n",
        "    '''\n",
        "    \n",
        "    # Perform cross-validation to each machine learning classifier\n",
        "    log = cross_validate(log_model, X, y, cv=folds, scoring=scoring)\n",
        "    svc = cross_validate(svc_model, X, y, cv=folds, scoring=scoring)\n",
        "    dtr = cross_validate(dtr_model, X, y, cv=folds, scoring=scoring)\n",
        "    rfc = cross_validate(rfc_model, X, y, cv=folds, scoring=scoring)\n",
        "    gnb = cross_validate(gnb_model, X, y, cv=folds, scoring=scoring)\n",
        "    mlp = cross_validate(gnb_model, X, y, cv=folds, scoring=scoring)\n",
        "\n",
        "\n",
        "\n",
        "    # Create a data frame with the models perfoamnce metrics scores\n",
        "    models_scores_table = pd.DataFrame({'Logistic Regression':[log['test_accuracy'].mean(),\n",
        "                                                               log['test_precision'].mean(),\n",
        "                                                               log['test_recall'].mean(),\n",
        "                                                               log['test_f1_score'].mean()],\n",
        "                                       \n",
        "                                      'Support Vector Classifier':[svc['test_accuracy'].mean(),\n",
        "                                                                   svc['test_precision'].mean(),\n",
        "                                                                   svc['test_recall'].mean(),\n",
        "                                                                   svc['test_f1_score'].mean()],\n",
        "                                       \n",
        "                                      'Decision Tree':[dtr['test_accuracy'].mean(),\n",
        "                                                       dtr['test_precision'].mean(),\n",
        "                                                       dtr['test_recall'].mean(),\n",
        "                                                       dtr['test_f1_score'].mean()],\n",
        "                                       \n",
        "                                      'Random Forest':[rfc['test_accuracy'].mean(),\n",
        "                                                       rfc['test_precision'].mean(),\n",
        "                                                       rfc['test_recall'].mean(),\n",
        "                                                       rfc['test_f1_score'].mean()],\n",
        "                                       \n",
        "                                      'Gaussian Naive Bayes':[gnb['test_accuracy'].mean(),\n",
        "                                                              gnb['test_precision'].mean(),\n",
        "                                                              gnb['test_recall'].mean(),\n",
        "                                                              gnb['test_f1_score'].mean()],\n",
        "                                       \n",
        "                                      'Multi Layer Perceptron':[mlp['test_accuracy'].mean(),\n",
        "                                                              mlp['test_precision'].mean(),\n",
        "                                                              mlp['test_recall'].mean(),\n",
        "                                                              mlp['test_f1_score'].mean()]},\n",
        "                                      \n",
        "                                      \n",
        "                                      index=['Accuracy', 'Precision', 'Recall', 'F1 Score'])\n",
        "     # Add 'Best Score' column\n",
        "    models_scores_table['Best Score'] = models_scores_table.idxmax(axis=1)\n",
        "    \n",
        "    # Return models performance metrics scores data frame\n",
        "    return(models_scores_table)"
      ],
      "execution_count": null,
      "outputs": []
    },
    {
      "cell_type": "code",
      "metadata": {
        "id": "xynOArwrvgGw",
        "outputId": "5ce3706d-5606-4574-b2fe-63f3245eacb9",
        "colab": {
          "base_uri": "https://localhost:8080/",
          "height": 173
        }
      },
      "source": [
        "models_evaluation(X_test, y_test , 5)"
      ],
      "execution_count": null,
      "outputs": [
        {
          "output_type": "execute_result",
          "data": {
            "text/html": [
              "<div>\n",
              "<style scoped>\n",
              "    .dataframe tbody tr th:only-of-type {\n",
              "        vertical-align: middle;\n",
              "    }\n",
              "\n",
              "    .dataframe tbody tr th {\n",
              "        vertical-align: top;\n",
              "    }\n",
              "\n",
              "    .dataframe thead th {\n",
              "        text-align: right;\n",
              "    }\n",
              "</style>\n",
              "<table border=\"1\" class=\"dataframe\">\n",
              "  <thead>\n",
              "    <tr style=\"text-align: right;\">\n",
              "      <th></th>\n",
              "      <th>Logistic Regression</th>\n",
              "      <th>Support Vector Classifier</th>\n",
              "      <th>Decision Tree</th>\n",
              "      <th>Random Forest</th>\n",
              "      <th>Gaussian Naive Bayes</th>\n",
              "      <th>Multi Layer Perceptron</th>\n",
              "      <th>Best Score</th>\n",
              "    </tr>\n",
              "  </thead>\n",
              "  <tbody>\n",
              "    <tr>\n",
              "      <th>Accuracy</th>\n",
              "      <td>0.854717</td>\n",
              "      <td>0.861321</td>\n",
              "      <td>0.757547</td>\n",
              "      <td>0.852830</td>\n",
              "      <td>0.836792</td>\n",
              "      <td>0.836792</td>\n",
              "      <td>Support Vector Classifier</td>\n",
              "    </tr>\n",
              "    <tr>\n",
              "      <th>Precision</th>\n",
              "      <td>0.486667</td>\n",
              "      <td>1.000000</td>\n",
              "      <td>0.233226</td>\n",
              "      <td>0.466667</td>\n",
              "      <td>0.351544</td>\n",
              "      <td>0.351544</td>\n",
              "      <td>Support Vector Classifier</td>\n",
              "    </tr>\n",
              "    <tr>\n",
              "      <th>Recall</th>\n",
              "      <td>0.064516</td>\n",
              "      <td>0.051613</td>\n",
              "      <td>0.264516</td>\n",
              "      <td>0.045161</td>\n",
              "      <td>0.161290</td>\n",
              "      <td>0.161290</td>\n",
              "      <td>Decision Tree</td>\n",
              "    </tr>\n",
              "    <tr>\n",
              "      <th>F1 Score</th>\n",
              "      <td>0.106665</td>\n",
              "      <td>0.097037</td>\n",
              "      <td>0.245817</td>\n",
              "      <td>0.079820</td>\n",
              "      <td>0.213672</td>\n",
              "      <td>0.213672</td>\n",
              "      <td>Decision Tree</td>\n",
              "    </tr>\n",
              "  </tbody>\n",
              "</table>\n",
              "</div>"
            ],
            "text/plain": [
              "           Logistic Regression  ...                 Best Score\n",
              "Accuracy              0.854717  ...  Support Vector Classifier\n",
              "Precision             0.486667  ...  Support Vector Classifier\n",
              "Recall                0.064516  ...              Decision Tree\n",
              "F1 Score              0.106665  ...              Decision Tree\n",
              "\n",
              "[4 rows x 7 columns]"
            ]
          },
          "metadata": {
            "tags": []
          },
          "execution_count": 96
        }
      ]
    },
    {
      "cell_type": "code",
      "metadata": {
        "id": "aWlxUhtbvk9M"
      },
      "source": [
        "#F1 scores are very low\n",
        "#Here, we see that accuracy is almost same as the Dummy Classfier Accuracy.\n",
        "#This means that Data Imbalance exists"
      ],
      "execution_count": null,
      "outputs": []
    },
    {
      "cell_type": "code",
      "metadata": {
        "id": "VLHJtm_uwJvu"
      },
      "source": [
        "rfc_model.fit(X_train, y_train)   #Creating a sample RF model for Imbalance Check\n",
        "pred = rfc_model.predict(X_test)"
      ],
      "execution_count": null,
      "outputs": []
    },
    {
      "cell_type": "code",
      "metadata": {
        "id": "h7HBLVzbvxP7",
        "outputId": "4cbdd2b7-c8a8-461a-e8c0-bf33326b54ac",
        "colab": {
          "base_uri": "https://localhost:8080/"
        }
      },
      "source": [
        "confusion = confusion_matrix(y_test, pred )\n",
        "confusion     #Here, we see that imbalance exists\n",
        "#Thus, Data Resampling is required"
      ],
      "execution_count": null,
      "outputs": [
        {
          "output_type": "execute_result",
          "data": {
            "text/plain": [
              "array([[895,  10],\n",
              "       [146,   9]])"
            ]
          },
          "metadata": {
            "tags": []
          },
          "execution_count": 98
        }
      ]
    },
    {
      "cell_type": "markdown",
      "metadata": {
        "id": "_mrBkMmoxGaR"
      },
      "source": [
        "## **Handling Imbalance**"
      ]
    },
    {
      "cell_type": "code",
      "metadata": {
        "id": "8xqSmAOqwlIc"
      },
      "source": [
        "sm = SMOTE(sampling_strategy = 'auto')"
      ],
      "execution_count": null,
      "outputs": []
    },
    {
      "cell_type": "code",
      "metadata": {
        "id": "4ORtMqMSxOgT",
        "outputId": "a41eb0e8-7386-48f8-f7e2-35369d84f763",
        "colab": {
          "base_uri": "https://localhost:8080/"
        }
      },
      "source": [
        "#Using Oversampling strategy\n",
        "X_res, y_res = sm.fit_resample(X,y)\n",
        "X_res = pd.DataFrame(X_res)\n",
        "y_res = pd.DataFrame(y_res)\n",
        "y_res.columns = ['15']"
      ],
      "execution_count": null,
      "outputs": [
        {
          "output_type": "stream",
          "text": [
            "/usr/local/lib/python3.6/dist-packages/sklearn/utils/deprecation.py:87: FutureWarning: Function safe_indexing is deprecated; safe_indexing is deprecated in version 0.22 and will be removed in version 0.24.\n",
            "  warnings.warn(msg, category=FutureWarning)\n"
          ],
          "name": "stderr"
        }
      ]
    },
    {
      "cell_type": "code",
      "metadata": {
        "id": "00F6t9VcxR7U",
        "outputId": "ebabf2b5-dbe6-4753-8ee1-f64623379a6e",
        "colab": {
          "base_uri": "https://localhost:8080/",
          "height": 419
        }
      },
      "source": [
        "res_hackathon = pd.concat([X_res, y_res], axis = 1)\n",
        "res_hackathon"
      ],
      "execution_count": null,
      "outputs": [
        {
          "output_type": "execute_result",
          "data": {
            "text/html": [
              "<div>\n",
              "<style scoped>\n",
              "    .dataframe tbody tr th:only-of-type {\n",
              "        vertical-align: middle;\n",
              "    }\n",
              "\n",
              "    .dataframe tbody tr th {\n",
              "        vertical-align: top;\n",
              "    }\n",
              "\n",
              "    .dataframe thead th {\n",
              "        text-align: right;\n",
              "    }\n",
              "</style>\n",
              "<table border=\"1\" class=\"dataframe\">\n",
              "  <thead>\n",
              "    <tr style=\"text-align: right;\">\n",
              "      <th></th>\n",
              "      <th>0</th>\n",
              "      <th>1</th>\n",
              "      <th>2</th>\n",
              "      <th>3</th>\n",
              "      <th>4</th>\n",
              "      <th>5</th>\n",
              "      <th>6</th>\n",
              "      <th>7</th>\n",
              "      <th>8</th>\n",
              "      <th>9</th>\n",
              "      <th>10</th>\n",
              "      <th>11</th>\n",
              "      <th>12</th>\n",
              "      <th>13</th>\n",
              "      <th>14</th>\n",
              "      <th>15</th>\n",
              "    </tr>\n",
              "  </thead>\n",
              "  <tbody>\n",
              "    <tr>\n",
              "      <th>0</th>\n",
              "      <td>-1.293724</td>\n",
              "      <td>-0.965269</td>\n",
              "      <td>-1.468875</td>\n",
              "      <td>-1.141808</td>\n",
              "      <td>0.408246</td>\n",
              "      <td>0.434565</td>\n",
              "      <td>-0.109654</td>\n",
              "      <td>1.000000</td>\n",
              "      <td>4.000000</td>\n",
              "      <td>0.0</td>\n",
              "      <td>0.0</td>\n",
              "      <td>0.0</td>\n",
              "      <td>0.0</td>\n",
              "      <td>0.0</td>\n",
              "      <td>0.0</td>\n",
              "      <td>0.0</td>\n",
              "    </tr>\n",
              "    <tr>\n",
              "      <th>1</th>\n",
              "      <td>-0.350548</td>\n",
              "      <td>0.385375</td>\n",
              "      <td>-0.427578</td>\n",
              "      <td>-0.066835</td>\n",
              "      <td>0.809167</td>\n",
              "      <td>1.509589</td>\n",
              "      <td>-0.191232</td>\n",
              "      <td>0.000000</td>\n",
              "      <td>2.000000</td>\n",
              "      <td>0.0</td>\n",
              "      <td>0.0</td>\n",
              "      <td>0.0</td>\n",
              "      <td>0.0</td>\n",
              "      <td>0.0</td>\n",
              "      <td>0.0</td>\n",
              "      <td>0.0</td>\n",
              "    </tr>\n",
              "    <tr>\n",
              "      <th>2</th>\n",
              "      <td>-0.105779</td>\n",
              "      <td>0.274039</td>\n",
              "      <td>-0.061976</td>\n",
              "      <td>-0.155990</td>\n",
              "      <td>-0.000071</td>\n",
              "      <td>0.021149</td>\n",
              "      <td>-0.736564</td>\n",
              "      <td>1.000000</td>\n",
              "      <td>0.000000</td>\n",
              "      <td>1.0</td>\n",
              "      <td>20.0</td>\n",
              "      <td>0.0</td>\n",
              "      <td>0.0</td>\n",
              "      <td>0.0</td>\n",
              "      <td>0.0</td>\n",
              "      <td>0.0</td>\n",
              "    </tr>\n",
              "    <tr>\n",
              "      <th>3</th>\n",
              "      <td>1.285045</td>\n",
              "      <td>-0.192299</td>\n",
              "      <td>0.929824</td>\n",
              "      <td>1.040208</td>\n",
              "      <td>0.776460</td>\n",
              "      <td>-0.914873</td>\n",
              "      <td>1.396926</td>\n",
              "      <td>0.000000</td>\n",
              "      <td>3.000000</td>\n",
              "      <td>1.0</td>\n",
              "      <td>30.0</td>\n",
              "      <td>0.0</td>\n",
              "      <td>0.0</td>\n",
              "      <td>1.0</td>\n",
              "      <td>0.0</td>\n",
              "      <td>1.0</td>\n",
              "    </tr>\n",
              "    <tr>\n",
              "      <th>4</th>\n",
              "      <td>-0.350548</td>\n",
              "      <td>1.114066</td>\n",
              "      <td>0.067614</td>\n",
              "      <td>0.191727</td>\n",
              "      <td>-0.630878</td>\n",
              "      <td>0.818054</td>\n",
              "      <td>0.465443</td>\n",
              "      <td>0.000000</td>\n",
              "      <td>3.000000</td>\n",
              "      <td>1.0</td>\n",
              "      <td>23.0</td>\n",
              "      <td>0.0</td>\n",
              "      <td>0.0</td>\n",
              "      <td>0.0</td>\n",
              "      <td>0.0</td>\n",
              "      <td>0.0</td>\n",
              "    </tr>\n",
              "    <tr>\n",
              "      <th>...</th>\n",
              "      <td>...</td>\n",
              "      <td>...</td>\n",
              "      <td>...</td>\n",
              "      <td>...</td>\n",
              "      <td>...</td>\n",
              "      <td>...</td>\n",
              "      <td>...</td>\n",
              "      <td>...</td>\n",
              "      <td>...</td>\n",
              "      <td>...</td>\n",
              "      <td>...</td>\n",
              "      <td>...</td>\n",
              "      <td>...</td>\n",
              "      <td>...</td>\n",
              "      <td>...</td>\n",
              "      <td>...</td>\n",
              "    </tr>\n",
              "    <tr>\n",
              "      <th>7187</th>\n",
              "      <td>0.498116</td>\n",
              "      <td>-0.014063</td>\n",
              "      <td>-0.112974</td>\n",
              "      <td>-0.772846</td>\n",
              "      <td>-0.364801</td>\n",
              "      <td>-0.049143</td>\n",
              "      <td>-0.536519</td>\n",
              "      <td>1.000000</td>\n",
              "      <td>0.000000</td>\n",
              "      <td>1.0</td>\n",
              "      <td>20.0</td>\n",
              "      <td>0.0</td>\n",
              "      <td>0.0</td>\n",
              "      <td>0.0</td>\n",
              "      <td>0.0</td>\n",
              "      <td>1.0</td>\n",
              "    </tr>\n",
              "    <tr>\n",
              "      <th>7188</th>\n",
              "      <td>1.380173</td>\n",
              "      <td>-0.892152</td>\n",
              "      <td>0.963024</td>\n",
              "      <td>0.384842</td>\n",
              "      <td>1.329905</td>\n",
              "      <td>-0.360460</td>\n",
              "      <td>-0.632024</td>\n",
              "      <td>1.000000</td>\n",
              "      <td>0.000000</td>\n",
              "      <td>0.0</td>\n",
              "      <td>0.0</td>\n",
              "      <td>0.0</td>\n",
              "      <td>0.0</td>\n",
              "      <td>1.0</td>\n",
              "      <td>0.0</td>\n",
              "      <td>1.0</td>\n",
              "    </tr>\n",
              "    <tr>\n",
              "      <th>7189</th>\n",
              "      <td>0.398292</td>\n",
              "      <td>1.353765</td>\n",
              "      <td>0.068591</td>\n",
              "      <td>0.715862</td>\n",
              "      <td>0.431004</td>\n",
              "      <td>-1.386329</td>\n",
              "      <td>-0.150459</td>\n",
              "      <td>0.119466</td>\n",
              "      <td>0.000000</td>\n",
              "      <td>0.0</td>\n",
              "      <td>0.0</td>\n",
              "      <td>0.0</td>\n",
              "      <td>0.0</td>\n",
              "      <td>1.0</td>\n",
              "      <td>0.0</td>\n",
              "      <td>1.0</td>\n",
              "    </tr>\n",
              "    <tr>\n",
              "      <th>7190</th>\n",
              "      <td>0.067317</td>\n",
              "      <td>1.042008</td>\n",
              "      <td>0.803687</td>\n",
              "      <td>0.770872</td>\n",
              "      <td>0.263601</td>\n",
              "      <td>2.067010</td>\n",
              "      <td>0.238471</td>\n",
              "      <td>0.346966</td>\n",
              "      <td>3.346966</td>\n",
              "      <td>1.0</td>\n",
              "      <td>20.0</td>\n",
              "      <td>0.0</td>\n",
              "      <td>0.0</td>\n",
              "      <td>1.0</td>\n",
              "      <td>0.0</td>\n",
              "      <td>1.0</td>\n",
              "    </tr>\n",
              "    <tr>\n",
              "      <th>7191</th>\n",
              "      <td>-0.555519</td>\n",
              "      <td>0.015987</td>\n",
              "      <td>0.066293</td>\n",
              "      <td>0.099584</td>\n",
              "      <td>-0.980766</td>\n",
              "      <td>0.056233</td>\n",
              "      <td>0.383981</td>\n",
              "      <td>0.000000</td>\n",
              "      <td>3.000000</td>\n",
              "      <td>1.0</td>\n",
              "      <td>10.0</td>\n",
              "      <td>0.0</td>\n",
              "      <td>0.0</td>\n",
              "      <td>0.0</td>\n",
              "      <td>0.0</td>\n",
              "      <td>1.0</td>\n",
              "    </tr>\n",
              "  </tbody>\n",
              "</table>\n",
              "<p>7192 rows × 16 columns</p>\n",
              "</div>"
            ],
            "text/plain": [
              "             0         1         2         3         4  ...   11   12   13   14   15\n",
              "0    -1.293724 -0.965269 -1.468875 -1.141808  0.408246  ...  0.0  0.0  0.0  0.0  0.0\n",
              "1    -0.350548  0.385375 -0.427578 -0.066835  0.809167  ...  0.0  0.0  0.0  0.0  0.0\n",
              "2    -0.105779  0.274039 -0.061976 -0.155990 -0.000071  ...  0.0  0.0  0.0  0.0  0.0\n",
              "3     1.285045 -0.192299  0.929824  1.040208  0.776460  ...  0.0  0.0  1.0  0.0  1.0\n",
              "4    -0.350548  1.114066  0.067614  0.191727 -0.630878  ...  0.0  0.0  0.0  0.0  0.0\n",
              "...        ...       ...       ...       ...       ...  ...  ...  ...  ...  ...  ...\n",
              "7187  0.498116 -0.014063 -0.112974 -0.772846 -0.364801  ...  0.0  0.0  0.0  0.0  1.0\n",
              "7188  1.380173 -0.892152  0.963024  0.384842  1.329905  ...  0.0  0.0  1.0  0.0  1.0\n",
              "7189  0.398292  1.353765  0.068591  0.715862  0.431004  ...  0.0  0.0  1.0  0.0  1.0\n",
              "7190  0.067317  1.042008  0.803687  0.770872  0.263601  ...  0.0  0.0  1.0  0.0  1.0\n",
              "7191 -0.555519  0.015987  0.066293  0.099584 -0.980766  ...  0.0  0.0  0.0  0.0  1.0\n",
              "\n",
              "[7192 rows x 16 columns]"
            ]
          },
          "metadata": {
            "tags": []
          },
          "execution_count": 151
        }
      ]
    },
    {
      "cell_type": "code",
      "metadata": {
        "id": "tOWhAUjwxblj"
      },
      "source": [
        "X_train, X_test, y_train, y_test = train_test_split(X_res,y_res,random_state = 42) #Train test split for resampled"
      ],
      "execution_count": null,
      "outputs": []
    },
    {
      "cell_type": "code",
      "metadata": {
        "id": "XNhJetNCzyd1",
        "outputId": "2df23506-4d32-4e25-ec77-eb6023a2bafa",
        "colab": {
          "base_uri": "https://localhost:8080/",
          "height": 1000
        }
      },
      "source": [
        "#Checking accuracies in model comparison table\n",
        "models_evaluation(X_test, y_test , 5)"
      ],
      "execution_count": null,
      "outputs": [
        {
          "output_type": "stream",
          "text": [
            "/usr/local/lib/python3.6/dist-packages/sklearn/utils/validation.py:760: DataConversionWarning: A column-vector y was passed when a 1d array was expected. Please change the shape of y to (n_samples, ), for example using ravel().\n",
            "  y = column_or_1d(y, warn=True)\n",
            "/usr/local/lib/python3.6/dist-packages/sklearn/utils/validation.py:760: DataConversionWarning: A column-vector y was passed when a 1d array was expected. Please change the shape of y to (n_samples, ), for example using ravel().\n",
            "  y = column_or_1d(y, warn=True)\n",
            "/usr/local/lib/python3.6/dist-packages/sklearn/utils/validation.py:760: DataConversionWarning: A column-vector y was passed when a 1d array was expected. Please change the shape of y to (n_samples, ), for example using ravel().\n",
            "  y = column_or_1d(y, warn=True)\n",
            "/usr/local/lib/python3.6/dist-packages/sklearn/utils/validation.py:760: DataConversionWarning: A column-vector y was passed when a 1d array was expected. Please change the shape of y to (n_samples, ), for example using ravel().\n",
            "  y = column_or_1d(y, warn=True)\n",
            "/usr/local/lib/python3.6/dist-packages/sklearn/utils/validation.py:760: DataConversionWarning: A column-vector y was passed when a 1d array was expected. Please change the shape of y to (n_samples, ), for example using ravel().\n",
            "  y = column_or_1d(y, warn=True)\n",
            "/usr/local/lib/python3.6/dist-packages/sklearn/utils/validation.py:760: DataConversionWarning: A column-vector y was passed when a 1d array was expected. Please change the shape of y to (n_samples, ), for example using ravel().\n",
            "  y = column_or_1d(y, warn=True)\n",
            "/usr/local/lib/python3.6/dist-packages/sklearn/utils/validation.py:760: DataConversionWarning: A column-vector y was passed when a 1d array was expected. Please change the shape of y to (n_samples, ), for example using ravel().\n",
            "  y = column_or_1d(y, warn=True)\n",
            "/usr/local/lib/python3.6/dist-packages/sklearn/utils/validation.py:760: DataConversionWarning: A column-vector y was passed when a 1d array was expected. Please change the shape of y to (n_samples, ), for example using ravel().\n",
            "  y = column_or_1d(y, warn=True)\n",
            "/usr/local/lib/python3.6/dist-packages/sklearn/utils/validation.py:760: DataConversionWarning: A column-vector y was passed when a 1d array was expected. Please change the shape of y to (n_samples, ), for example using ravel().\n",
            "  y = column_or_1d(y, warn=True)\n",
            "/usr/local/lib/python3.6/dist-packages/sklearn/utils/validation.py:760: DataConversionWarning: A column-vector y was passed when a 1d array was expected. Please change the shape of y to (n_samples, ), for example using ravel().\n",
            "  y = column_or_1d(y, warn=True)\n",
            "/usr/local/lib/python3.6/dist-packages/sklearn/model_selection/_validation.py:515: DataConversionWarning: A column-vector y was passed when a 1d array was expected. Please change the shape of y to (n_samples,), for example using ravel().\n",
            "  estimator.fit(X_train, y_train, **fit_params)\n",
            "/usr/local/lib/python3.6/dist-packages/sklearn/model_selection/_validation.py:515: DataConversionWarning: A column-vector y was passed when a 1d array was expected. Please change the shape of y to (n_samples,), for example using ravel().\n",
            "  estimator.fit(X_train, y_train, **fit_params)\n",
            "/usr/local/lib/python3.6/dist-packages/sklearn/model_selection/_validation.py:515: DataConversionWarning: A column-vector y was passed when a 1d array was expected. Please change the shape of y to (n_samples,), for example using ravel().\n",
            "  estimator.fit(X_train, y_train, **fit_params)\n",
            "/usr/local/lib/python3.6/dist-packages/sklearn/model_selection/_validation.py:515: DataConversionWarning: A column-vector y was passed when a 1d array was expected. Please change the shape of y to (n_samples,), for example using ravel().\n",
            "  estimator.fit(X_train, y_train, **fit_params)\n",
            "/usr/local/lib/python3.6/dist-packages/sklearn/model_selection/_validation.py:515: DataConversionWarning: A column-vector y was passed when a 1d array was expected. Please change the shape of y to (n_samples,), for example using ravel().\n",
            "  estimator.fit(X_train, y_train, **fit_params)\n",
            "/usr/local/lib/python3.6/dist-packages/sklearn/naive_bayes.py:206: DataConversionWarning: A column-vector y was passed when a 1d array was expected. Please change the shape of y to (n_samples, ), for example using ravel().\n",
            "  y = column_or_1d(y, warn=True)\n",
            "/usr/local/lib/python3.6/dist-packages/sklearn/naive_bayes.py:206: DataConversionWarning: A column-vector y was passed when a 1d array was expected. Please change the shape of y to (n_samples, ), for example using ravel().\n",
            "  y = column_or_1d(y, warn=True)\n",
            "/usr/local/lib/python3.6/dist-packages/sklearn/naive_bayes.py:206: DataConversionWarning: A column-vector y was passed when a 1d array was expected. Please change the shape of y to (n_samples, ), for example using ravel().\n",
            "  y = column_or_1d(y, warn=True)\n",
            "/usr/local/lib/python3.6/dist-packages/sklearn/naive_bayes.py:206: DataConversionWarning: A column-vector y was passed when a 1d array was expected. Please change the shape of y to (n_samples, ), for example using ravel().\n",
            "  y = column_or_1d(y, warn=True)\n",
            "/usr/local/lib/python3.6/dist-packages/sklearn/naive_bayes.py:206: DataConversionWarning: A column-vector y was passed when a 1d array was expected. Please change the shape of y to (n_samples, ), for example using ravel().\n",
            "  y = column_or_1d(y, warn=True)\n",
            "/usr/local/lib/python3.6/dist-packages/sklearn/naive_bayes.py:206: DataConversionWarning: A column-vector y was passed when a 1d array was expected. Please change the shape of y to (n_samples, ), for example using ravel().\n",
            "  y = column_or_1d(y, warn=True)\n",
            "/usr/local/lib/python3.6/dist-packages/sklearn/naive_bayes.py:206: DataConversionWarning: A column-vector y was passed when a 1d array was expected. Please change the shape of y to (n_samples, ), for example using ravel().\n",
            "  y = column_or_1d(y, warn=True)\n",
            "/usr/local/lib/python3.6/dist-packages/sklearn/naive_bayes.py:206: DataConversionWarning: A column-vector y was passed when a 1d array was expected. Please change the shape of y to (n_samples, ), for example using ravel().\n",
            "  y = column_or_1d(y, warn=True)\n",
            "/usr/local/lib/python3.6/dist-packages/sklearn/naive_bayes.py:206: DataConversionWarning: A column-vector y was passed when a 1d array was expected. Please change the shape of y to (n_samples, ), for example using ravel().\n",
            "  y = column_or_1d(y, warn=True)\n",
            "/usr/local/lib/python3.6/dist-packages/sklearn/naive_bayes.py:206: DataConversionWarning: A column-vector y was passed when a 1d array was expected. Please change the shape of y to (n_samples, ), for example using ravel().\n",
            "  y = column_or_1d(y, warn=True)\n"
          ],
          "name": "stderr"
        },
        {
          "output_type": "execute_result",
          "data": {
            "text/html": [
              "<div>\n",
              "<style scoped>\n",
              "    .dataframe tbody tr th:only-of-type {\n",
              "        vertical-align: middle;\n",
              "    }\n",
              "\n",
              "    .dataframe tbody tr th {\n",
              "        vertical-align: top;\n",
              "    }\n",
              "\n",
              "    .dataframe thead th {\n",
              "        text-align: right;\n",
              "    }\n",
              "</style>\n",
              "<table border=\"1\" class=\"dataframe\">\n",
              "  <thead>\n",
              "    <tr style=\"text-align: right;\">\n",
              "      <th></th>\n",
              "      <th>Logistic Regression</th>\n",
              "      <th>Support Vector Classifier</th>\n",
              "      <th>Decision Tree</th>\n",
              "      <th>Random Forest</th>\n",
              "      <th>Gaussian Naive Bayes</th>\n",
              "      <th>Multi Layer Perceptron</th>\n",
              "      <th>Best Score</th>\n",
              "    </tr>\n",
              "  </thead>\n",
              "  <tbody>\n",
              "    <tr>\n",
              "      <th>Accuracy</th>\n",
              "      <td>0.673005</td>\n",
              "      <td>0.675786</td>\n",
              "      <td>0.712482</td>\n",
              "      <td>0.795911</td>\n",
              "      <td>0.531156</td>\n",
              "      <td>0.531156</td>\n",
              "      <td>Random Forest</td>\n",
              "    </tr>\n",
              "    <tr>\n",
              "      <th>Precision</th>\n",
              "      <td>0.661996</td>\n",
              "      <td>0.663359</td>\n",
              "      <td>0.708509</td>\n",
              "      <td>0.810131</td>\n",
              "      <td>0.689379</td>\n",
              "      <td>0.689379</td>\n",
              "      <td>Random Forest</td>\n",
              "    </tr>\n",
              "    <tr>\n",
              "      <th>Recall</th>\n",
              "      <td>0.699598</td>\n",
              "      <td>0.707432</td>\n",
              "      <td>0.720878</td>\n",
              "      <td>0.770222</td>\n",
              "      <td>0.096460</td>\n",
              "      <td>0.096460</td>\n",
              "      <td>Random Forest</td>\n",
              "    </tr>\n",
              "    <tr>\n",
              "      <th>F1 Score</th>\n",
              "      <td>0.679898</td>\n",
              "      <td>0.684311</td>\n",
              "      <td>0.713538</td>\n",
              "      <td>0.789275</td>\n",
              "      <td>0.168989</td>\n",
              "      <td>0.168989</td>\n",
              "      <td>Random Forest</td>\n",
              "    </tr>\n",
              "  </tbody>\n",
              "</table>\n",
              "</div>"
            ],
            "text/plain": [
              "           Logistic Regression  ...     Best Score\n",
              "Accuracy              0.673005  ...  Random Forest\n",
              "Precision             0.661996  ...  Random Forest\n",
              "Recall                0.699598  ...  Random Forest\n",
              "F1 Score              0.679898  ...  Random Forest\n",
              "\n",
              "[4 rows x 7 columns]"
            ]
          },
          "metadata": {
            "tags": []
          },
          "execution_count": 103
        }
      ]
    },
    {
      "cell_type": "code",
      "metadata": {
        "id": "kEzN_19tCgyM"
      },
      "source": [
        "dummy = DummyClassifier(strategy = 'most_frequent').fit(X_train, y_train)"
      ],
      "execution_count": null,
      "outputs": []
    },
    {
      "cell_type": "code",
      "metadata": {
        "id": "Twc-8VFhHDxP",
        "outputId": "3e435cb6-ad3b-4cda-9d79-80c03359471f",
        "colab": {
          "base_uri": "https://localhost:8080/"
        }
      },
      "source": [
        "dummy_prediction = dummy.predict(X_test)\n",
        "dummy.score(X_test, y_test)    #Reduced Dummy Classifier accuracy indicates that less imbalance Exists"
      ],
      "execution_count": null,
      "outputs": [
        {
          "output_type": "execute_result",
          "data": {
            "text/plain": [
              "0.4961067853170189"
            ]
          },
          "metadata": {
            "tags": []
          },
          "execution_count": 105
        }
      ]
    },
    {
      "cell_type": "markdown",
      "metadata": {
        "id": "0uHGJbqW0Bch"
      },
      "source": [
        "**We see that accuracy in the model comparison table has significantly dropped after resampling. This means that, accuracy is not the correct evalutation metric. \n",
        "On the other hand, f1 score has shown an improvement.\n",
        "So, we choose f1_score as our evaluation metric.**"
      ]
    },
    {
      "cell_type": "code",
      "metadata": {
        "id": "kiBZMyeRAYdO",
        "outputId": "c9894065-1c2e-4af5-b6b6-293dbf1bc59e",
        "colab": {
          "base_uri": "https://localhost:8080/"
        }
      },
      "source": [
        "#Random Forests Classifier gives the best F1 Score (0.7652)\n",
        "#Trying out more Algorithms for better F1_score\n",
        "#XGBoost\n",
        "xgb = XGBClassifier(objective= 'binary:logistic', n_estimators=70, seed=101).fit(X_train, y_train)\n"
      ],
      "execution_count": null,
      "outputs": [
        {
          "output_type": "stream",
          "text": [
            "/usr/local/lib/python3.6/dist-packages/sklearn/preprocessing/_label.py:235: DataConversionWarning: A column-vector y was passed when a 1d array was expected. Please change the shape of y to (n_samples, ), for example using ravel().\n",
            "  y = column_or_1d(y, warn=True)\n",
            "/usr/local/lib/python3.6/dist-packages/sklearn/preprocessing/_label.py:268: DataConversionWarning: A column-vector y was passed when a 1d array was expected. Please change the shape of y to (n_samples, ), for example using ravel().\n",
            "  y = column_or_1d(y, warn=True)\n"
          ],
          "name": "stderr"
        }
      ]
    },
    {
      "cell_type": "code",
      "metadata": {
        "id": "VAVd47fE0oCt"
      },
      "source": [
        "xgpred = xgb.predict(X_test)"
      ],
      "execution_count": null,
      "outputs": []
    },
    {
      "cell_type": "code",
      "metadata": {
        "id": "vy532lXBJTkn",
        "outputId": "1467edef-4b01-4ff2-9e88-ae659e84cf8d",
        "colab": {
          "base_uri": "https://localhost:8080/"
        }
      },
      "source": [
        "f1_score(xgpred, y_test)     #Better accuracy than RandomForestClassifier"
      ],
      "execution_count": null,
      "outputs": [
        {
          "output_type": "execute_result",
          "data": {
            "text/plain": [
              "0.8106575963718822"
            ]
          },
          "metadata": {
            "tags": []
          },
          "execution_count": 108
        }
      ]
    },
    {
      "cell_type": "markdown",
      "metadata": {
        "id": "1Moy2H7hKY_x"
      },
      "source": [
        "## **Hyperparameter Tuning to improve the model**"
      ]
    },
    {
      "cell_type": "code",
      "metadata": {
        "id": "zPqOzuh-JdI2"
      },
      "source": [
        "params = {\n",
        "    'learning_rate' :[0.05, 0.10, 0.15, 0.20, 0.25, 0.30],\n",
        "    'max_depth' :[3,4,5,6,8,10,12,15],\n",
        "    'min_child_weight' :[1,3,5,7],\n",
        "    'gamma' :[0.0, 0.1, 0.2, 0.3, 0.4],\n",
        "    'colsample_bytree' :[0.3,0.4,0.5,0.7]\n",
        "}"
      ],
      "execution_count": null,
      "outputs": []
    },
    {
      "cell_type": "code",
      "metadata": {
        "id": "Fsc-Mf0OKBGt"
      },
      "source": [
        "random_search = RandomizedSearchCV(xgb, param_distributions=params, n_iter = 5, scoring = 'roc_auc', n_jobs = -1, cv=5,verbose = 3)"
      ],
      "execution_count": null,
      "outputs": []
    },
    {
      "cell_type": "code",
      "metadata": {
        "id": "ay11qjzvKn_-",
        "outputId": "e90ff940-d78b-434a-bb97-77f85f098a67",
        "colab": {
          "base_uri": "https://localhost:8080/"
        }
      },
      "source": [
        "random_search.fit(X_res, y_res)"
      ],
      "execution_count": null,
      "outputs": [
        {
          "output_type": "stream",
          "text": [
            "Fitting 5 folds for each of 5 candidates, totalling 25 fits\n"
          ],
          "name": "stdout"
        },
        {
          "output_type": "stream",
          "text": [
            "[Parallel(n_jobs=-1)]: Using backend LokyBackend with 2 concurrent workers.\n",
            "[Parallel(n_jobs=-1)]: Done  25 out of  25 | elapsed:   12.8s finished\n",
            "/usr/local/lib/python3.6/dist-packages/sklearn/preprocessing/_label.py:235: DataConversionWarning: A column-vector y was passed when a 1d array was expected. Please change the shape of y to (n_samples, ), for example using ravel().\n",
            "  y = column_or_1d(y, warn=True)\n",
            "/usr/local/lib/python3.6/dist-packages/sklearn/preprocessing/_label.py:268: DataConversionWarning: A column-vector y was passed when a 1d array was expected. Please change the shape of y to (n_samples, ), for example using ravel().\n",
            "  y = column_or_1d(y, warn=True)\n"
          ],
          "name": "stderr"
        },
        {
          "output_type": "execute_result",
          "data": {
            "text/plain": [
              "RandomizedSearchCV(cv=5, error_score=nan,\n",
              "                   estimator=XGBClassifier(base_score=0.5, booster='gbtree',\n",
              "                                           colsample_bylevel=1,\n",
              "                                           colsample_bynode=1,\n",
              "                                           colsample_bytree=1, gamma=0,\n",
              "                                           learning_rate=0.1, max_delta_step=0,\n",
              "                                           max_depth=3, min_child_weight=1,\n",
              "                                           missing=None, n_estimators=70,\n",
              "                                           n_jobs=1, nthread=None,\n",
              "                                           objective='binary:logistic',\n",
              "                                           random_state=0, reg_alpha=0,\n",
              "                                           reg_lambda=1, sca...\n",
              "                                           verbosity=1),\n",
              "                   iid='deprecated', n_iter=5, n_jobs=-1,\n",
              "                   param_distributions={'colsample_bytree': [0.3, 0.4, 0.5,\n",
              "                                                             0.7],\n",
              "                                        'gamma': [0.0, 0.1, 0.2, 0.3, 0.4],\n",
              "                                        'learning_rate': [0.05, 0.1, 0.15, 0.2,\n",
              "                                                          0.25, 0.3],\n",
              "                                        'max_depth': [3, 4, 5, 6, 8, 10, 12,\n",
              "                                                      15],\n",
              "                                        'min_child_weight': [1, 3, 5, 7]},\n",
              "                   pre_dispatch='2*n_jobs', random_state=None, refit=True,\n",
              "                   return_train_score=False, scoring='roc_auc', verbose=3)"
            ]
          },
          "metadata": {
            "tags": []
          },
          "execution_count": 111
        }
      ]
    },
    {
      "cell_type": "code",
      "metadata": {
        "id": "aokq_0vpKq_R",
        "outputId": "d1daaa31-d8a6-4964-8746-caa10c163d48",
        "colab": {
          "base_uri": "https://localhost:8080/"
        }
      },
      "source": [
        "random_search.best_estimator_      #gives the best estimator values for xgboost"
      ],
      "execution_count": null,
      "outputs": [
        {
          "output_type": "execute_result",
          "data": {
            "text/plain": [
              "XGBClassifier(base_score=0.5, booster='gbtree', colsample_bylevel=1,\n",
              "              colsample_bynode=1, colsample_bytree=0.7, gamma=0.1,\n",
              "              learning_rate=0.2, max_delta_step=0, max_depth=15,\n",
              "              min_child_weight=1, missing=None, n_estimators=70, n_jobs=1,\n",
              "              nthread=None, objective='binary:logistic', random_state=0,\n",
              "              reg_alpha=0, reg_lambda=1, scale_pos_weight=1, seed=101,\n",
              "              silent=None, subsample=1, verbosity=1)"
            ]
          },
          "metadata": {
            "tags": []
          },
          "execution_count": 112
        }
      ]
    },
    {
      "cell_type": "code",
      "metadata": {
        "id": "ySjsCk__KwQm"
      },
      "source": [
        "xgb = XGBClassifier(base_score=0.5, booster='gbtree', colsample_bylevel=1,\n",
        "              colsample_bynode=1, colsample_bytree=0.7, gamma=0.1,\n",
        "              learning_rate=0.2, max_delta_step=0, max_depth=15,\n",
        "              min_child_weight=1, missing=None, n_estimators=70, n_jobs=1,\n",
        "              nthread=None, objective='binary:logistic', random_state=0,\n",
        "              reg_alpha=0, reg_lambda=1, scale_pos_weight=1, seed=101,\n",
        "              silent=None, subsample=1, verbosity=1)"
      ],
      "execution_count": null,
      "outputs": []
    },
    {
      "cell_type": "code",
      "metadata": {
        "id": "o31lg0bBLDI1",
        "outputId": "2549ce52-ce04-4b03-d277-b3bcc33ed7b4",
        "colab": {
          "base_uri": "https://localhost:8080/"
        }
      },
      "source": [
        "xgb.fit(X_train, y_train)"
      ],
      "execution_count": null,
      "outputs": [
        {
          "output_type": "stream",
          "text": [
            "/usr/local/lib/python3.6/dist-packages/sklearn/preprocessing/_label.py:235: DataConversionWarning: A column-vector y was passed when a 1d array was expected. Please change the shape of y to (n_samples, ), for example using ravel().\n",
            "  y = column_or_1d(y, warn=True)\n",
            "/usr/local/lib/python3.6/dist-packages/sklearn/preprocessing/_label.py:268: DataConversionWarning: A column-vector y was passed when a 1d array was expected. Please change the shape of y to (n_samples, ), for example using ravel().\n",
            "  y = column_or_1d(y, warn=True)\n"
          ],
          "name": "stderr"
        },
        {
          "output_type": "execute_result",
          "data": {
            "text/plain": [
              "XGBClassifier(base_score=0.5, booster='gbtree', colsample_bylevel=1,\n",
              "              colsample_bynode=1, colsample_bytree=0.7, gamma=0.1,\n",
              "              learning_rate=0.2, max_delta_step=0, max_depth=15,\n",
              "              min_child_weight=1, missing=None, n_estimators=70, n_jobs=1,\n",
              "              nthread=None, objective='binary:logistic', random_state=0,\n",
              "              reg_alpha=0, reg_lambda=1, scale_pos_weight=1, seed=101,\n",
              "              silent=None, subsample=1, verbosity=1)"
            ]
          },
          "metadata": {
            "tags": []
          },
          "execution_count": 114
        }
      ]
    },
    {
      "cell_type": "code",
      "metadata": {
        "id": "5GfoarT8LGKC",
        "outputId": "2a69cb68-0e54-49fc-eb67-28f81407547a",
        "colab": {
          "base_uri": "https://localhost:8080/"
        }
      },
      "source": [
        "predicted = xgb.predict(X_test)\n",
        "predicted"
      ],
      "execution_count": null,
      "outputs": [
        {
          "output_type": "execute_result",
          "data": {
            "text/plain": [
              "array([0., 0., 1., ..., 0., 0., 0.])"
            ]
          },
          "metadata": {
            "tags": []
          },
          "execution_count": 115
        }
      ]
    },
    {
      "cell_type": "code",
      "metadata": {
        "id": "p6KKk3mnLTUJ",
        "outputId": "06a3df24-c47e-406a-cc73-f65617fa611a",
        "colab": {
          "base_uri": "https://localhost:8080/"
        }
      },
      "source": [
        "f1_score(predicted, y_test)      #F1 score increased by 10% !!!\n",
        "#This is probably our FINAL SCORE !!!"
      ],
      "execution_count": null,
      "outputs": [
        {
          "output_type": "execute_result",
          "data": {
            "text/plain": [
              "0.9007009345794392"
            ]
          },
          "metadata": {
            "tags": []
          },
          "execution_count": 116
        }
      ]
    },
    {
      "cell_type": "markdown",
      "metadata": {
        "id": "9ieHBxMad5EI"
      },
      "source": [
        "## **Creating Pipelines for different methods to compare with different normalization and Scaling Techniques**"
      ]
    },
    {
      "cell_type": "code",
      "metadata": {
        "id": "W6_6lV7-Lbk4"
      },
      "source": [
        "pipeline_lr = Pipeline([('scaler1', StandardScaler()),\n",
        "                        ('pca1',PCA(n_components = 2)),\n",
        "                        ('lr_classifier',LogisticRegression(random_state = 0))])"
      ],
      "execution_count": null,
      "outputs": []
    },
    {
      "cell_type": "code",
      "metadata": {
        "id": "IUof8AoTednc"
      },
      "source": [
        "pipeline_dt = Pipeline([('scaler2', MinMaxScaler()),\n",
        "                       ('lda2', LinearDiscriminantAnalysis(n_components = 1)),\n",
        "                       ('dt_classifier', DecisionTreeClassifier())])"
      ],
      "execution_count": null,
      "outputs": []
    },
    {
      "cell_type": "code",
      "metadata": {
        "id": "un6sKnojeoyd"
      },
      "source": [
        "pipeline_rf = Pipeline([('scaler3', StandardScaler()),\n",
        "                       ('pca2', PCA(n_components = 2)),\n",
        "                       ('rf_classifier', RandomForestClassifier())])"
      ],
      "execution_count": null,
      "outputs": []
    },
    {
      "cell_type": "code",
      "metadata": {
        "id": "g6FgAlM0eq_d"
      },
      "source": [
        "pipeline_svm = Pipeline([('scaler4', StandardScaler()),\n",
        "                        ('lda2', LinearDiscriminantAnalysis(n_components = 1)),\n",
        "                        ('svm_classifier', SVC())])"
      ],
      "execution_count": null,
      "outputs": []
    },
    {
      "cell_type": "code",
      "metadata": {
        "id": "YKAAZS1BetG4"
      },
      "source": [
        "pipelines = [pipeline_lr, pipeline_dt, pipeline_rf, pipeline_svm]"
      ],
      "execution_count": null,
      "outputs": []
    },
    {
      "cell_type": "code",
      "metadata": {
        "id": "LEl8ihh8fDIx",
        "outputId": "f424225b-a1ed-4b08-f87e-ddfbf0fd7aaa",
        "colab": {
          "base_uri": "https://localhost:8080/"
        }
      },
      "source": [
        "pipe_dict = {0: 'Logistic Regression', 1: 'Decision Tree', 2:'Random Classifier', 3: 'Support Vector Classifier', 4: 'XGB Classifier'}\n",
        "for pipe in pipelines:\n",
        "    pipe.fit(X_train, y_train)"
      ],
      "execution_count": null,
      "outputs": [
        {
          "output_type": "stream",
          "text": [
            "/usr/local/lib/python3.6/dist-packages/sklearn/utils/validation.py:760: DataConversionWarning: A column-vector y was passed when a 1d array was expected. Please change the shape of y to (n_samples, ), for example using ravel().\n",
            "  y = column_or_1d(y, warn=True)\n",
            "/usr/local/lib/python3.6/dist-packages/sklearn/utils/validation.py:760: DataConversionWarning: A column-vector y was passed when a 1d array was expected. Please change the shape of y to (n_samples, ), for example using ravel().\n",
            "  y = column_or_1d(y, warn=True)\n",
            "/usr/local/lib/python3.6/dist-packages/sklearn/pipeline.py:354: DataConversionWarning: A column-vector y was passed when a 1d array was expected. Please change the shape of y to (n_samples,), for example using ravel().\n",
            "  self._final_estimator.fit(Xt, y, **fit_params)\n",
            "/usr/local/lib/python3.6/dist-packages/sklearn/utils/validation.py:760: DataConversionWarning: A column-vector y was passed when a 1d array was expected. Please change the shape of y to (n_samples, ), for example using ravel().\n",
            "  y = column_or_1d(y, warn=True)\n",
            "/usr/local/lib/python3.6/dist-packages/sklearn/utils/validation.py:760: DataConversionWarning: A column-vector y was passed when a 1d array was expected. Please change the shape of y to (n_samples, ), for example using ravel().\n",
            "  y = column_or_1d(y, warn=True)\n"
          ],
          "name": "stderr"
        }
      ]
    },
    {
      "cell_type": "code",
      "metadata": {
        "id": "7ass_pBefEDN",
        "outputId": "a9dc684d-4fe4-4745-fef7-9dd37bcc7b14",
        "colab": {
          "base_uri": "https://localhost:8080/"
        }
      },
      "source": [
        "for i, model in enumerate(pipelines):\n",
        "    pred = model.predict(X_test)\n",
        "    print('{} F1 scores: {}'.format(pipe_dict[i], f1_score(pred, y_test))) "
      ],
      "execution_count": null,
      "outputs": [
        {
          "output_type": "stream",
          "text": [
            "Logistic Regression F1 scores: 0.6313993174061433\n",
            "Decision Tree F1 scores: 0.6018983807928532\n",
            "Random Classifier F1 scores: 0.6524822695035462\n",
            "Support Vector Classifier F1 scores: 0.6982803543512246\n"
          ],
          "name": "stdout"
        }
      ]
    },
    {
      "cell_type": "code",
      "metadata": {
        "id": "bd2rnmgkfRp4"
      },
      "source": [
        "#Thus, we see that all these F1 scores are less than XGBoost Classifier used above.\n",
        "#Thus XGBoost remains our final model."
      ],
      "execution_count": null,
      "outputs": []
    },
    {
      "cell_type": "code",
      "metadata": {
        "id": "KmvBm6yhfn-j"
      },
      "source": [
        "#Now, we drop rows, which have been determined by using various permutations upon abserving the correlation matrix, to improve the score."
      ],
      "execution_count": null,
      "outputs": []
    },
    {
      "cell_type": "code",
      "metadata": {
        "id": "2JW31T1vf1GF",
        "outputId": "f155ba11-7235-4836-8858-2562b4614c99",
        "colab": {
          "base_uri": "https://localhost:8080/",
          "height": 419
        }
      },
      "source": [
        "X_res = X_res.drop([2,13],axis = 1)\n",
        "X_res"
      ],
      "execution_count": null,
      "outputs": [
        {
          "output_type": "execute_result",
          "data": {
            "text/html": [
              "<div>\n",
              "<style scoped>\n",
              "    .dataframe tbody tr th:only-of-type {\n",
              "        vertical-align: middle;\n",
              "    }\n",
              "\n",
              "    .dataframe tbody tr th {\n",
              "        vertical-align: top;\n",
              "    }\n",
              "\n",
              "    .dataframe thead th {\n",
              "        text-align: right;\n",
              "    }\n",
              "</style>\n",
              "<table border=\"1\" class=\"dataframe\">\n",
              "  <thead>\n",
              "    <tr style=\"text-align: right;\">\n",
              "      <th></th>\n",
              "      <th>0</th>\n",
              "      <th>1</th>\n",
              "      <th>3</th>\n",
              "      <th>4</th>\n",
              "      <th>5</th>\n",
              "      <th>6</th>\n",
              "      <th>7</th>\n",
              "      <th>8</th>\n",
              "      <th>9</th>\n",
              "      <th>10</th>\n",
              "      <th>11</th>\n",
              "      <th>12</th>\n",
              "      <th>14</th>\n",
              "    </tr>\n",
              "  </thead>\n",
              "  <tbody>\n",
              "    <tr>\n",
              "      <th>0</th>\n",
              "      <td>-1.293724</td>\n",
              "      <td>-0.965269</td>\n",
              "      <td>-1.141808</td>\n",
              "      <td>0.408246</td>\n",
              "      <td>0.434565</td>\n",
              "      <td>-0.109654</td>\n",
              "      <td>1.000000</td>\n",
              "      <td>4.000000</td>\n",
              "      <td>0.0</td>\n",
              "      <td>0.0</td>\n",
              "      <td>0.0</td>\n",
              "      <td>0.0</td>\n",
              "      <td>0.0</td>\n",
              "    </tr>\n",
              "    <tr>\n",
              "      <th>1</th>\n",
              "      <td>-0.350548</td>\n",
              "      <td>0.385375</td>\n",
              "      <td>-0.066835</td>\n",
              "      <td>0.809167</td>\n",
              "      <td>1.509589</td>\n",
              "      <td>-0.191232</td>\n",
              "      <td>0.000000</td>\n",
              "      <td>2.000000</td>\n",
              "      <td>0.0</td>\n",
              "      <td>0.0</td>\n",
              "      <td>0.0</td>\n",
              "      <td>0.0</td>\n",
              "      <td>0.0</td>\n",
              "    </tr>\n",
              "    <tr>\n",
              "      <th>2</th>\n",
              "      <td>-0.105779</td>\n",
              "      <td>0.274039</td>\n",
              "      <td>-0.155990</td>\n",
              "      <td>-0.000071</td>\n",
              "      <td>0.021149</td>\n",
              "      <td>-0.736564</td>\n",
              "      <td>1.000000</td>\n",
              "      <td>0.000000</td>\n",
              "      <td>1.0</td>\n",
              "      <td>20.0</td>\n",
              "      <td>0.0</td>\n",
              "      <td>0.0</td>\n",
              "      <td>0.0</td>\n",
              "    </tr>\n",
              "    <tr>\n",
              "      <th>3</th>\n",
              "      <td>1.285045</td>\n",
              "      <td>-0.192299</td>\n",
              "      <td>1.040208</td>\n",
              "      <td>0.776460</td>\n",
              "      <td>-0.914873</td>\n",
              "      <td>1.396926</td>\n",
              "      <td>0.000000</td>\n",
              "      <td>3.000000</td>\n",
              "      <td>1.0</td>\n",
              "      <td>30.0</td>\n",
              "      <td>0.0</td>\n",
              "      <td>0.0</td>\n",
              "      <td>0.0</td>\n",
              "    </tr>\n",
              "    <tr>\n",
              "      <th>4</th>\n",
              "      <td>-0.350548</td>\n",
              "      <td>1.114066</td>\n",
              "      <td>0.191727</td>\n",
              "      <td>-0.630878</td>\n",
              "      <td>0.818054</td>\n",
              "      <td>0.465443</td>\n",
              "      <td>0.000000</td>\n",
              "      <td>3.000000</td>\n",
              "      <td>1.0</td>\n",
              "      <td>23.0</td>\n",
              "      <td>0.0</td>\n",
              "      <td>0.0</td>\n",
              "      <td>0.0</td>\n",
              "    </tr>\n",
              "    <tr>\n",
              "      <th>...</th>\n",
              "      <td>...</td>\n",
              "      <td>...</td>\n",
              "      <td>...</td>\n",
              "      <td>...</td>\n",
              "      <td>...</td>\n",
              "      <td>...</td>\n",
              "      <td>...</td>\n",
              "      <td>...</td>\n",
              "      <td>...</td>\n",
              "      <td>...</td>\n",
              "      <td>...</td>\n",
              "      <td>...</td>\n",
              "      <td>...</td>\n",
              "    </tr>\n",
              "    <tr>\n",
              "      <th>7187</th>\n",
              "      <td>0.498116</td>\n",
              "      <td>-0.014063</td>\n",
              "      <td>-0.772846</td>\n",
              "      <td>-0.364801</td>\n",
              "      <td>-0.049143</td>\n",
              "      <td>-0.536519</td>\n",
              "      <td>1.000000</td>\n",
              "      <td>0.000000</td>\n",
              "      <td>1.0</td>\n",
              "      <td>20.0</td>\n",
              "      <td>0.0</td>\n",
              "      <td>0.0</td>\n",
              "      <td>0.0</td>\n",
              "    </tr>\n",
              "    <tr>\n",
              "      <th>7188</th>\n",
              "      <td>1.380173</td>\n",
              "      <td>-0.892152</td>\n",
              "      <td>0.384842</td>\n",
              "      <td>1.329905</td>\n",
              "      <td>-0.360460</td>\n",
              "      <td>-0.632024</td>\n",
              "      <td>1.000000</td>\n",
              "      <td>0.000000</td>\n",
              "      <td>0.0</td>\n",
              "      <td>0.0</td>\n",
              "      <td>0.0</td>\n",
              "      <td>0.0</td>\n",
              "      <td>0.0</td>\n",
              "    </tr>\n",
              "    <tr>\n",
              "      <th>7189</th>\n",
              "      <td>0.398292</td>\n",
              "      <td>1.353765</td>\n",
              "      <td>0.715862</td>\n",
              "      <td>0.431004</td>\n",
              "      <td>-1.386329</td>\n",
              "      <td>-0.150459</td>\n",
              "      <td>0.119466</td>\n",
              "      <td>0.000000</td>\n",
              "      <td>0.0</td>\n",
              "      <td>0.0</td>\n",
              "      <td>0.0</td>\n",
              "      <td>0.0</td>\n",
              "      <td>0.0</td>\n",
              "    </tr>\n",
              "    <tr>\n",
              "      <th>7190</th>\n",
              "      <td>0.067317</td>\n",
              "      <td>1.042008</td>\n",
              "      <td>0.770872</td>\n",
              "      <td>0.263601</td>\n",
              "      <td>2.067010</td>\n",
              "      <td>0.238471</td>\n",
              "      <td>0.346966</td>\n",
              "      <td>3.346966</td>\n",
              "      <td>1.0</td>\n",
              "      <td>20.0</td>\n",
              "      <td>0.0</td>\n",
              "      <td>0.0</td>\n",
              "      <td>0.0</td>\n",
              "    </tr>\n",
              "    <tr>\n",
              "      <th>7191</th>\n",
              "      <td>-0.555519</td>\n",
              "      <td>0.015987</td>\n",
              "      <td>0.099584</td>\n",
              "      <td>-0.980766</td>\n",
              "      <td>0.056233</td>\n",
              "      <td>0.383981</td>\n",
              "      <td>0.000000</td>\n",
              "      <td>3.000000</td>\n",
              "      <td>1.0</td>\n",
              "      <td>10.0</td>\n",
              "      <td>0.0</td>\n",
              "      <td>0.0</td>\n",
              "      <td>0.0</td>\n",
              "    </tr>\n",
              "  </tbody>\n",
              "</table>\n",
              "<p>7192 rows × 13 columns</p>\n",
              "</div>"
            ],
            "text/plain": [
              "            0         1         3         4   ...    10   11   12   14\n",
              "0    -1.293724 -0.965269 -1.141808  0.408246  ...   0.0  0.0  0.0  0.0\n",
              "1    -0.350548  0.385375 -0.066835  0.809167  ...   0.0  0.0  0.0  0.0\n",
              "2    -0.105779  0.274039 -0.155990 -0.000071  ...  20.0  0.0  0.0  0.0\n",
              "3     1.285045 -0.192299  1.040208  0.776460  ...  30.0  0.0  0.0  0.0\n",
              "4    -0.350548  1.114066  0.191727 -0.630878  ...  23.0  0.0  0.0  0.0\n",
              "...        ...       ...       ...       ...  ...   ...  ...  ...  ...\n",
              "7187  0.498116 -0.014063 -0.772846 -0.364801  ...  20.0  0.0  0.0  0.0\n",
              "7188  1.380173 -0.892152  0.384842  1.329905  ...   0.0  0.0  0.0  0.0\n",
              "7189  0.398292  1.353765  0.715862  0.431004  ...   0.0  0.0  0.0  0.0\n",
              "7190  0.067317  1.042008  0.770872  0.263601  ...  20.0  0.0  0.0  0.0\n",
              "7191 -0.555519  0.015987  0.099584 -0.980766  ...  10.0  0.0  0.0  0.0\n",
              "\n",
              "[7192 rows x 13 columns]"
            ]
          },
          "metadata": {
            "tags": []
          },
          "execution_count": 152
        }
      ]
    },
    {
      "cell_type": "code",
      "metadata": {
        "id": "4lZNoguMf62y"
      },
      "source": [
        "Xd_train, Xd_test, yd_train, yd_test = train_test_split(X_res, y_res, random_state =42)"
      ],
      "execution_count": null,
      "outputs": []
    },
    {
      "cell_type": "code",
      "metadata": {
        "id": "3GkCXuI2gBlZ",
        "outputId": "6136245c-34fd-41ab-ac90-527e593d5859",
        "colab": {
          "base_uri": "https://localhost:8080/"
        }
      },
      "source": [
        "xgb.fit(Xd_train, yd_train)"
      ],
      "execution_count": null,
      "outputs": [
        {
          "output_type": "stream",
          "text": [
            "/usr/local/lib/python3.6/dist-packages/sklearn/preprocessing/_label.py:235: DataConversionWarning: A column-vector y was passed when a 1d array was expected. Please change the shape of y to (n_samples, ), for example using ravel().\n",
            "  y = column_or_1d(y, warn=True)\n",
            "/usr/local/lib/python3.6/dist-packages/sklearn/preprocessing/_label.py:268: DataConversionWarning: A column-vector y was passed when a 1d array was expected. Please change the shape of y to (n_samples, ), for example using ravel().\n",
            "  y = column_or_1d(y, warn=True)\n"
          ],
          "name": "stderr"
        },
        {
          "output_type": "execute_result",
          "data": {
            "text/plain": [
              "XGBClassifier(base_score=0.5, booster='gbtree', colsample_bylevel=1,\n",
              "              colsample_bynode=1, colsample_bytree=0.7, gamma=0.1,\n",
              "              learning_rate=0.2, max_delta_step=0, max_depth=15,\n",
              "              min_child_weight=1, missing=None, n_estimators=70, n_jobs=1,\n",
              "              nthread=None, objective='binary:logistic', random_state=0,\n",
              "              reg_alpha=0, reg_lambda=1, scale_pos_weight=1, seed=101,\n",
              "              silent=None, subsample=1, verbosity=1)"
            ]
          },
          "metadata": {
            "tags": []
          },
          "execution_count": 154
        }
      ]
    },
    {
      "cell_type": "code",
      "metadata": {
        "id": "MgvdBKiggH8x"
      },
      "source": [
        "predict = xgb.predict(Xd_test)"
      ],
      "execution_count": null,
      "outputs": []
    },
    {
      "cell_type": "code",
      "metadata": {
        "id": "euzjdfUkgL59",
        "outputId": "f500e939-b460-43d2-e3d9-da34ae861865",
        "colab": {
          "base_uri": "https://localhost:8080/"
        }
      },
      "source": [
        "f1_score(predict, yd_test)"
      ],
      "execution_count": null,
      "outputs": [
        {
          "output_type": "execute_result",
          "data": {
            "text/plain": [
              "0.8952270081490105"
            ]
          },
          "metadata": {
            "tags": []
          },
          "execution_count": 156
        }
      ]
    },
    {
      "cell_type": "code",
      "metadata": {
        "id": "MmjeSPTGgOyL"
      },
      "source": [
        "#After trying out feature selection using correlation matrix, we find out that the score does not increase.\n",
        "#So, our final score using XGBClassifier is    90.07 %."
      ],
      "execution_count": null,
      "outputs": []
    },
    {
      "cell_type": "markdown",
      "metadata": {
        "id": "DJp-ZMxmalhr"
      },
      "source": [
        "## **Final Score = 90.07%**"
      ]
    },
    {
      "cell_type": "markdown",
      "metadata": {
        "id": "FKnlcjQepvE8"
      },
      "source": [
        "### **Neural Network**"
      ]
    },
    {
      "cell_type": "code",
      "metadata": {
        "id": "ePWmszCIoPHR"
      },
      "source": [
        "import pandas as pd\n",
        "import numpy as np\n",
        "from sklearn import preprocessing\n",
        "from sklearn.model_selection import train_test_split\n",
        "import matplotlib.pyplot as plt"
      ],
      "execution_count": null,
      "outputs": []
    },
    {
      "cell_type": "code",
      "metadata": {
        "id": "RxkDEJzooP9E",
        "outputId": "ac96c2bc-c64e-45ac-d417-3530451f91e6",
        "colab": {
          "base_uri": "https://localhost:8080/"
        }
      },
      "source": [
        "from google.colab import drive\n",
        "drive.mount('/content/drive')"
      ],
      "execution_count": null,
      "outputs": [
        {
          "output_type": "stream",
          "text": [
            "Mounted at /content/drive\n"
          ],
          "name": "stdout"
        }
      ]
    },
    {
      "cell_type": "code",
      "metadata": {
        "id": "najlsXRVoQAM",
        "outputId": "4f0b4d64-5046-40d7-afd0-6d0cb5f0f61d",
        "colab": {
          "base_uri": "https://localhost:8080/",
          "height": 304
        }
      },
      "source": [
        "hack = pd.read_csv(\"/content/drive/My Drive/ML projects/reshackathon.csv\")\n",
        "hack.describe()"
      ],
      "execution_count": null,
      "outputs": [
        {
          "output_type": "execute_result",
          "data": {
            "text/html": [
              "<div>\n",
              "<style scoped>\n",
              "    .dataframe tbody tr th:only-of-type {\n",
              "        vertical-align: middle;\n",
              "    }\n",
              "\n",
              "    .dataframe tbody tr th {\n",
              "        vertical-align: top;\n",
              "    }\n",
              "\n",
              "    .dataframe thead th {\n",
              "        text-align: right;\n",
              "    }\n",
              "</style>\n",
              "<table border=\"1\" class=\"dataframe\">\n",
              "  <thead>\n",
              "    <tr style=\"text-align: right;\">\n",
              "      <th></th>\n",
              "      <th>Unnamed: 0</th>\n",
              "      <th>1</th>\n",
              "      <th>2</th>\n",
              "      <th>3</th>\n",
              "      <th>4</th>\n",
              "      <th>5</th>\n",
              "      <th>6</th>\n",
              "      <th>7</th>\n",
              "      <th>8</th>\n",
              "      <th>9</th>\n",
              "      <th>10</th>\n",
              "      <th>11</th>\n",
              "      <th>12</th>\n",
              "      <th>13</th>\n",
              "      <th>14</th>\n",
              "      <th>15</th>\n",
              "      <th>16</th>\n",
              "    </tr>\n",
              "  </thead>\n",
              "  <tbody>\n",
              "    <tr>\n",
              "      <th>count</th>\n",
              "      <td>7192.000000</td>\n",
              "      <td>7192.000000</td>\n",
              "      <td>7192.000000</td>\n",
              "      <td>7192.000000</td>\n",
              "      <td>7192.000000</td>\n",
              "      <td>7192.000000</td>\n",
              "      <td>7192.000000</td>\n",
              "      <td>7192.000000</td>\n",
              "      <td>7192.000000</td>\n",
              "      <td>7192.000000</td>\n",
              "      <td>7192.000000</td>\n",
              "      <td>7192.000000</td>\n",
              "      <td>7192.000000</td>\n",
              "      <td>7192.000000</td>\n",
              "      <td>7192.000000</td>\n",
              "      <td>7192.000000</td>\n",
              "      <td>7192.000000</td>\n",
              "    </tr>\n",
              "    <tr>\n",
              "      <th>mean</th>\n",
              "      <td>3595.500000</td>\n",
              "      <td>0.470292</td>\n",
              "      <td>4.458865</td>\n",
              "      <td>1.927498</td>\n",
              "      <td>0.500256</td>\n",
              "      <td>9.609273</td>\n",
              "      <td>0.038109</td>\n",
              "      <td>0.008899</td>\n",
              "      <td>0.386237</td>\n",
              "      <td>0.033529</td>\n",
              "      <td>7.728983</td>\n",
              "      <td>0.782949</td>\n",
              "      <td>2.120938</td>\n",
              "      <td>1.579333</td>\n",
              "      <td>2.886087</td>\n",
              "      <td>0.746158</td>\n",
              "      <td>0.500000</td>\n",
              "    </tr>\n",
              "    <tr>\n",
              "      <th>std</th>\n",
              "      <td>2076.295901</td>\n",
              "      <td>0.492846</td>\n",
              "      <td>0.211989</td>\n",
              "      <td>1.005547</td>\n",
              "      <td>0.499575</td>\n",
              "      <td>12.332136</td>\n",
              "      <td>0.185640</td>\n",
              "      <td>0.088739</td>\n",
              "      <td>0.481986</td>\n",
              "      <td>0.172490</td>\n",
              "      <td>0.335547</td>\n",
              "      <td>0.000303</td>\n",
              "      <td>0.025317</td>\n",
              "      <td>0.027125</td>\n",
              "      <td>0.060587</td>\n",
              "      <td>0.000482</td>\n",
              "      <td>0.500035</td>\n",
              "    </tr>\n",
              "    <tr>\n",
              "      <th>min</th>\n",
              "      <td>0.000000</td>\n",
              "      <td>0.000000</td>\n",
              "      <td>3.876497</td>\n",
              "      <td>1.000000</td>\n",
              "      <td>0.000000</td>\n",
              "      <td>0.000000</td>\n",
              "      <td>0.000000</td>\n",
              "      <td>0.000000</td>\n",
              "      <td>0.000000</td>\n",
              "      <td>0.000000</td>\n",
              "      <td>6.270154</td>\n",
              "      <td>0.781710</td>\n",
              "      <td>2.009503</td>\n",
              "      <td>1.471571</td>\n",
              "      <td>2.649799</td>\n",
              "      <td>0.742926</td>\n",
              "      <td>0.000000</td>\n",
              "    </tr>\n",
              "    <tr>\n",
              "      <th>25%</th>\n",
              "      <td>1797.750000</td>\n",
              "      <td>0.000000</td>\n",
              "      <td>4.305885</td>\n",
              "      <td>1.000000</td>\n",
              "      <td>0.000000</td>\n",
              "      <td>0.000000</td>\n",
              "      <td>0.000000</td>\n",
              "      <td>0.000000</td>\n",
              "      <td>0.000000</td>\n",
              "      <td>0.000000</td>\n",
              "      <td>7.513500</td>\n",
              "      <td>0.782741</td>\n",
              "      <td>2.104024</td>\n",
              "      <td>1.562354</td>\n",
              "      <td>2.845492</td>\n",
              "      <td>0.745915</td>\n",
              "      <td>0.000000</td>\n",
              "    </tr>\n",
              "    <tr>\n",
              "      <th>50%</th>\n",
              "      <td>3595.500000</td>\n",
              "      <td>0.000000</td>\n",
              "      <td>4.479886</td>\n",
              "      <td>2.000000</td>\n",
              "      <td>0.571761</td>\n",
              "      <td>0.571761</td>\n",
              "      <td>0.000000</td>\n",
              "      <td>0.000000</td>\n",
              "      <td>0.000000</td>\n",
              "      <td>0.000000</td>\n",
              "      <td>7.731311</td>\n",
              "      <td>0.782942</td>\n",
              "      <td>2.120431</td>\n",
              "      <td>1.580355</td>\n",
              "      <td>2.886139</td>\n",
              "      <td>0.746191</td>\n",
              "      <td>0.500000</td>\n",
              "    </tr>\n",
              "    <tr>\n",
              "      <th>75%</th>\n",
              "      <td>5393.250000</td>\n",
              "      <td>1.000000</td>\n",
              "      <td>4.631699</td>\n",
              "      <td>3.000000</td>\n",
              "      <td>1.000000</td>\n",
              "      <td>20.000000</td>\n",
              "      <td>0.000000</td>\n",
              "      <td>0.000000</td>\n",
              "      <td>1.000000</td>\n",
              "      <td>0.000000</td>\n",
              "      <td>7.951230</td>\n",
              "      <td>0.783167</td>\n",
              "      <td>2.137825</td>\n",
              "      <td>1.596950</td>\n",
              "      <td>2.923268</td>\n",
              "      <td>0.746391</td>\n",
              "      <td>1.000000</td>\n",
              "    </tr>\n",
              "    <tr>\n",
              "      <th>max</th>\n",
              "      <td>7191.000000</td>\n",
              "      <td>1.000000</td>\n",
              "      <td>4.876495</td>\n",
              "      <td>4.000000</td>\n",
              "      <td>1.000000</td>\n",
              "      <td>70.000000</td>\n",
              "      <td>1.000000</td>\n",
              "      <td>1.000000</td>\n",
              "      <td>1.000000</td>\n",
              "      <td>1.000000</td>\n",
              "      <td>9.084094</td>\n",
              "      <td>0.783801</td>\n",
              "      <td>2.208954</td>\n",
              "      <td>1.674422</td>\n",
              "      <td>3.104761</td>\n",
              "      <td>0.748082</td>\n",
              "      <td>1.000000</td>\n",
              "    </tr>\n",
              "  </tbody>\n",
              "</table>\n",
              "</div>"
            ],
            "text/plain": [
              "        Unnamed: 0            1  ...           15           16\n",
              "count  7192.000000  7192.000000  ...  7192.000000  7192.000000\n",
              "mean   3595.500000     0.470292  ...     0.746158     0.500000\n",
              "std    2076.295901     0.492846  ...     0.000482     0.500035\n",
              "min       0.000000     0.000000  ...     0.742926     0.000000\n",
              "25%    1797.750000     0.000000  ...     0.745915     0.000000\n",
              "50%    3595.500000     0.000000  ...     0.746191     0.500000\n",
              "75%    5393.250000     1.000000  ...     0.746391     1.000000\n",
              "max    7191.000000     1.000000  ...     0.748082     1.000000\n",
              "\n",
              "[8 rows x 17 columns]"
            ]
          },
          "metadata": {
            "tags": []
          },
          "execution_count": 12
        }
      ]
    },
    {
      "cell_type": "code",
      "metadata": {
        "id": "IizRxc3loQDZ",
        "outputId": "338228c6-b9e2-48d1-a035-a27fca12dc30",
        "colab": {
          "base_uri": "https://localhost:8080/"
        }
      },
      "source": [
        "dataset = hack.values\n",
        "x = dataset[:,1:16]\n",
        "x"
      ],
      "execution_count": null,
      "outputs": [
        {
          "output_type": "execute_result",
          "data": {
            "text/plain": [
              "array([[1.        , 4.12455274, 4.        , ..., 1.58898637, 2.91306014,\n",
              "        0.74608161],\n",
              "       [0.        , 4.33394551, 2.        , ..., 1.60044752, 2.98306326,\n",
              "        0.74604187],\n",
              "       [1.        , 4.38828626, 1.        , ..., 1.57731382, 2.88613946,\n",
              "        0.74577529],\n",
              "       ...,\n",
              "       [0.        , 4.75947808, 1.        , ..., 1.60616055, 2.77076556,\n",
              "        0.74604277],\n",
              "       [1.        , 4.31235151, 2.        , ..., 1.60200564, 2.95743773,\n",
              "        0.74665983],\n",
              "       [0.        , 4.5941135 , 3.        , ..., 1.56858217, 2.8761675 ,\n",
              "        0.74661133]])"
            ]
          },
          "metadata": {
            "tags": []
          },
          "execution_count": 13
        }
      ]
    },
    {
      "cell_type": "code",
      "metadata": {
        "id": "E33vOSK4oQGO",
        "outputId": "91593119-0a46-444f-f4d6-ded72ace03ed",
        "colab": {
          "base_uri": "https://localhost:8080/"
        }
      },
      "source": [
        "y = dataset[:,16]\n",
        "y"
      ],
      "execution_count": null,
      "outputs": [
        {
          "output_type": "execute_result",
          "data": {
            "text/plain": [
              "array([0., 0., 0., ..., 1., 1., 1.])"
            ]
          },
          "metadata": {
            "tags": []
          },
          "execution_count": 14
        }
      ]
    },
    {
      "cell_type": "code",
      "metadata": {
        "id": "qROlxThloQI_",
        "outputId": "206bb7d0-1877-4bc4-c7d7-522c821d190b",
        "colab": {
          "base_uri": "https://localhost:8080/"
        }
      },
      "source": [
        "min_max_scaler = preprocessing.MinMaxScaler()\n",
        "X_scale = min_max_scaler.fit_transform(x)\n",
        "X_scale"
      ],
      "execution_count": null,
      "outputs": [
        {
          "output_type": "execute_result",
          "data": {
            "text/plain": [
              "array([[1.        , 0.24805645, 1.        , ..., 0.57882471, 0.57864486,\n",
              "        0.61200005],\n",
              "       [0.        , 0.45744968, 0.33333333, ..., 0.63532488, 0.73251088,\n",
              "        0.604293  ],\n",
              "       [1.        , 0.51179054, 0.        , ..., 0.52128236, 0.51947351,\n",
              "        0.55259355],\n",
              "       ...,\n",
              "       [0.        , 0.88298317, 0.        , ..., 0.66348851, 0.26588303,\n",
              "        0.60446633],\n",
              "       [1.        , 0.43585562, 0.33333333, ..., 0.64300596, 0.67618626,\n",
              "        0.7241361 ],\n",
              "       [0.        , 0.71761824, 0.66666667, ..., 0.47823781, 0.49755525,\n",
              "        0.71472979]])"
            ]
          },
          "metadata": {
            "tags": []
          },
          "execution_count": 15
        }
      ]
    },
    {
      "cell_type": "code",
      "metadata": {
        "id": "id4y_4BToQLw",
        "outputId": "beedcc09-2142-4a6e-c386-e49f418e6e1f",
        "colab": {
          "base_uri": "https://localhost:8080/"
        }
      },
      "source": [
        "X_train, X_val_and_test, Y_train, Y_val_and_test = train_test_split(X_scale, y, test_size=0.3,random_state = 42)\n",
        "X_val, X_test, Y_val, Y_test = train_test_split(X_val_and_test, Y_val_and_test, test_size=0.5,random_state=42)\n",
        "print(X_train.shape, X_val.shape, X_test.shape, Y_train.shape, Y_val.shape, Y_test.shape)"
      ],
      "execution_count": null,
      "outputs": [
        {
          "output_type": "stream",
          "text": [
            "(5034, 15) (1079, 15) (1079, 15) (5034,) (1079,) (1079,)\n"
          ],
          "name": "stdout"
        }
      ]
    },
    {
      "cell_type": "code",
      "metadata": {
        "id": "1T3gRXgcoQOT"
      },
      "source": [
        "from keras.models import Sequential  \n",
        "from keras.layers import Dense\n",
        "from keras.layers import Dropout \n",
        "from keras import regularizers\n",
        "from keras.layers import BatchNormalization "
      ],
      "execution_count": null,
      "outputs": []
    },
    {
      "cell_type": "code",
      "metadata": {
        "id": "12xS8UncsQ9z"
      },
      "source": [
        "from keras.callbacks import EarlyStopping\n",
        "early_stopping = EarlyStopping(monitor='val_loss', \n",
        "    patience=8, \n",
        "    min_delta=0.001, \n",
        "    mode='min')"
      ],
      "execution_count": null,
      "outputs": []
    },
    {
      "cell_type": "code",
      "metadata": {
        "id": "7ydgz3TnoQRQ"
      },
      "source": [
        "model_3 = Sequential()\n",
        "model_3.add(Dense(64, activation='relu',kernel_regularizer=regularizers.l2(0.01), input_shape=(15,)))\n",
        "model_3.add(BatchNormalization())\n",
        "model_3.add(Dropout(0.3))\n",
        "model_3.add(Dense(64, activation='relu',kernel_regularizer=regularizers.l2(0.01)))\n",
        "model_3.add(BatchNormalization())\n",
        "#model_3.add(Dropout(0.3))\n",
        "model_3.add(Dense(64, activation='relu',kernel_regularizer=regularizers.l2(0.01)))\n",
        "model_3.add(BatchNormalization())\n",
        "model_3.add(Dense(1, activation='sigmoid'))"
      ],
      "execution_count": null,
      "outputs": []
    },
    {
      "cell_type": "code",
      "metadata": {
        "id": "kFZUlDnUoQUO"
      },
      "source": [
        "model_3.compile(optimizer='adam',loss='binary_crossentropy',metrics=['BinaryAccuracy'])"
      ],
      "execution_count": null,
      "outputs": []
    },
    {
      "cell_type": "code",
      "metadata": {
        "id": "6BVrGtJboQcI",
        "outputId": "1223e767-c072-4f17-b771-0cf7fb52ab18",
        "colab": {
          "base_uri": "https://localhost:8080/"
        }
      },
      "source": [
        "model_3.summary()"
      ],
      "execution_count": null,
      "outputs": [
        {
          "output_type": "stream",
          "text": [
            "Model: \"sequential\"\n",
            "_________________________________________________________________\n",
            "Layer (type)                 Output Shape              Param #   \n",
            "=================================================================\n",
            "dense (Dense)                (None, 64)                1024      \n",
            "_________________________________________________________________\n",
            "batch_normalization (BatchNo (None, 64)                256       \n",
            "_________________________________________________________________\n",
            "dropout (Dropout)            (None, 64)                0         \n",
            "_________________________________________________________________\n",
            "dense_1 (Dense)              (None, 64)                4160      \n",
            "_________________________________________________________________\n",
            "batch_normalization_1 (Batch (None, 64)                256       \n",
            "_________________________________________________________________\n",
            "dense_2 (Dense)              (None, 64)                4160      \n",
            "_________________________________________________________________\n",
            "batch_normalization_2 (Batch (None, 64)                256       \n",
            "_________________________________________________________________\n",
            "dense_3 (Dense)              (None, 1)                 65        \n",
            "=================================================================\n",
            "Total params: 10,177\n",
            "Trainable params: 9,793\n",
            "Non-trainable params: 384\n",
            "_________________________________________________________________\n"
          ],
          "name": "stdout"
        }
      ]
    },
    {
      "cell_type": "code",
      "metadata": {
        "id": "llQ3IERbuDGu",
        "outputId": "446b7821-7893-45e2-8d00-e8b85c339dc9",
        "colab": {
          "base_uri": "https://localhost:8080/"
        }
      },
      "source": [
        "hist = model_3.fit(X_train, Y_train,batch_size=64, epochs=150,validation_data=(X_val, Y_val))"
      ],
      "execution_count": null,
      "outputs": [
        {
          "output_type": "stream",
          "text": [
            "Epoch 1/150\n",
            "79/79 [==============================] - 1s 7ms/step - loss: 1.9759 - binary_accuracy: 0.6216 - val_loss: 1.7934 - val_binary_accuracy: 0.5116\n",
            "Epoch 2/150\n",
            "79/79 [==============================] - 0s 2ms/step - loss: 1.5900 - binary_accuracy: 0.6504 - val_loss: 1.5120 - val_binary_accuracy: 0.5505\n",
            "Epoch 3/150\n",
            "79/79 [==============================] - 0s 2ms/step - loss: 1.3508 - binary_accuracy: 0.6625 - val_loss: 1.3172 - val_binary_accuracy: 0.5894\n",
            "Epoch 4/150\n",
            "79/79 [==============================] - 0s 2ms/step - loss: 1.1924 - binary_accuracy: 0.6712 - val_loss: 1.1793 - val_binary_accuracy: 0.6006\n",
            "Epoch 5/150\n",
            "79/79 [==============================] - 0s 2ms/step - loss: 1.0706 - binary_accuracy: 0.6742 - val_loss: 1.0777 - val_binary_accuracy: 0.6089\n",
            "Epoch 6/150\n",
            "79/79 [==============================] - 0s 3ms/step - loss: 0.9788 - binary_accuracy: 0.6720 - val_loss: 0.9748 - val_binary_accuracy: 0.6571\n",
            "Epoch 7/150\n",
            "79/79 [==============================] - 0s 3ms/step - loss: 0.9096 - binary_accuracy: 0.6832 - val_loss: 0.9029 - val_binary_accuracy: 0.6552\n",
            "Epoch 8/150\n",
            "79/79 [==============================] - 0s 2ms/step - loss: 0.8505 - binary_accuracy: 0.6905 - val_loss: 0.8490 - val_binary_accuracy: 0.6487\n",
            "Epoch 9/150\n",
            "79/79 [==============================] - 0s 2ms/step - loss: 0.8058 - binary_accuracy: 0.6899 - val_loss: 0.8129 - val_binary_accuracy: 0.6673\n",
            "Epoch 10/150\n",
            "79/79 [==============================] - 0s 2ms/step - loss: 0.7799 - binary_accuracy: 0.6903 - val_loss: 0.7916 - val_binary_accuracy: 0.6617\n",
            "Epoch 11/150\n",
            "79/79 [==============================] - 0s 2ms/step - loss: 0.7500 - binary_accuracy: 0.6931 - val_loss: 0.7729 - val_binary_accuracy: 0.6608\n",
            "Epoch 12/150\n",
            "79/79 [==============================] - 0s 2ms/step - loss: 0.7272 - binary_accuracy: 0.6883 - val_loss: 0.7430 - val_binary_accuracy: 0.6784\n",
            "Epoch 13/150\n",
            "79/79 [==============================] - 0s 3ms/step - loss: 0.7024 - binary_accuracy: 0.6973 - val_loss: 0.7236 - val_binary_accuracy: 0.6756\n",
            "Epoch 14/150\n",
            "79/79 [==============================] - 0s 2ms/step - loss: 0.6860 - binary_accuracy: 0.6986 - val_loss: 0.7055 - val_binary_accuracy: 0.6830\n",
            "Epoch 15/150\n",
            "79/79 [==============================] - 0s 2ms/step - loss: 0.6768 - binary_accuracy: 0.7030 - val_loss: 0.6874 - val_binary_accuracy: 0.6914\n",
            "Epoch 16/150\n",
            "79/79 [==============================] - 0s 2ms/step - loss: 0.6692 - binary_accuracy: 0.6975 - val_loss: 0.6865 - val_binary_accuracy: 0.6645\n",
            "Epoch 17/150\n",
            "79/79 [==============================] - 0s 2ms/step - loss: 0.6550 - binary_accuracy: 0.7052 - val_loss: 0.6805 - val_binary_accuracy: 0.6728\n",
            "Epoch 18/150\n",
            "79/79 [==============================] - 0s 2ms/step - loss: 0.6519 - binary_accuracy: 0.6986 - val_loss: 0.6765 - val_binary_accuracy: 0.6719\n",
            "Epoch 19/150\n",
            "79/79 [==============================] - 0s 2ms/step - loss: 0.6467 - binary_accuracy: 0.7018 - val_loss: 0.6613 - val_binary_accuracy: 0.6756\n",
            "Epoch 20/150\n",
            "79/79 [==============================] - 0s 3ms/step - loss: 0.6471 - binary_accuracy: 0.7004 - val_loss: 0.6728 - val_binary_accuracy: 0.6654\n",
            "Epoch 21/150\n",
            "79/79 [==============================] - 0s 2ms/step - loss: 0.6333 - binary_accuracy: 0.7086 - val_loss: 0.6530 - val_binary_accuracy: 0.6858\n",
            "Epoch 22/150\n",
            "79/79 [==============================] - 0s 2ms/step - loss: 0.6342 - binary_accuracy: 0.6979 - val_loss: 0.6575 - val_binary_accuracy: 0.6608\n",
            "Epoch 23/150\n",
            "79/79 [==============================] - 0s 2ms/step - loss: 0.6255 - binary_accuracy: 0.7034 - val_loss: 0.6547 - val_binary_accuracy: 0.6849\n",
            "Epoch 24/150\n",
            "79/79 [==============================] - 0s 2ms/step - loss: 0.6213 - binary_accuracy: 0.7076 - val_loss: 0.6697 - val_binary_accuracy: 0.6534\n",
            "Epoch 25/150\n",
            "79/79 [==============================] - 0s 3ms/step - loss: 0.6154 - binary_accuracy: 0.7088 - val_loss: 0.6459 - val_binary_accuracy: 0.6867\n",
            "Epoch 26/150\n",
            "79/79 [==============================] - 0s 3ms/step - loss: 0.6207 - binary_accuracy: 0.7088 - val_loss: 0.6490 - val_binary_accuracy: 0.6710\n",
            "Epoch 27/150\n",
            "79/79 [==============================] - 0s 2ms/step - loss: 0.6197 - binary_accuracy: 0.7032 - val_loss: 0.6475 - val_binary_accuracy: 0.6793\n",
            "Epoch 28/150\n",
            "79/79 [==============================] - 0s 2ms/step - loss: 0.6128 - binary_accuracy: 0.7096 - val_loss: 0.6554 - val_binary_accuracy: 0.6589\n",
            "Epoch 29/150\n",
            "79/79 [==============================] - 0s 3ms/step - loss: 0.6195 - binary_accuracy: 0.7016 - val_loss: 0.6462 - val_binary_accuracy: 0.6766\n",
            "Epoch 30/150\n",
            "79/79 [==============================] - 0s 2ms/step - loss: 0.6033 - binary_accuracy: 0.7155 - val_loss: 0.6474 - val_binary_accuracy: 0.6951\n",
            "Epoch 31/150\n",
            "79/79 [==============================] - 0s 3ms/step - loss: 0.6086 - binary_accuracy: 0.7130 - val_loss: 0.6606 - val_binary_accuracy: 0.6747\n",
            "Epoch 32/150\n",
            "79/79 [==============================] - 0s 2ms/step - loss: 0.6051 - binary_accuracy: 0.7155 - val_loss: 0.6439 - val_binary_accuracy: 0.6728\n",
            "Epoch 33/150\n",
            "79/79 [==============================] - 0s 3ms/step - loss: 0.5998 - binary_accuracy: 0.7159 - val_loss: 0.6412 - val_binary_accuracy: 0.6775\n",
            "Epoch 34/150\n",
            "79/79 [==============================] - 0s 3ms/step - loss: 0.6024 - binary_accuracy: 0.7128 - val_loss: 0.6397 - val_binary_accuracy: 0.6858\n",
            "Epoch 35/150\n",
            "79/79 [==============================] - 0s 3ms/step - loss: 0.6043 - binary_accuracy: 0.7165 - val_loss: 0.6502 - val_binary_accuracy: 0.6812\n",
            "Epoch 36/150\n",
            "79/79 [==============================] - 0s 2ms/step - loss: 0.6033 - binary_accuracy: 0.7106 - val_loss: 0.6562 - val_binary_accuracy: 0.6728\n",
            "Epoch 37/150\n",
            "79/79 [==============================] - 0s 3ms/step - loss: 0.5999 - binary_accuracy: 0.7141 - val_loss: 0.6412 - val_binary_accuracy: 0.6867\n",
            "Epoch 38/150\n",
            "79/79 [==============================] - 0s 2ms/step - loss: 0.5948 - binary_accuracy: 0.7171 - val_loss: 0.6260 - val_binary_accuracy: 0.6988\n",
            "Epoch 39/150\n",
            "79/79 [==============================] - 0s 2ms/step - loss: 0.5988 - binary_accuracy: 0.7169 - val_loss: 0.6981 - val_binary_accuracy: 0.6423\n",
            "Epoch 40/150\n",
            "79/79 [==============================] - 0s 2ms/step - loss: 0.6010 - binary_accuracy: 0.7120 - val_loss: 0.6283 - val_binary_accuracy: 0.6951\n",
            "Epoch 41/150\n",
            "79/79 [==============================] - 0s 2ms/step - loss: 0.5950 - binary_accuracy: 0.7171 - val_loss: 0.6433 - val_binary_accuracy: 0.6867\n",
            "Epoch 42/150\n",
            "79/79 [==============================] - 0s 3ms/step - loss: 0.5942 - binary_accuracy: 0.7211 - val_loss: 0.6482 - val_binary_accuracy: 0.6775\n",
            "Epoch 43/150\n",
            "79/79 [==============================] - 0s 2ms/step - loss: 0.5938 - binary_accuracy: 0.7159 - val_loss: 0.6298 - val_binary_accuracy: 0.6719\n",
            "Epoch 44/150\n",
            "79/79 [==============================] - 0s 3ms/step - loss: 0.5949 - binary_accuracy: 0.7133 - val_loss: 0.6602 - val_binary_accuracy: 0.6386\n",
            "Epoch 45/150\n",
            "79/79 [==============================] - 0s 3ms/step - loss: 0.5950 - binary_accuracy: 0.7165 - val_loss: 0.6206 - val_binary_accuracy: 0.6803\n",
            "Epoch 46/150\n",
            "79/79 [==============================] - 0s 3ms/step - loss: 0.5910 - binary_accuracy: 0.7177 - val_loss: 0.6411 - val_binary_accuracy: 0.6738\n",
            "Epoch 47/150\n",
            "79/79 [==============================] - 0s 3ms/step - loss: 0.5955 - binary_accuracy: 0.7163 - val_loss: 0.6907 - val_binary_accuracy: 0.6627\n",
            "Epoch 48/150\n",
            "79/79 [==============================] - 0s 3ms/step - loss: 0.5991 - binary_accuracy: 0.7147 - val_loss: 0.6249 - val_binary_accuracy: 0.6905\n",
            "Epoch 49/150\n",
            "79/79 [==============================] - 0s 2ms/step - loss: 0.5989 - binary_accuracy: 0.7161 - val_loss: 0.6361 - val_binary_accuracy: 0.6886\n",
            "Epoch 50/150\n",
            "79/79 [==============================] - 0s 3ms/step - loss: 0.5906 - binary_accuracy: 0.7189 - val_loss: 0.6374 - val_binary_accuracy: 0.6969\n",
            "Epoch 51/150\n",
            "79/79 [==============================] - 0s 2ms/step - loss: 0.5835 - binary_accuracy: 0.7203 - val_loss: 0.6265 - val_binary_accuracy: 0.6942\n",
            "Epoch 52/150\n",
            "79/79 [==============================] - 0s 2ms/step - loss: 0.5874 - binary_accuracy: 0.7179 - val_loss: 0.6371 - val_binary_accuracy: 0.6821\n",
            "Epoch 53/150\n",
            "79/79 [==============================] - 0s 3ms/step - loss: 0.5824 - binary_accuracy: 0.7251 - val_loss: 0.6328 - val_binary_accuracy: 0.6914\n",
            "Epoch 54/150\n",
            "79/79 [==============================] - 0s 2ms/step - loss: 0.5847 - binary_accuracy: 0.7257 - val_loss: 0.6633 - val_binary_accuracy: 0.6580\n",
            "Epoch 55/150\n",
            "79/79 [==============================] - 0s 3ms/step - loss: 0.5911 - binary_accuracy: 0.7209 - val_loss: 0.6235 - val_binary_accuracy: 0.6923\n",
            "Epoch 56/150\n",
            "79/79 [==============================] - 0s 2ms/step - loss: 0.5921 - binary_accuracy: 0.7155 - val_loss: 0.6226 - val_binary_accuracy: 0.6951\n",
            "Epoch 57/150\n",
            "79/79 [==============================] - 0s 2ms/step - loss: 0.5867 - binary_accuracy: 0.7187 - val_loss: 0.6250 - val_binary_accuracy: 0.6877\n",
            "Epoch 58/150\n",
            "79/79 [==============================] - 0s 3ms/step - loss: 0.5878 - binary_accuracy: 0.7263 - val_loss: 0.6167 - val_binary_accuracy: 0.6951\n",
            "Epoch 59/150\n",
            "79/79 [==============================] - 0s 3ms/step - loss: 0.5907 - binary_accuracy: 0.7165 - val_loss: 0.6684 - val_binary_accuracy: 0.6812\n",
            "Epoch 60/150\n",
            "79/79 [==============================] - 0s 3ms/step - loss: 0.5779 - binary_accuracy: 0.7269 - val_loss: 0.6323 - val_binary_accuracy: 0.6812\n",
            "Epoch 61/150\n",
            "79/79 [==============================] - 0s 3ms/step - loss: 0.5814 - binary_accuracy: 0.7201 - val_loss: 0.6294 - val_binary_accuracy: 0.6867\n",
            "Epoch 62/150\n",
            "79/79 [==============================] - 0s 3ms/step - loss: 0.5874 - binary_accuracy: 0.7197 - val_loss: 0.6630 - val_binary_accuracy: 0.6552\n",
            "Epoch 63/150\n",
            "79/79 [==============================] - 0s 3ms/step - loss: 0.5710 - binary_accuracy: 0.7398 - val_loss: 0.6697 - val_binary_accuracy: 0.6367\n",
            "Epoch 64/150\n",
            "79/79 [==============================] - 0s 3ms/step - loss: 0.5867 - binary_accuracy: 0.7197 - val_loss: 0.6285 - val_binary_accuracy: 0.6923\n",
            "Epoch 65/150\n",
            "79/79 [==============================] - 0s 3ms/step - loss: 0.5841 - binary_accuracy: 0.7245 - val_loss: 0.6256 - val_binary_accuracy: 0.6793\n",
            "Epoch 66/150\n",
            "79/79 [==============================] - 0s 3ms/step - loss: 0.5830 - binary_accuracy: 0.7271 - val_loss: 0.6059 - val_binary_accuracy: 0.7118\n",
            "Epoch 67/150\n",
            "79/79 [==============================] - 0s 3ms/step - loss: 0.5841 - binary_accuracy: 0.7245 - val_loss: 0.6469 - val_binary_accuracy: 0.6895\n",
            "Epoch 68/150\n",
            "79/79 [==============================] - 0s 3ms/step - loss: 0.5782 - binary_accuracy: 0.7271 - val_loss: 0.6290 - val_binary_accuracy: 0.6840\n",
            "Epoch 69/150\n",
            "79/79 [==============================] - 0s 3ms/step - loss: 0.5785 - binary_accuracy: 0.7304 - val_loss: 0.6217 - val_binary_accuracy: 0.6951\n",
            "Epoch 70/150\n",
            "79/79 [==============================] - 0s 3ms/step - loss: 0.5796 - binary_accuracy: 0.7277 - val_loss: 0.6542 - val_binary_accuracy: 0.6923\n",
            "Epoch 71/150\n",
            "79/79 [==============================] - 0s 3ms/step - loss: 0.5812 - binary_accuracy: 0.7241 - val_loss: 0.6328 - val_binary_accuracy: 0.6793\n",
            "Epoch 72/150\n",
            "79/79 [==============================] - 0s 3ms/step - loss: 0.5804 - binary_accuracy: 0.7261 - val_loss: 0.6525 - val_binary_accuracy: 0.6654\n",
            "Epoch 73/150\n",
            "79/79 [==============================] - 0s 3ms/step - loss: 0.5784 - binary_accuracy: 0.7259 - val_loss: 0.6292 - val_binary_accuracy: 0.7034\n",
            "Epoch 74/150\n",
            "79/79 [==============================] - 0s 3ms/step - loss: 0.5780 - binary_accuracy: 0.7302 - val_loss: 0.6228 - val_binary_accuracy: 0.6923\n",
            "Epoch 75/150\n",
            "79/79 [==============================] - 0s 3ms/step - loss: 0.5648 - binary_accuracy: 0.7382 - val_loss: 0.6085 - val_binary_accuracy: 0.6997\n",
            "Epoch 76/150\n",
            "79/79 [==============================] - 0s 3ms/step - loss: 0.5802 - binary_accuracy: 0.7199 - val_loss: 0.6084 - val_binary_accuracy: 0.7081\n",
            "Epoch 77/150\n",
            "79/79 [==============================] - 0s 3ms/step - loss: 0.5787 - binary_accuracy: 0.7304 - val_loss: 0.6196 - val_binary_accuracy: 0.6960\n",
            "Epoch 78/150\n",
            "79/79 [==============================] - 0s 3ms/step - loss: 0.5697 - binary_accuracy: 0.7378 - val_loss: 0.6205 - val_binary_accuracy: 0.7053\n",
            "Epoch 79/150\n",
            "79/79 [==============================] - 0s 3ms/step - loss: 0.5705 - binary_accuracy: 0.7336 - val_loss: 0.6587 - val_binary_accuracy: 0.6821\n",
            "Epoch 80/150\n",
            "79/79 [==============================] - 0s 3ms/step - loss: 0.5661 - binary_accuracy: 0.7352 - val_loss: 0.6347 - val_binary_accuracy: 0.7062\n",
            "Epoch 81/150\n",
            "79/79 [==============================] - 0s 3ms/step - loss: 0.5661 - binary_accuracy: 0.7384 - val_loss: 0.6334 - val_binary_accuracy: 0.6886\n",
            "Epoch 82/150\n",
            "79/79 [==============================] - 0s 3ms/step - loss: 0.5719 - binary_accuracy: 0.7344 - val_loss: 0.6186 - val_binary_accuracy: 0.6960\n",
            "Epoch 83/150\n",
            "79/79 [==============================] - 0s 3ms/step - loss: 0.5751 - binary_accuracy: 0.7300 - val_loss: 0.6618 - val_binary_accuracy: 0.6701\n",
            "Epoch 84/150\n",
            "79/79 [==============================] - 0s 3ms/step - loss: 0.5768 - binary_accuracy: 0.7239 - val_loss: 0.6063 - val_binary_accuracy: 0.7081\n",
            "Epoch 85/150\n",
            "79/79 [==============================] - 0s 3ms/step - loss: 0.5598 - binary_accuracy: 0.7364 - val_loss: 0.6039 - val_binary_accuracy: 0.7062\n",
            "Epoch 86/150\n",
            "79/79 [==============================] - 0s 3ms/step - loss: 0.5771 - binary_accuracy: 0.7284 - val_loss: 0.6400 - val_binary_accuracy: 0.7044\n",
            "Epoch 87/150\n",
            "79/79 [==============================] - 0s 3ms/step - loss: 0.5732 - binary_accuracy: 0.7312 - val_loss: 0.5857 - val_binary_accuracy: 0.7285\n",
            "Epoch 88/150\n",
            "79/79 [==============================] - 0s 3ms/step - loss: 0.5738 - binary_accuracy: 0.7340 - val_loss: 0.6003 - val_binary_accuracy: 0.7229\n",
            "Epoch 89/150\n",
            "79/79 [==============================] - 0s 3ms/step - loss: 0.5610 - binary_accuracy: 0.7429 - val_loss: 0.5971 - val_binary_accuracy: 0.7118\n",
            "Epoch 90/150\n",
            "79/79 [==============================] - 0s 3ms/step - loss: 0.5692 - binary_accuracy: 0.7388 - val_loss: 0.6418 - val_binary_accuracy: 0.6877\n",
            "Epoch 91/150\n",
            "79/79 [==============================] - 0s 3ms/step - loss: 0.5727 - binary_accuracy: 0.7338 - val_loss: 0.6013 - val_binary_accuracy: 0.7331\n",
            "Epoch 92/150\n",
            "79/79 [==============================] - 0s 3ms/step - loss: 0.5641 - binary_accuracy: 0.7414 - val_loss: 0.6177 - val_binary_accuracy: 0.7173\n",
            "Epoch 93/150\n",
            "79/79 [==============================] - 0s 3ms/step - loss: 0.5719 - binary_accuracy: 0.7330 - val_loss: 0.6143 - val_binary_accuracy: 0.7062\n",
            "Epoch 94/150\n",
            "79/79 [==============================] - 0s 3ms/step - loss: 0.5699 - binary_accuracy: 0.7388 - val_loss: 0.6256 - val_binary_accuracy: 0.7081\n",
            "Epoch 95/150\n",
            "79/79 [==============================] - 0s 3ms/step - loss: 0.5687 - binary_accuracy: 0.7386 - val_loss: 0.6435 - val_binary_accuracy: 0.6905\n",
            "Epoch 96/150\n",
            "79/79 [==============================] - 0s 3ms/step - loss: 0.5654 - binary_accuracy: 0.7418 - val_loss: 0.6331 - val_binary_accuracy: 0.6932\n",
            "Epoch 97/150\n",
            "79/79 [==============================] - 0s 3ms/step - loss: 0.5619 - binary_accuracy: 0.7406 - val_loss: 0.6044 - val_binary_accuracy: 0.7210\n",
            "Epoch 98/150\n",
            "79/79 [==============================] - 0s 3ms/step - loss: 0.5603 - binary_accuracy: 0.7402 - val_loss: 0.5864 - val_binary_accuracy: 0.7285\n",
            "Epoch 99/150\n",
            "79/79 [==============================] - 0s 3ms/step - loss: 0.5710 - binary_accuracy: 0.7332 - val_loss: 0.6014 - val_binary_accuracy: 0.7229\n",
            "Epoch 100/150\n",
            "79/79 [==============================] - 0s 3ms/step - loss: 0.5596 - binary_accuracy: 0.7382 - val_loss: 0.6417 - val_binary_accuracy: 0.6923\n",
            "Epoch 101/150\n",
            "79/79 [==============================] - 0s 3ms/step - loss: 0.5634 - binary_accuracy: 0.7422 - val_loss: 0.6186 - val_binary_accuracy: 0.7099\n",
            "Epoch 102/150\n",
            "79/79 [==============================] - 0s 3ms/step - loss: 0.5588 - binary_accuracy: 0.7469 - val_loss: 0.6023 - val_binary_accuracy: 0.7136\n",
            "Epoch 103/150\n",
            "79/79 [==============================] - 0s 3ms/step - loss: 0.5622 - binary_accuracy: 0.7463 - val_loss: 0.6256 - val_binary_accuracy: 0.6812\n",
            "Epoch 104/150\n",
            "79/79 [==============================] - 0s 3ms/step - loss: 0.5598 - binary_accuracy: 0.7501 - val_loss: 0.6143 - val_binary_accuracy: 0.7025\n",
            "Epoch 105/150\n",
            "79/79 [==============================] - 0s 3ms/step - loss: 0.5674 - binary_accuracy: 0.7350 - val_loss: 0.6276 - val_binary_accuracy: 0.6951\n",
            "Epoch 106/150\n",
            "79/79 [==============================] - 0s 3ms/step - loss: 0.5597 - binary_accuracy: 0.7441 - val_loss: 0.6080 - val_binary_accuracy: 0.7192\n",
            "Epoch 107/150\n",
            "79/79 [==============================] - 0s 3ms/step - loss: 0.5679 - binary_accuracy: 0.7358 - val_loss: 0.6312 - val_binary_accuracy: 0.7053\n",
            "Epoch 108/150\n",
            "79/79 [==============================] - 0s 3ms/step - loss: 0.5568 - binary_accuracy: 0.7459 - val_loss: 0.6250 - val_binary_accuracy: 0.6932\n",
            "Epoch 109/150\n",
            "79/79 [==============================] - 0s 3ms/step - loss: 0.5596 - binary_accuracy: 0.7433 - val_loss: 0.6131 - val_binary_accuracy: 0.6932\n",
            "Epoch 110/150\n",
            "79/79 [==============================] - 0s 3ms/step - loss: 0.5637 - binary_accuracy: 0.7431 - val_loss: 0.6177 - val_binary_accuracy: 0.7053\n",
            "Epoch 111/150\n",
            "79/79 [==============================] - 0s 3ms/step - loss: 0.5623 - binary_accuracy: 0.7414 - val_loss: 0.6183 - val_binary_accuracy: 0.6905\n",
            "Epoch 112/150\n",
            "79/79 [==============================] - 0s 3ms/step - loss: 0.5676 - binary_accuracy: 0.7358 - val_loss: 0.5953 - val_binary_accuracy: 0.7183\n",
            "Epoch 113/150\n",
            "79/79 [==============================] - 0s 3ms/step - loss: 0.5640 - binary_accuracy: 0.7435 - val_loss: 0.6004 - val_binary_accuracy: 0.7229\n",
            "Epoch 114/150\n",
            "79/79 [==============================] - 0s 3ms/step - loss: 0.5657 - binary_accuracy: 0.7368 - val_loss: 0.6400 - val_binary_accuracy: 0.6951\n",
            "Epoch 115/150\n",
            "79/79 [==============================] - 0s 3ms/step - loss: 0.5647 - binary_accuracy: 0.7382 - val_loss: 0.6515 - val_binary_accuracy: 0.6728\n",
            "Epoch 116/150\n",
            "79/79 [==============================] - 0s 3ms/step - loss: 0.5770 - binary_accuracy: 0.7282 - val_loss: 0.6148 - val_binary_accuracy: 0.7044\n",
            "Epoch 117/150\n",
            "79/79 [==============================] - 0s 3ms/step - loss: 0.5592 - binary_accuracy: 0.7473 - val_loss: 0.6084 - val_binary_accuracy: 0.7164\n",
            "Epoch 118/150\n",
            "79/79 [==============================] - 0s 2ms/step - loss: 0.5643 - binary_accuracy: 0.7404 - val_loss: 0.6081 - val_binary_accuracy: 0.7034\n",
            "Epoch 119/150\n",
            "79/79 [==============================] - 0s 3ms/step - loss: 0.5605 - binary_accuracy: 0.7372 - val_loss: 0.5895 - val_binary_accuracy: 0.7322\n",
            "Epoch 120/150\n",
            "79/79 [==============================] - 0s 3ms/step - loss: 0.5560 - binary_accuracy: 0.7519 - val_loss: 0.6281 - val_binary_accuracy: 0.6867\n",
            "Epoch 121/150\n",
            "79/79 [==============================] - 0s 3ms/step - loss: 0.5669 - binary_accuracy: 0.7362 - val_loss: 0.6293 - val_binary_accuracy: 0.6877\n",
            "Epoch 122/150\n",
            "79/79 [==============================] - 0s 3ms/step - loss: 0.5620 - binary_accuracy: 0.7515 - val_loss: 0.6086 - val_binary_accuracy: 0.7164\n",
            "Epoch 123/150\n",
            "79/79 [==============================] - 0s 3ms/step - loss: 0.5534 - binary_accuracy: 0.7495 - val_loss: 0.5925 - val_binary_accuracy: 0.7099\n",
            "Epoch 124/150\n",
            "79/79 [==============================] - 0s 2ms/step - loss: 0.5549 - binary_accuracy: 0.7531 - val_loss: 0.5997 - val_binary_accuracy: 0.7201\n",
            "Epoch 125/150\n",
            "79/79 [==============================] - 0s 3ms/step - loss: 0.5655 - binary_accuracy: 0.7372 - val_loss: 0.5999 - val_binary_accuracy: 0.7183\n",
            "Epoch 126/150\n",
            "79/79 [==============================] - 0s 3ms/step - loss: 0.5543 - binary_accuracy: 0.7481 - val_loss: 0.6103 - val_binary_accuracy: 0.7155\n",
            "Epoch 127/150\n",
            "79/79 [==============================] - 0s 3ms/step - loss: 0.5517 - binary_accuracy: 0.7557 - val_loss: 0.6064 - val_binary_accuracy: 0.7359\n",
            "Epoch 128/150\n",
            "79/79 [==============================] - 0s 3ms/step - loss: 0.5609 - binary_accuracy: 0.7449 - val_loss: 0.5797 - val_binary_accuracy: 0.7433\n",
            "Epoch 129/150\n",
            "79/79 [==============================] - 0s 3ms/step - loss: 0.5552 - binary_accuracy: 0.7537 - val_loss: 0.6345 - val_binary_accuracy: 0.7071\n",
            "Epoch 130/150\n",
            "79/79 [==============================] - 0s 3ms/step - loss: 0.5624 - binary_accuracy: 0.7473 - val_loss: 0.5969 - val_binary_accuracy: 0.7275\n",
            "Epoch 131/150\n",
            "79/79 [==============================] - 0s 3ms/step - loss: 0.5609 - binary_accuracy: 0.7485 - val_loss: 0.5938 - val_binary_accuracy: 0.7210\n",
            "Epoch 132/150\n",
            "79/79 [==============================] - 0s 3ms/step - loss: 0.5675 - binary_accuracy: 0.7370 - val_loss: 0.6005 - val_binary_accuracy: 0.7220\n",
            "Epoch 133/150\n",
            "79/79 [==============================] - 0s 3ms/step - loss: 0.5587 - binary_accuracy: 0.7459 - val_loss: 0.6034 - val_binary_accuracy: 0.7164\n",
            "Epoch 134/150\n",
            "79/79 [==============================] - 0s 3ms/step - loss: 0.5597 - binary_accuracy: 0.7483 - val_loss: 0.5934 - val_binary_accuracy: 0.7127\n",
            "Epoch 135/150\n",
            "79/79 [==============================] - 0s 3ms/step - loss: 0.5643 - binary_accuracy: 0.7479 - val_loss: 0.5801 - val_binary_accuracy: 0.7266\n",
            "Epoch 136/150\n",
            "79/79 [==============================] - 0s 2ms/step - loss: 0.5596 - binary_accuracy: 0.7513 - val_loss: 0.6050 - val_binary_accuracy: 0.7118\n",
            "Epoch 137/150\n",
            "79/79 [==============================] - 0s 3ms/step - loss: 0.5493 - binary_accuracy: 0.7598 - val_loss: 0.5891 - val_binary_accuracy: 0.7294\n",
            "Epoch 138/150\n",
            "79/79 [==============================] - 0s 3ms/step - loss: 0.5608 - binary_accuracy: 0.7515 - val_loss: 0.6012 - val_binary_accuracy: 0.7210\n",
            "Epoch 139/150\n",
            "79/79 [==============================] - 0s 3ms/step - loss: 0.5651 - binary_accuracy: 0.7400 - val_loss: 0.5924 - val_binary_accuracy: 0.7173\n",
            "Epoch 140/150\n",
            "79/79 [==============================] - 0s 3ms/step - loss: 0.5544 - binary_accuracy: 0.7539 - val_loss: 0.6358 - val_binary_accuracy: 0.6951\n",
            "Epoch 141/150\n",
            "79/79 [==============================] - 0s 3ms/step - loss: 0.5648 - binary_accuracy: 0.7457 - val_loss: 0.5944 - val_binary_accuracy: 0.7275\n",
            "Epoch 142/150\n",
            "79/79 [==============================] - 0s 3ms/step - loss: 0.5519 - binary_accuracy: 0.7582 - val_loss: 0.6054 - val_binary_accuracy: 0.7285\n",
            "Epoch 143/150\n",
            "79/79 [==============================] - 0s 2ms/step - loss: 0.5447 - binary_accuracy: 0.7638 - val_loss: 0.5998 - val_binary_accuracy: 0.7433\n",
            "Epoch 144/150\n",
            "79/79 [==============================] - 0s 3ms/step - loss: 0.5534 - binary_accuracy: 0.7521 - val_loss: 0.5932 - val_binary_accuracy: 0.7322\n",
            "Epoch 145/150\n",
            "79/79 [==============================] - 0s 3ms/step - loss: 0.5575 - binary_accuracy: 0.7441 - val_loss: 0.6030 - val_binary_accuracy: 0.7173\n",
            "Epoch 146/150\n",
            "79/79 [==============================] - 0s 3ms/step - loss: 0.5555 - binary_accuracy: 0.7445 - val_loss: 0.6072 - val_binary_accuracy: 0.7331\n",
            "Epoch 147/150\n",
            "79/79 [==============================] - 0s 3ms/step - loss: 0.5581 - binary_accuracy: 0.7449 - val_loss: 0.5999 - val_binary_accuracy: 0.7201\n",
            "Epoch 148/150\n",
            "79/79 [==============================] - 0s 3ms/step - loss: 0.5444 - binary_accuracy: 0.7606 - val_loss: 0.6284 - val_binary_accuracy: 0.7044\n",
            "Epoch 149/150\n",
            "79/79 [==============================] - 0s 3ms/step - loss: 0.5506 - binary_accuracy: 0.7541 - val_loss: 0.6387 - val_binary_accuracy: 0.6969\n",
            "Epoch 150/150\n",
            "79/79 [==============================] - 0s 3ms/step - loss: 0.5623 - binary_accuracy: 0.7431 - val_loss: 0.6313 - val_binary_accuracy: 0.6997\n"
          ],
          "name": "stdout"
        }
      ]
    },
    {
      "cell_type": "code",
      "metadata": {
        "id": "laNWAAz0uDY-",
        "outputId": "78da6908-de16-4752-e12d-4798150a2a23",
        "colab": {
          "base_uri": "https://localhost:8080/",
          "height": 295
        }
      },
      "source": [
        "plt.plot(hist.history['loss'])\n",
        "plt.plot(hist.history['val_loss'])\n",
        "plt.title('Model loss')\n",
        "plt.ylabel('Loss')\n",
        "plt.xlabel('Epoch')\n",
        "plt.legend(['Train', 'Val'], loc='upper right')\n",
        "plt.show()"
      ],
      "execution_count": null,
      "outputs": [
        {
          "output_type": "display_data",
          "data": {
            "image/png": "[encoded data removed]",
            "text/plain": [
              "<Figure size 432x288 with 1 Axes>"
            ]
          },
          "metadata": {
            "tags": [],
            "needs_background": "light"
          }
        }
      ]
    },
    {
      "cell_type": "code",
      "metadata": {
        "id": "k9WRqFFNuDyh",
        "outputId": "e2e3994f-717b-4940-8c6b-5bd932c6f0b5",
        "colab": {
          "base_uri": "https://localhost:8080/",
          "height": 295
        }
      },
      "source": [
        "plt.plot(hist.history['binary_accuracy'])\n",
        "plt.plot(hist.history['val_binary_accuracy'])\n",
        "plt.title('Model accuracy')\n",
        "plt.ylabel('Accuracy')\n",
        "plt.xlabel('Epoch')\n",
        "plt.legend(['Train', 'Val'], loc='lower right')\n",
        "plt.show()"
      ],
      "execution_count": null,
      "outputs": [
        {
          "output_type": "display_data",
          "data": {
            "image/png": "[encoded data removed]",
            "text/plain": [
              "<Figure size 432x288 with 1 Axes>"
            ]
          },
          "metadata": {
            "tags": [],
            "needs_background": "light"
          }
        }
      ]
    },
    {
      "cell_type": "code",
      "metadata": {
        "id": "P2wsWtNWuEFy",
        "outputId": "140b0eeb-d20e-4ae4-b9e9-5226cd663b35",
        "colab": {
          "base_uri": "https://localhost:8080/"
        }
      },
      "source": [
        "model_3.evaluate(X_test, Y_test)[1]\n",
        "#Deep learning gives a lower accuracy"
      ],
      "execution_count": null,
      "outputs": [
        {
          "output_type": "stream",
          "text": [
            "34/34 [==============================] - 0s 1ms/step - loss: 0.5725 - binary_accuracy: 0.7600\n"
          ],
          "name": "stdout"
        },
        {
          "output_type": "execute_result",
          "data": {
            "text/plain": [
              "0.7599629163742065"
            ]
          },
          "metadata": {
            "tags": []
          },
          "execution_count": 25
        }
      ]
    },
    {
      "cell_type": "markdown",
      "metadata": {
        "id": "44PNXE--zxEx"
      },
      "source": [
        "## **Final Score = 90.07**"
      ]
    },
    {
      "cell_type": "code",
      "metadata": {
        "id": "68U4Bmv2uEL7"
      },
      "source": [
        ""
      ],
      "execution_count": null,
      "outputs": []
    },
    {
      "cell_type": "code",
      "metadata": {
        "id": "gwbFu-z1uEO-"
      },
      "source": [
        ""
      ],
      "execution_count": null,
      "outputs": []
    }
  ]
}